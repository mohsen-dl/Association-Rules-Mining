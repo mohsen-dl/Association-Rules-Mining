{
 "cells": [
  {
   "cell_type": "code",
   "execution_count": 57,
   "id": "029c7b52",
   "metadata": {},
   "outputs": [],
   "source": [
    "import matplotlib.pyplot as plt\n",
    "import pandas as pd\n",
    "from apyori import apriori\n",
    "import codecs\n",
    "import utils"
   ]
  },
  {
   "cell_type": "code",
   "execution_count": 58,
   "id": "b0e36957",
   "metadata": {},
   "outputs": [
    {
     "data": {
      "text/html": [
       "<div>\n",
       "<style scoped>\n",
       "    .dataframe tbody tr th:only-of-type {\n",
       "        vertical-align: middle;\n",
       "    }\n",
       "\n",
       "    .dataframe tbody tr th {\n",
       "        vertical-align: top;\n",
       "    }\n",
       "\n",
       "    .dataframe thead th {\n",
       "        text-align: right;\n",
       "    }\n",
       "</style>\n",
       "<table border=\"1\" class=\"dataframe\">\n",
       "  <thead>\n",
       "    <tr style=\"text-align: right;\">\n",
       "      <th></th>\n",
       "      <th>Temperature</th>\n",
       "      <th>Occurrence of nausea</th>\n",
       "      <th>Lumbar pain</th>\n",
       "      <th>Urine pushing</th>\n",
       "      <th>Micturition pains</th>\n",
       "      <th>Burning of urethra</th>\n",
       "      <th>Inflammation of urinary bladder</th>\n",
       "      <th>Nephritis of renal pelvis origin</th>\n",
       "    </tr>\n",
       "  </thead>\n",
       "  <tbody>\n",
       "    <tr>\n",
       "      <th>0</th>\n",
       "      <td>35,5</td>\n",
       "      <td>no</td>\n",
       "      <td>yes</td>\n",
       "      <td>no</td>\n",
       "      <td>no</td>\n",
       "      <td>no</td>\n",
       "      <td>no</td>\n",
       "      <td>no</td>\n",
       "    </tr>\n",
       "    <tr>\n",
       "      <th>1</th>\n",
       "      <td>35,9</td>\n",
       "      <td>no</td>\n",
       "      <td>no</td>\n",
       "      <td>yes</td>\n",
       "      <td>yes</td>\n",
       "      <td>yes</td>\n",
       "      <td>yes</td>\n",
       "      <td>no</td>\n",
       "    </tr>\n",
       "    <tr>\n",
       "      <th>2</th>\n",
       "      <td>35,9</td>\n",
       "      <td>no</td>\n",
       "      <td>yes</td>\n",
       "      <td>no</td>\n",
       "      <td>no</td>\n",
       "      <td>no</td>\n",
       "      <td>no</td>\n",
       "      <td>no</td>\n",
       "    </tr>\n",
       "    <tr>\n",
       "      <th>3</th>\n",
       "      <td>36,0</td>\n",
       "      <td>no</td>\n",
       "      <td>no</td>\n",
       "      <td>yes</td>\n",
       "      <td>yes</td>\n",
       "      <td>yes</td>\n",
       "      <td>yes</td>\n",
       "      <td>no</td>\n",
       "    </tr>\n",
       "    <tr>\n",
       "      <th>4</th>\n",
       "      <td>36,0</td>\n",
       "      <td>no</td>\n",
       "      <td>yes</td>\n",
       "      <td>no</td>\n",
       "      <td>no</td>\n",
       "      <td>no</td>\n",
       "      <td>no</td>\n",
       "      <td>no</td>\n",
       "    </tr>\n",
       "  </tbody>\n",
       "</table>\n",
       "</div>"
      ],
      "text/plain": [
       "  Temperature Occurrence of nausea Lumbar pain Urine pushing  \\\n",
       "0        35,5                   no         yes            no   \n",
       "1        35,9                   no          no           yes   \n",
       "2        35,9                   no         yes            no   \n",
       "3        36,0                   no          no           yes   \n",
       "4        36,0                   no         yes            no   \n",
       "\n",
       "  Micturition pains Burning of urethra Inflammation of urinary bladder  \\\n",
       "0                no                 no                              no   \n",
       "1               yes                yes                             yes   \n",
       "2                no                 no                              no   \n",
       "3               yes                yes                             yes   \n",
       "4                no                 no                              no   \n",
       "\n",
       "  Nephritis of renal pelvis origin  \n",
       "0                               no  \n",
       "1                               no  \n",
       "2                               no  \n",
       "3                               no  \n",
       "4                               no  "
      ]
     },
     "execution_count": 58,
     "metadata": {},
     "output_type": "execute_result"
    }
   ],
   "source": [
    "doc = codecs.open('diagnosis.data','rU','UTF-16') #open for reading with \"universal\" type set\n",
    "df = pd.read_csv(doc, sep='\\t', names=['Temperature', \n",
    "                          'Occurrence of nausea', \n",
    "                          'Lumbar pain', \n",
    "                          'Urine pushing', \n",
    "                          'Micturition pains', \n",
    "                          'Burning of urethra', \n",
    "                          'Inflammation of urinary bladder', \n",
    "                          'Nephritis of renal pelvis origin'\n",
    "                         ]\n",
    "                 , header=None)\n",
    "df.head()"
   ]
  },
  {
   "cell_type": "code",
   "execution_count": 59,
   "id": "f2559760",
   "metadata": {},
   "outputs": [
    {
     "data": {
      "text/html": [
       "<div>\n",
       "<style scoped>\n",
       "    .dataframe tbody tr th:only-of-type {\n",
       "        vertical-align: middle;\n",
       "    }\n",
       "\n",
       "    .dataframe tbody tr th {\n",
       "        vertical-align: top;\n",
       "    }\n",
       "\n",
       "    .dataframe thead th {\n",
       "        text-align: right;\n",
       "    }\n",
       "</style>\n",
       "<table border=\"1\" class=\"dataframe\">\n",
       "  <thead>\n",
       "    <tr style=\"text-align: right;\">\n",
       "      <th></th>\n",
       "      <th>Temperature</th>\n",
       "      <th>Occurrence of nausea</th>\n",
       "      <th>Lumbar pain</th>\n",
       "      <th>Urine pushing</th>\n",
       "      <th>Micturition pains</th>\n",
       "      <th>Burning of urethra</th>\n",
       "      <th>Inflammation of urinary bladder</th>\n",
       "      <th>Nephritis of renal pelvis origin</th>\n",
       "    </tr>\n",
       "  </thead>\n",
       "  <tbody>\n",
       "    <tr>\n",
       "      <th>0</th>\n",
       "      <td>35.5</td>\n",
       "      <td>no</td>\n",
       "      <td>yes</td>\n",
       "      <td>no</td>\n",
       "      <td>no</td>\n",
       "      <td>no</td>\n",
       "      <td>no</td>\n",
       "      <td>no</td>\n",
       "    </tr>\n",
       "    <tr>\n",
       "      <th>1</th>\n",
       "      <td>35.9</td>\n",
       "      <td>no</td>\n",
       "      <td>no</td>\n",
       "      <td>yes</td>\n",
       "      <td>yes</td>\n",
       "      <td>yes</td>\n",
       "      <td>yes</td>\n",
       "      <td>no</td>\n",
       "    </tr>\n",
       "    <tr>\n",
       "      <th>2</th>\n",
       "      <td>35.9</td>\n",
       "      <td>no</td>\n",
       "      <td>yes</td>\n",
       "      <td>no</td>\n",
       "      <td>no</td>\n",
       "      <td>no</td>\n",
       "      <td>no</td>\n",
       "      <td>no</td>\n",
       "    </tr>\n",
       "    <tr>\n",
       "      <th>3</th>\n",
       "      <td>36.0</td>\n",
       "      <td>no</td>\n",
       "      <td>no</td>\n",
       "      <td>yes</td>\n",
       "      <td>yes</td>\n",
       "      <td>yes</td>\n",
       "      <td>yes</td>\n",
       "      <td>no</td>\n",
       "    </tr>\n",
       "    <tr>\n",
       "      <th>4</th>\n",
       "      <td>36.0</td>\n",
       "      <td>no</td>\n",
       "      <td>yes</td>\n",
       "      <td>no</td>\n",
       "      <td>no</td>\n",
       "      <td>no</td>\n",
       "      <td>no</td>\n",
       "      <td>no</td>\n",
       "    </tr>\n",
       "    <tr>\n",
       "      <th>...</th>\n",
       "      <td>...</td>\n",
       "      <td>...</td>\n",
       "      <td>...</td>\n",
       "      <td>...</td>\n",
       "      <td>...</td>\n",
       "      <td>...</td>\n",
       "      <td>...</td>\n",
       "      <td>...</td>\n",
       "    </tr>\n",
       "    <tr>\n",
       "      <th>115</th>\n",
       "      <td>41.4</td>\n",
       "      <td>no</td>\n",
       "      <td>yes</td>\n",
       "      <td>yes</td>\n",
       "      <td>no</td>\n",
       "      <td>yes</td>\n",
       "      <td>no</td>\n",
       "      <td>yes</td>\n",
       "    </tr>\n",
       "    <tr>\n",
       "      <th>116</th>\n",
       "      <td>41.5</td>\n",
       "      <td>no</td>\n",
       "      <td>no</td>\n",
       "      <td>no</td>\n",
       "      <td>no</td>\n",
       "      <td>no</td>\n",
       "      <td>no</td>\n",
       "      <td>no</td>\n",
       "    </tr>\n",
       "    <tr>\n",
       "      <th>117</th>\n",
       "      <td>41.5</td>\n",
       "      <td>yes</td>\n",
       "      <td>yes</td>\n",
       "      <td>no</td>\n",
       "      <td>yes</td>\n",
       "      <td>no</td>\n",
       "      <td>no</td>\n",
       "      <td>yes</td>\n",
       "    </tr>\n",
       "    <tr>\n",
       "      <th>118</th>\n",
       "      <td>41.5</td>\n",
       "      <td>no</td>\n",
       "      <td>yes</td>\n",
       "      <td>yes</td>\n",
       "      <td>no</td>\n",
       "      <td>yes</td>\n",
       "      <td>no</td>\n",
       "      <td>yes</td>\n",
       "    </tr>\n",
       "    <tr>\n",
       "      <th>119</th>\n",
       "      <td>41.5</td>\n",
       "      <td>no</td>\n",
       "      <td>yes</td>\n",
       "      <td>yes</td>\n",
       "      <td>no</td>\n",
       "      <td>yes</td>\n",
       "      <td>no</td>\n",
       "      <td>yes</td>\n",
       "    </tr>\n",
       "  </tbody>\n",
       "</table>\n",
       "<p>120 rows × 8 columns</p>\n",
       "</div>"
      ],
      "text/plain": [
       "    Temperature Occurrence of nausea Lumbar pain Urine pushing  \\\n",
       "0          35.5                   no         yes            no   \n",
       "1          35.9                   no          no           yes   \n",
       "2          35.9                   no         yes            no   \n",
       "3          36.0                   no          no           yes   \n",
       "4          36.0                   no         yes            no   \n",
       "..          ...                  ...         ...           ...   \n",
       "115        41.4                   no         yes           yes   \n",
       "116        41.5                   no          no            no   \n",
       "117        41.5                  yes         yes            no   \n",
       "118        41.5                   no         yes           yes   \n",
       "119        41.5                   no         yes           yes   \n",
       "\n",
       "    Micturition pains Burning of urethra Inflammation of urinary bladder  \\\n",
       "0                  no                 no                              no   \n",
       "1                 yes                yes                             yes   \n",
       "2                  no                 no                              no   \n",
       "3                 yes                yes                             yes   \n",
       "4                  no                 no                              no   \n",
       "..                ...                ...                             ...   \n",
       "115                no                yes                              no   \n",
       "116                no                 no                              no   \n",
       "117               yes                 no                              no   \n",
       "118                no                yes                              no   \n",
       "119                no                yes                              no   \n",
       "\n",
       "    Nephritis of renal pelvis origin  \n",
       "0                                 no  \n",
       "1                                 no  \n",
       "2                                 no  \n",
       "3                                 no  \n",
       "4                                 no  \n",
       "..                               ...  \n",
       "115                              yes  \n",
       "116                               no  \n",
       "117                              yes  \n",
       "118                              yes  \n",
       "119                              yes  \n",
       "\n",
       "[120 rows x 8 columns]"
      ]
     },
     "execution_count": 59,
     "metadata": {},
     "output_type": "execute_result"
    }
   ],
   "source": [
    "df['Temperature'] = df['Temperature'].str.replace(',','.')\n",
    "df"
   ]
  },
  {
   "cell_type": "code",
   "execution_count": 60,
   "id": "f0f37755",
   "metadata": {
    "scrolled": true
   },
   "outputs": [
    {
     "name": "stdout",
     "output_type": "stream",
     "text": [
      "Temperature                         float64\n",
      "Occurrence of nausea                 object\n",
      "Lumbar pain                          object\n",
      "Urine pushing                        object\n",
      "Micturition pains                    object\n",
      "Burning of urethra                   object\n",
      "Inflammation of urinary bladder      object\n",
      "Nephritis of renal pelvis origin     object\n",
      "dtype: object\n"
     ]
    }
   ],
   "source": [
    "df['Temperature'] = df['Temperature'].astype(float)\n",
    "print(df.dtypes)"
   ]
  },
  {
   "cell_type": "code",
   "execution_count": 61,
   "id": "c80838e6",
   "metadata": {
    "scrolled": true
   },
   "outputs": [
    {
     "name": "stdout",
     "output_type": "stream",
     "text": [
      "<class 'pandas.core.frame.DataFrame'>\n",
      "RangeIndex: 120 entries, 0 to 119\n",
      "Data columns (total 8 columns):\n",
      " #   Column                            Non-Null Count  Dtype  \n",
      "---  ------                            --------------  -----  \n",
      " 0   Temperature                       120 non-null    float64\n",
      " 1   Occurrence of nausea              120 non-null    object \n",
      " 2   Lumbar pain                       120 non-null    object \n",
      " 3   Urine pushing                     120 non-null    object \n",
      " 4   Micturition pains                 120 non-null    object \n",
      " 5   Burning of urethra                120 non-null    object \n",
      " 6   Inflammation of urinary bladder   120 non-null    object \n",
      " 7   Nephritis of renal pelvis origin  120 non-null    object \n",
      "dtypes: float64(1), object(7)\n",
      "memory usage: 7.6+ KB\n"
     ]
    }
   ],
   "source": [
    "df.info()"
   ]
  },
  {
   "cell_type": "code",
   "execution_count": 62,
   "id": "d0d6ec77",
   "metadata": {
    "scrolled": true
   },
   "outputs": [
    {
     "data": {
      "text/html": [
       "<div>\n",
       "<style scoped>\n",
       "    .dataframe tbody tr th:only-of-type {\n",
       "        vertical-align: middle;\n",
       "    }\n",
       "\n",
       "    .dataframe tbody tr th {\n",
       "        vertical-align: top;\n",
       "    }\n",
       "\n",
       "    .dataframe thead th {\n",
       "        text-align: right;\n",
       "    }\n",
       "</style>\n",
       "<table border=\"1\" class=\"dataframe\">\n",
       "  <thead>\n",
       "    <tr style=\"text-align: right;\">\n",
       "      <th></th>\n",
       "      <th>Temperature</th>\n",
       "      <th>Occurrence of nausea</th>\n",
       "      <th>Lumbar pain</th>\n",
       "      <th>Urine pushing</th>\n",
       "      <th>Micturition pains</th>\n",
       "      <th>Burning of urethra</th>\n",
       "      <th>Inflammation of urinary bladder</th>\n",
       "      <th>Nephritis of renal pelvis origin</th>\n",
       "    </tr>\n",
       "  </thead>\n",
       "  <tbody>\n",
       "    <tr>\n",
       "      <th>count</th>\n",
       "      <td>120.000000</td>\n",
       "      <td>120</td>\n",
       "      <td>120</td>\n",
       "      <td>120</td>\n",
       "      <td>120</td>\n",
       "      <td>120</td>\n",
       "      <td>120</td>\n",
       "      <td>120</td>\n",
       "    </tr>\n",
       "    <tr>\n",
       "      <th>unique</th>\n",
       "      <td>NaN</td>\n",
       "      <td>2</td>\n",
       "      <td>2</td>\n",
       "      <td>2</td>\n",
       "      <td>2</td>\n",
       "      <td>2</td>\n",
       "      <td>2</td>\n",
       "      <td>2</td>\n",
       "    </tr>\n",
       "    <tr>\n",
       "      <th>top</th>\n",
       "      <td>NaN</td>\n",
       "      <td>no</td>\n",
       "      <td>yes</td>\n",
       "      <td>yes</td>\n",
       "      <td>no</td>\n",
       "      <td>no</td>\n",
       "      <td>no</td>\n",
       "      <td>no</td>\n",
       "    </tr>\n",
       "    <tr>\n",
       "      <th>freq</th>\n",
       "      <td>NaN</td>\n",
       "      <td>91</td>\n",
       "      <td>70</td>\n",
       "      <td>80</td>\n",
       "      <td>61</td>\n",
       "      <td>70</td>\n",
       "      <td>61</td>\n",
       "      <td>70</td>\n",
       "    </tr>\n",
       "    <tr>\n",
       "      <th>mean</th>\n",
       "      <td>38.724167</td>\n",
       "      <td>NaN</td>\n",
       "      <td>NaN</td>\n",
       "      <td>NaN</td>\n",
       "      <td>NaN</td>\n",
       "      <td>NaN</td>\n",
       "      <td>NaN</td>\n",
       "      <td>NaN</td>\n",
       "    </tr>\n",
       "    <tr>\n",
       "      <th>std</th>\n",
       "      <td>1.819132</td>\n",
       "      <td>NaN</td>\n",
       "      <td>NaN</td>\n",
       "      <td>NaN</td>\n",
       "      <td>NaN</td>\n",
       "      <td>NaN</td>\n",
       "      <td>NaN</td>\n",
       "      <td>NaN</td>\n",
       "    </tr>\n",
       "    <tr>\n",
       "      <th>min</th>\n",
       "      <td>35.500000</td>\n",
       "      <td>NaN</td>\n",
       "      <td>NaN</td>\n",
       "      <td>NaN</td>\n",
       "      <td>NaN</td>\n",
       "      <td>NaN</td>\n",
       "      <td>NaN</td>\n",
       "      <td>NaN</td>\n",
       "    </tr>\n",
       "    <tr>\n",
       "      <th>25%</th>\n",
       "      <td>37.100000</td>\n",
       "      <td>NaN</td>\n",
       "      <td>NaN</td>\n",
       "      <td>NaN</td>\n",
       "      <td>NaN</td>\n",
       "      <td>NaN</td>\n",
       "      <td>NaN</td>\n",
       "      <td>NaN</td>\n",
       "    </tr>\n",
       "    <tr>\n",
       "      <th>50%</th>\n",
       "      <td>37.950000</td>\n",
       "      <td>NaN</td>\n",
       "      <td>NaN</td>\n",
       "      <td>NaN</td>\n",
       "      <td>NaN</td>\n",
       "      <td>NaN</td>\n",
       "      <td>NaN</td>\n",
       "      <td>NaN</td>\n",
       "    </tr>\n",
       "    <tr>\n",
       "      <th>75%</th>\n",
       "      <td>40.600000</td>\n",
       "      <td>NaN</td>\n",
       "      <td>NaN</td>\n",
       "      <td>NaN</td>\n",
       "      <td>NaN</td>\n",
       "      <td>NaN</td>\n",
       "      <td>NaN</td>\n",
       "      <td>NaN</td>\n",
       "    </tr>\n",
       "    <tr>\n",
       "      <th>max</th>\n",
       "      <td>41.500000</td>\n",
       "      <td>NaN</td>\n",
       "      <td>NaN</td>\n",
       "      <td>NaN</td>\n",
       "      <td>NaN</td>\n",
       "      <td>NaN</td>\n",
       "      <td>NaN</td>\n",
       "      <td>NaN</td>\n",
       "    </tr>\n",
       "  </tbody>\n",
       "</table>\n",
       "</div>"
      ],
      "text/plain": [
       "        Temperature Occurrence of nausea Lumbar pain Urine pushing  \\\n",
       "count    120.000000                  120         120           120   \n",
       "unique          NaN                    2           2             2   \n",
       "top             NaN                   no         yes           yes   \n",
       "freq            NaN                   91          70            80   \n",
       "mean      38.724167                  NaN         NaN           NaN   \n",
       "std        1.819132                  NaN         NaN           NaN   \n",
       "min       35.500000                  NaN         NaN           NaN   \n",
       "25%       37.100000                  NaN         NaN           NaN   \n",
       "50%       37.950000                  NaN         NaN           NaN   \n",
       "75%       40.600000                  NaN         NaN           NaN   \n",
       "max       41.500000                  NaN         NaN           NaN   \n",
       "\n",
       "       Micturition pains Burning of urethra Inflammation of urinary bladder  \\\n",
       "count                120                120                             120   \n",
       "unique                 2                  2                               2   \n",
       "top                   no                 no                              no   \n",
       "freq                  61                 70                              61   \n",
       "mean                 NaN                NaN                             NaN   \n",
       "std                  NaN                NaN                             NaN   \n",
       "min                  NaN                NaN                             NaN   \n",
       "25%                  NaN                NaN                             NaN   \n",
       "50%                  NaN                NaN                             NaN   \n",
       "75%                  NaN                NaN                             NaN   \n",
       "max                  NaN                NaN                             NaN   \n",
       "\n",
       "       Nephritis of renal pelvis origin  \n",
       "count                               120  \n",
       "unique                                2  \n",
       "top                                  no  \n",
       "freq                                 70  \n",
       "mean                                NaN  \n",
       "std                                 NaN  \n",
       "min                                 NaN  \n",
       "25%                                 NaN  \n",
       "50%                                 NaN  \n",
       "75%                                 NaN  \n",
       "max                                 NaN  "
      ]
     },
     "execution_count": 62,
     "metadata": {},
     "output_type": "execute_result"
    }
   ],
   "source": [
    "df.describe(include='all')"
   ]
  },
  {
   "cell_type": "code",
   "execution_count": 63,
   "id": "df414807",
   "metadata": {},
   "outputs": [
    {
     "data": {
      "text/html": [
       "<div>\n",
       "<style scoped>\n",
       "    .dataframe tbody tr th:only-of-type {\n",
       "        vertical-align: middle;\n",
       "    }\n",
       "\n",
       "    .dataframe tbody tr th {\n",
       "        vertical-align: top;\n",
       "    }\n",
       "\n",
       "    .dataframe thead th {\n",
       "        text-align: right;\n",
       "    }\n",
       "</style>\n",
       "<table border=\"1\" class=\"dataframe\">\n",
       "  <thead>\n",
       "    <tr style=\"text-align: right;\">\n",
       "      <th></th>\n",
       "      <th>Occurrence of nausea</th>\n",
       "      <th>Lumbar pain</th>\n",
       "      <th>Urine pushing</th>\n",
       "      <th>Micturition pains</th>\n",
       "      <th>Burning of urethra</th>\n",
       "      <th>Inflammation of urinary bladder</th>\n",
       "      <th>Nephritis of renal pelvis origin</th>\n",
       "    </tr>\n",
       "  </thead>\n",
       "  <tbody>\n",
       "    <tr>\n",
       "      <th>0</th>\n",
       "      <td>no</td>\n",
       "      <td>yes</td>\n",
       "      <td>no</td>\n",
       "      <td>no</td>\n",
       "      <td>no</td>\n",
       "      <td>no</td>\n",
       "      <td>no</td>\n",
       "    </tr>\n",
       "    <tr>\n",
       "      <th>1</th>\n",
       "      <td>no</td>\n",
       "      <td>no</td>\n",
       "      <td>yes</td>\n",
       "      <td>yes</td>\n",
       "      <td>yes</td>\n",
       "      <td>yes</td>\n",
       "      <td>no</td>\n",
       "    </tr>\n",
       "    <tr>\n",
       "      <th>2</th>\n",
       "      <td>no</td>\n",
       "      <td>yes</td>\n",
       "      <td>no</td>\n",
       "      <td>no</td>\n",
       "      <td>no</td>\n",
       "      <td>no</td>\n",
       "      <td>no</td>\n",
       "    </tr>\n",
       "    <tr>\n",
       "      <th>3</th>\n",
       "      <td>no</td>\n",
       "      <td>no</td>\n",
       "      <td>yes</td>\n",
       "      <td>yes</td>\n",
       "      <td>yes</td>\n",
       "      <td>yes</td>\n",
       "      <td>no</td>\n",
       "    </tr>\n",
       "    <tr>\n",
       "      <th>4</th>\n",
       "      <td>no</td>\n",
       "      <td>yes</td>\n",
       "      <td>no</td>\n",
       "      <td>no</td>\n",
       "      <td>no</td>\n",
       "      <td>no</td>\n",
       "      <td>no</td>\n",
       "    </tr>\n",
       "    <tr>\n",
       "      <th>...</th>\n",
       "      <td>...</td>\n",
       "      <td>...</td>\n",
       "      <td>...</td>\n",
       "      <td>...</td>\n",
       "      <td>...</td>\n",
       "      <td>...</td>\n",
       "      <td>...</td>\n",
       "    </tr>\n",
       "    <tr>\n",
       "      <th>115</th>\n",
       "      <td>no</td>\n",
       "      <td>yes</td>\n",
       "      <td>yes</td>\n",
       "      <td>no</td>\n",
       "      <td>yes</td>\n",
       "      <td>no</td>\n",
       "      <td>yes</td>\n",
       "    </tr>\n",
       "    <tr>\n",
       "      <th>116</th>\n",
       "      <td>no</td>\n",
       "      <td>no</td>\n",
       "      <td>no</td>\n",
       "      <td>no</td>\n",
       "      <td>no</td>\n",
       "      <td>no</td>\n",
       "      <td>no</td>\n",
       "    </tr>\n",
       "    <tr>\n",
       "      <th>117</th>\n",
       "      <td>yes</td>\n",
       "      <td>yes</td>\n",
       "      <td>no</td>\n",
       "      <td>yes</td>\n",
       "      <td>no</td>\n",
       "      <td>no</td>\n",
       "      <td>yes</td>\n",
       "    </tr>\n",
       "    <tr>\n",
       "      <th>118</th>\n",
       "      <td>no</td>\n",
       "      <td>yes</td>\n",
       "      <td>yes</td>\n",
       "      <td>no</td>\n",
       "      <td>yes</td>\n",
       "      <td>no</td>\n",
       "      <td>yes</td>\n",
       "    </tr>\n",
       "    <tr>\n",
       "      <th>119</th>\n",
       "      <td>no</td>\n",
       "      <td>yes</td>\n",
       "      <td>yes</td>\n",
       "      <td>no</td>\n",
       "      <td>yes</td>\n",
       "      <td>no</td>\n",
       "      <td>yes</td>\n",
       "    </tr>\n",
       "  </tbody>\n",
       "</table>\n",
       "<p>120 rows × 7 columns</p>\n",
       "</div>"
      ],
      "text/plain": [
       "    Occurrence of nausea Lumbar pain Urine pushing Micturition pains  \\\n",
       "0                     no         yes            no                no   \n",
       "1                     no          no           yes               yes   \n",
       "2                     no         yes            no                no   \n",
       "3                     no          no           yes               yes   \n",
       "4                     no         yes            no                no   \n",
       "..                   ...         ...           ...               ...   \n",
       "115                   no         yes           yes                no   \n",
       "116                   no          no            no                no   \n",
       "117                  yes         yes            no               yes   \n",
       "118                   no         yes           yes                no   \n",
       "119                   no         yes           yes                no   \n",
       "\n",
       "    Burning of urethra Inflammation of urinary bladder  \\\n",
       "0                   no                              no   \n",
       "1                  yes                             yes   \n",
       "2                   no                              no   \n",
       "3                  yes                             yes   \n",
       "4                   no                              no   \n",
       "..                 ...                             ...   \n",
       "115                yes                              no   \n",
       "116                 no                              no   \n",
       "117                 no                              no   \n",
       "118                yes                              no   \n",
       "119                yes                              no   \n",
       "\n",
       "    Nephritis of renal pelvis origin  \n",
       "0                                 no  \n",
       "1                                 no  \n",
       "2                                 no  \n",
       "3                                 no  \n",
       "4                                 no  \n",
       "..                               ...  \n",
       "115                              yes  \n",
       "116                               no  \n",
       "117                              yes  \n",
       "118                              yes  \n",
       "119                              yes  \n",
       "\n",
       "[120 rows x 7 columns]"
      ]
     },
     "execution_count": 63,
     "metadata": {},
     "output_type": "execute_result"
    }
   ],
   "source": [
    "df.drop(['Temperature'], axis=1, inplace=True)\n",
    "df  "
   ]
  },
  {
   "cell_type": "code",
   "execution_count": 64,
   "id": "a42c3811",
   "metadata": {},
   "outputs": [
    {
     "data": {
      "text/html": [
       "<div>\n",
       "<style scoped>\n",
       "    .dataframe tbody tr th:only-of-type {\n",
       "        vertical-align: middle;\n",
       "    }\n",
       "\n",
       "    .dataframe tbody tr th {\n",
       "        vertical-align: top;\n",
       "    }\n",
       "\n",
       "    .dataframe thead th {\n",
       "        text-align: right;\n",
       "    }\n",
       "</style>\n",
       "<table border=\"1\" class=\"dataframe\">\n",
       "  <thead>\n",
       "    <tr style=\"text-align: right;\">\n",
       "      <th></th>\n",
       "      <th>Occurrence of nausea</th>\n",
       "      <th>Lumbar pain</th>\n",
       "      <th>Urine pushing</th>\n",
       "      <th>Micturition pains</th>\n",
       "      <th>Burning of urethra</th>\n",
       "      <th>Inflammation of urinary bladder</th>\n",
       "      <th>Nephritis of renal pelvis origin</th>\n",
       "    </tr>\n",
       "  </thead>\n",
       "  <tbody>\n",
       "    <tr>\n",
       "      <th>0</th>\n",
       "      <td>No</td>\n",
       "      <td>Yes</td>\n",
       "      <td>No</td>\n",
       "      <td>No</td>\n",
       "      <td>No</td>\n",
       "      <td>No</td>\n",
       "      <td>No</td>\n",
       "    </tr>\n",
       "    <tr>\n",
       "      <th>1</th>\n",
       "      <td>No</td>\n",
       "      <td>No</td>\n",
       "      <td>Yes</td>\n",
       "      <td>Yes</td>\n",
       "      <td>Yes</td>\n",
       "      <td>Yes</td>\n",
       "      <td>No</td>\n",
       "    </tr>\n",
       "    <tr>\n",
       "      <th>2</th>\n",
       "      <td>No</td>\n",
       "      <td>Yes</td>\n",
       "      <td>No</td>\n",
       "      <td>No</td>\n",
       "      <td>No</td>\n",
       "      <td>No</td>\n",
       "      <td>No</td>\n",
       "    </tr>\n",
       "    <tr>\n",
       "      <th>3</th>\n",
       "      <td>No</td>\n",
       "      <td>No</td>\n",
       "      <td>Yes</td>\n",
       "      <td>Yes</td>\n",
       "      <td>Yes</td>\n",
       "      <td>Yes</td>\n",
       "      <td>No</td>\n",
       "    </tr>\n",
       "    <tr>\n",
       "      <th>4</th>\n",
       "      <td>No</td>\n",
       "      <td>Yes</td>\n",
       "      <td>No</td>\n",
       "      <td>No</td>\n",
       "      <td>No</td>\n",
       "      <td>No</td>\n",
       "      <td>No</td>\n",
       "    </tr>\n",
       "    <tr>\n",
       "      <th>...</th>\n",
       "      <td>...</td>\n",
       "      <td>...</td>\n",
       "      <td>...</td>\n",
       "      <td>...</td>\n",
       "      <td>...</td>\n",
       "      <td>...</td>\n",
       "      <td>...</td>\n",
       "    </tr>\n",
       "    <tr>\n",
       "      <th>115</th>\n",
       "      <td>No</td>\n",
       "      <td>Yes</td>\n",
       "      <td>Yes</td>\n",
       "      <td>No</td>\n",
       "      <td>Yes</td>\n",
       "      <td>No</td>\n",
       "      <td>Yes</td>\n",
       "    </tr>\n",
       "    <tr>\n",
       "      <th>116</th>\n",
       "      <td>No</td>\n",
       "      <td>No</td>\n",
       "      <td>No</td>\n",
       "      <td>No</td>\n",
       "      <td>No</td>\n",
       "      <td>No</td>\n",
       "      <td>No</td>\n",
       "    </tr>\n",
       "    <tr>\n",
       "      <th>117</th>\n",
       "      <td>Yes</td>\n",
       "      <td>Yes</td>\n",
       "      <td>No</td>\n",
       "      <td>Yes</td>\n",
       "      <td>No</td>\n",
       "      <td>No</td>\n",
       "      <td>Yes</td>\n",
       "    </tr>\n",
       "    <tr>\n",
       "      <th>118</th>\n",
       "      <td>No</td>\n",
       "      <td>Yes</td>\n",
       "      <td>Yes</td>\n",
       "      <td>No</td>\n",
       "      <td>Yes</td>\n",
       "      <td>No</td>\n",
       "      <td>Yes</td>\n",
       "    </tr>\n",
       "    <tr>\n",
       "      <th>119</th>\n",
       "      <td>No</td>\n",
       "      <td>Yes</td>\n",
       "      <td>Yes</td>\n",
       "      <td>No</td>\n",
       "      <td>Yes</td>\n",
       "      <td>No</td>\n",
       "      <td>Yes</td>\n",
       "    </tr>\n",
       "  </tbody>\n",
       "</table>\n",
       "<p>120 rows × 7 columns</p>\n",
       "</div>"
      ],
      "text/plain": [
       "    Occurrence of nausea Lumbar pain Urine pushing Micturition pains  \\\n",
       "0                     No         Yes            No                No   \n",
       "1                     No          No           Yes               Yes   \n",
       "2                     No         Yes            No                No   \n",
       "3                     No          No           Yes               Yes   \n",
       "4                     No         Yes            No                No   \n",
       "..                   ...         ...           ...               ...   \n",
       "115                   No         Yes           Yes                No   \n",
       "116                   No          No            No                No   \n",
       "117                  Yes         Yes            No               Yes   \n",
       "118                   No         Yes           Yes                No   \n",
       "119                   No         Yes           Yes                No   \n",
       "\n",
       "    Burning of urethra Inflammation of urinary bladder  \\\n",
       "0                   No                              No   \n",
       "1                  Yes                             Yes   \n",
       "2                   No                              No   \n",
       "3                  Yes                             Yes   \n",
       "4                   No                              No   \n",
       "..                 ...                             ...   \n",
       "115                Yes                              No   \n",
       "116                 No                              No   \n",
       "117                 No                              No   \n",
       "118                Yes                              No   \n",
       "119                Yes                              No   \n",
       "\n",
       "    Nephritis of renal pelvis origin  \n",
       "0                                 No  \n",
       "1                                 No  \n",
       "2                                 No  \n",
       "3                                 No  \n",
       "4                                 No  \n",
       "..                               ...  \n",
       "115                              Yes  \n",
       "116                               No  \n",
       "117                              Yes  \n",
       "118                              Yes  \n",
       "119                              Yes  \n",
       "\n",
       "[120 rows x 7 columns]"
      ]
     },
     "execution_count": 64,
     "metadata": {},
     "output_type": "execute_result"
    }
   ],
   "source": [
    "df['Occurrence of nausea'] = df['Occurrence of nausea'].str.title()\n",
    "df['Lumbar pain'] = df['Lumbar pain'].str.title()\n",
    "df['Urine pushing'] = df['Urine pushing'].str.title()\n",
    "df['Micturition pains'] = df['Micturition pains'].str.title()\n",
    "df['Burning of urethra'] = df['Burning of urethra'].str.title()\n",
    "df['Inflammation of urinary bladder'] = df['Inflammation of urinary bladder'].str.title()\n",
    "df['Nephritis of renal pelvis origin'] = df['Nephritis of renal pelvis origin'].str.title()\n",
    "df"
   ]
  },
  {
   "cell_type": "code",
   "execution_count": 65,
   "id": "2520480e",
   "metadata": {},
   "outputs": [
    {
     "data": {
      "text/html": [
       "<div>\n",
       "<style scoped>\n",
       "    .dataframe tbody tr th:only-of-type {\n",
       "        vertical-align: middle;\n",
       "    }\n",
       "\n",
       "    .dataframe tbody tr th {\n",
       "        vertical-align: top;\n",
       "    }\n",
       "\n",
       "    .dataframe thead th {\n",
       "        text-align: right;\n",
       "    }\n",
       "</style>\n",
       "<table border=\"1\" class=\"dataframe\">\n",
       "  <thead>\n",
       "    <tr style=\"text-align: right;\">\n",
       "      <th></th>\n",
       "      <th>Occurrence of nausea</th>\n",
       "      <th>Lumbar pain</th>\n",
       "      <th>Urine pushing</th>\n",
       "      <th>Micturition pains</th>\n",
       "      <th>Burning of urethra</th>\n",
       "      <th>Inflammation of urinary bladder</th>\n",
       "      <th>Nephritis of renal pelvis origin</th>\n",
       "    </tr>\n",
       "  </thead>\n",
       "  <tbody>\n",
       "    <tr>\n",
       "      <th>count</th>\n",
       "      <td>120</td>\n",
       "      <td>120</td>\n",
       "      <td>120</td>\n",
       "      <td>120</td>\n",
       "      <td>120</td>\n",
       "      <td>120</td>\n",
       "      <td>120</td>\n",
       "    </tr>\n",
       "    <tr>\n",
       "      <th>unique</th>\n",
       "      <td>2</td>\n",
       "      <td>2</td>\n",
       "      <td>2</td>\n",
       "      <td>2</td>\n",
       "      <td>2</td>\n",
       "      <td>2</td>\n",
       "      <td>2</td>\n",
       "    </tr>\n",
       "    <tr>\n",
       "      <th>top</th>\n",
       "      <td>No</td>\n",
       "      <td>Yes</td>\n",
       "      <td>Yes</td>\n",
       "      <td>No</td>\n",
       "      <td>No</td>\n",
       "      <td>No</td>\n",
       "      <td>No</td>\n",
       "    </tr>\n",
       "    <tr>\n",
       "      <th>freq</th>\n",
       "      <td>91</td>\n",
       "      <td>70</td>\n",
       "      <td>80</td>\n",
       "      <td>61</td>\n",
       "      <td>70</td>\n",
       "      <td>61</td>\n",
       "      <td>70</td>\n",
       "    </tr>\n",
       "  </tbody>\n",
       "</table>\n",
       "</div>"
      ],
      "text/plain": [
       "       Occurrence of nausea Lumbar pain Urine pushing Micturition pains  \\\n",
       "count                   120         120           120               120   \n",
       "unique                    2           2             2                 2   \n",
       "top                      No         Yes           Yes                No   \n",
       "freq                     91          70            80                61   \n",
       "\n",
       "       Burning of urethra Inflammation of urinary bladder  \\\n",
       "count                 120                             120   \n",
       "unique                  2                               2   \n",
       "top                    No                              No   \n",
       "freq                   70                              61   \n",
       "\n",
       "       Nephritis of renal pelvis origin  \n",
       "count                               120  \n",
       "unique                                2  \n",
       "top                                  No  \n",
       "freq                                 70  "
      ]
     },
     "execution_count": 65,
     "metadata": {},
     "output_type": "execute_result"
    }
   ],
   "source": [
    "df.describe()"
   ]
  },
  {
   "cell_type": "code",
   "execution_count": 66,
   "id": "7e6aceea",
   "metadata": {
    "scrolled": true
   },
   "outputs": [
    {
     "data": {
      "image/png": "[encoded data removed]",
      "text/plain": [
       "<Figure size 640x480 with 1 Axes>"
      ]
     },
     "metadata": {},
     "output_type": "display_data"
    }
   ],
   "source": [
    "yes = (df == 'Yes').sum()\n",
    "no = (df == 'No').sum()\n",
    "myplot = pd.concat([yes,no], axis=1,keys=['Yes','No'])\n",
    "ax=myplot.plot.bar(stacked=True)\n",
    "plt.show()"
   ]
  },
  {
   "cell_type": "code",
   "execution_count": 67,
   "id": "9a4ec5b8",
   "metadata": {
    "scrolled": true
   },
   "outputs": [
    {
     "data": {
      "text/html": [
       "<div>\n",
       "<style scoped>\n",
       "    .dataframe tbody tr th:only-of-type {\n",
       "        vertical-align: middle;\n",
       "    }\n",
       "\n",
       "    .dataframe tbody tr th {\n",
       "        vertical-align: top;\n",
       "    }\n",
       "\n",
       "    .dataframe thead th {\n",
       "        text-align: right;\n",
       "    }\n",
       "</style>\n",
       "<table border=\"1\" class=\"dataframe\">\n",
       "  <thead>\n",
       "    <tr style=\"text-align: right;\">\n",
       "      <th></th>\n",
       "      <th>Occurrence of nausea</th>\n",
       "      <th>Lumbar pain</th>\n",
       "      <th>Urine pushing</th>\n",
       "      <th>Micturition pains</th>\n",
       "      <th>Burning of urethra</th>\n",
       "      <th>Inflammation of urinary bladder</th>\n",
       "      <th>Nephritis of renal pelvis origin</th>\n",
       "    </tr>\n",
       "  </thead>\n",
       "  <tbody>\n",
       "    <tr>\n",
       "      <th>1</th>\n",
       "      <td>No</td>\n",
       "      <td>No</td>\n",
       "      <td>Yes</td>\n",
       "      <td>Yes</td>\n",
       "      <td>Yes</td>\n",
       "      <td>Yes</td>\n",
       "      <td>No</td>\n",
       "    </tr>\n",
       "    <tr>\n",
       "      <th>3</th>\n",
       "      <td>No</td>\n",
       "      <td>No</td>\n",
       "      <td>Yes</td>\n",
       "      <td>Yes</td>\n",
       "      <td>Yes</td>\n",
       "      <td>Yes</td>\n",
       "      <td>No</td>\n",
       "    </tr>\n",
       "    <tr>\n",
       "      <th>6</th>\n",
       "      <td>No</td>\n",
       "      <td>No</td>\n",
       "      <td>Yes</td>\n",
       "      <td>Yes</td>\n",
       "      <td>Yes</td>\n",
       "      <td>Yes</td>\n",
       "      <td>No</td>\n",
       "    </tr>\n",
       "    <tr>\n",
       "      <th>8</th>\n",
       "      <td>No</td>\n",
       "      <td>No</td>\n",
       "      <td>Yes</td>\n",
       "      <td>Yes</td>\n",
       "      <td>Yes</td>\n",
       "      <td>Yes</td>\n",
       "      <td>No</td>\n",
       "    </tr>\n",
       "    <tr>\n",
       "      <th>9</th>\n",
       "      <td>No</td>\n",
       "      <td>No</td>\n",
       "      <td>Yes</td>\n",
       "      <td>Yes</td>\n",
       "      <td>Yes</td>\n",
       "      <td>Yes</td>\n",
       "      <td>No</td>\n",
       "    </tr>\n",
       "  </tbody>\n",
       "</table>\n",
       "</div>"
      ],
      "text/plain": [
       "  Occurrence of nausea Lumbar pain Urine pushing Micturition pains  \\\n",
       "1                   No          No           Yes               Yes   \n",
       "3                   No          No           Yes               Yes   \n",
       "6                   No          No           Yes               Yes   \n",
       "8                   No          No           Yes               Yes   \n",
       "9                   No          No           Yes               Yes   \n",
       "\n",
       "  Burning of urethra Inflammation of urinary bladder  \\\n",
       "1                Yes                             Yes   \n",
       "3                Yes                             Yes   \n",
       "6                Yes                             Yes   \n",
       "8                Yes                             Yes   \n",
       "9                Yes                             Yes   \n",
       "\n",
       "  Nephritis of renal pelvis origin  \n",
       "1                               No  \n",
       "3                               No  \n",
       "6                               No  \n",
       "8                               No  \n",
       "9                               No  "
      ]
     },
     "execution_count": 67,
     "metadata": {},
     "output_type": "execute_result"
    }
   ],
   "source": [
    "df1 = df[df['Inflammation of urinary bladder'] == 'Yes']\n",
    "df1.head()"
   ]
  },
  {
   "cell_type": "code",
   "execution_count": 68,
   "id": "244ae68e",
   "metadata": {
    "scrolled": true
   },
   "outputs": [
    {
     "data": {
      "text/html": [
       "<div>\n",
       "<style scoped>\n",
       "    .dataframe tbody tr th:only-of-type {\n",
       "        vertical-align: middle;\n",
       "    }\n",
       "\n",
       "    .dataframe tbody tr th {\n",
       "        vertical-align: top;\n",
       "    }\n",
       "\n",
       "    .dataframe thead th {\n",
       "        text-align: right;\n",
       "    }\n",
       "</style>\n",
       "<table border=\"1\" class=\"dataframe\">\n",
       "  <thead>\n",
       "    <tr style=\"text-align: right;\">\n",
       "      <th></th>\n",
       "      <th>Occurrence of nausea</th>\n",
       "      <th>Lumbar pain</th>\n",
       "      <th>Urine pushing</th>\n",
       "      <th>Micturition pains</th>\n",
       "      <th>Burning of urethra</th>\n",
       "      <th>Inflammation of urinary bladder</th>\n",
       "      <th>Nephritis of renal pelvis origin</th>\n",
       "    </tr>\n",
       "  </thead>\n",
       "  <tbody>\n",
       "    <tr>\n",
       "      <th>60</th>\n",
       "      <td>No</td>\n",
       "      <td>Yes</td>\n",
       "      <td>Yes</td>\n",
       "      <td>No</td>\n",
       "      <td>Yes</td>\n",
       "      <td>No</td>\n",
       "      <td>Yes</td>\n",
       "    </tr>\n",
       "    <tr>\n",
       "      <th>61</th>\n",
       "      <td>No</td>\n",
       "      <td>Yes</td>\n",
       "      <td>Yes</td>\n",
       "      <td>No</td>\n",
       "      <td>Yes</td>\n",
       "      <td>No</td>\n",
       "      <td>Yes</td>\n",
       "    </tr>\n",
       "    <tr>\n",
       "      <th>62</th>\n",
       "      <td>No</td>\n",
       "      <td>Yes</td>\n",
       "      <td>Yes</td>\n",
       "      <td>No</td>\n",
       "      <td>Yes</td>\n",
       "      <td>No</td>\n",
       "      <td>Yes</td>\n",
       "    </tr>\n",
       "    <tr>\n",
       "      <th>63</th>\n",
       "      <td>No</td>\n",
       "      <td>Yes</td>\n",
       "      <td>Yes</td>\n",
       "      <td>No</td>\n",
       "      <td>Yes</td>\n",
       "      <td>No</td>\n",
       "      <td>Yes</td>\n",
       "    </tr>\n",
       "    <tr>\n",
       "      <th>64</th>\n",
       "      <td>No</td>\n",
       "      <td>Yes</td>\n",
       "      <td>Yes</td>\n",
       "      <td>No</td>\n",
       "      <td>Yes</td>\n",
       "      <td>No</td>\n",
       "      <td>Yes</td>\n",
       "    </tr>\n",
       "  </tbody>\n",
       "</table>\n",
       "</div>"
      ],
      "text/plain": [
       "   Occurrence of nausea Lumbar pain Urine pushing Micturition pains  \\\n",
       "60                   No         Yes           Yes                No   \n",
       "61                   No         Yes           Yes                No   \n",
       "62                   No         Yes           Yes                No   \n",
       "63                   No         Yes           Yes                No   \n",
       "64                   No         Yes           Yes                No   \n",
       "\n",
       "   Burning of urethra Inflammation of urinary bladder  \\\n",
       "60                Yes                              No   \n",
       "61                Yes                              No   \n",
       "62                Yes                              No   \n",
       "63                Yes                              No   \n",
       "64                Yes                              No   \n",
       "\n",
       "   Nephritis of renal pelvis origin  \n",
       "60                              Yes  \n",
       "61                              Yes  \n",
       "62                              Yes  \n",
       "63                              Yes  \n",
       "64                              Yes  "
      ]
     },
     "execution_count": 68,
     "metadata": {},
     "output_type": "execute_result"
    }
   ],
   "source": [
    "df2 = df[df['Nephritis of renal pelvis origin'] == 'Yes']\n",
    "df2.head()"
   ]
  },
  {
   "cell_type": "code",
   "execution_count": 69,
   "id": "f0165647",
   "metadata": {
    "scrolled": false
   },
   "outputs": [
    {
     "data": {
      "text/html": [
       "<div>\n",
       "<style scoped>\n",
       "    .dataframe tbody tr th:only-of-type {\n",
       "        vertical-align: middle;\n",
       "    }\n",
       "\n",
       "    .dataframe tbody tr th {\n",
       "        vertical-align: top;\n",
       "    }\n",
       "\n",
       "    .dataframe thead th {\n",
       "        text-align: right;\n",
       "    }\n",
       "</style>\n",
       "<table border=\"1\" class=\"dataframe\">\n",
       "  <thead>\n",
       "    <tr style=\"text-align: right;\">\n",
       "      <th></th>\n",
       "      <th>Occurrence of nausea</th>\n",
       "      <th>Lumbar pain</th>\n",
       "      <th>Urine pushing</th>\n",
       "      <th>Micturition pains</th>\n",
       "      <th>Burning of urethra</th>\n",
       "    </tr>\n",
       "  </thead>\n",
       "  <tbody>\n",
       "    <tr>\n",
       "      <th>1</th>\n",
       "      <td>No</td>\n",
       "      <td>No</td>\n",
       "      <td>Yes</td>\n",
       "      <td>Yes</td>\n",
       "      <td>Yes</td>\n",
       "    </tr>\n",
       "    <tr>\n",
       "      <th>3</th>\n",
       "      <td>No</td>\n",
       "      <td>No</td>\n",
       "      <td>Yes</td>\n",
       "      <td>Yes</td>\n",
       "      <td>Yes</td>\n",
       "    </tr>\n",
       "    <tr>\n",
       "      <th>6</th>\n",
       "      <td>No</td>\n",
       "      <td>No</td>\n",
       "      <td>Yes</td>\n",
       "      <td>Yes</td>\n",
       "      <td>Yes</td>\n",
       "    </tr>\n",
       "    <tr>\n",
       "      <th>8</th>\n",
       "      <td>No</td>\n",
       "      <td>No</td>\n",
       "      <td>Yes</td>\n",
       "      <td>Yes</td>\n",
       "      <td>Yes</td>\n",
       "    </tr>\n",
       "    <tr>\n",
       "      <th>9</th>\n",
       "      <td>No</td>\n",
       "      <td>No</td>\n",
       "      <td>Yes</td>\n",
       "      <td>Yes</td>\n",
       "      <td>Yes</td>\n",
       "    </tr>\n",
       "  </tbody>\n",
       "</table>\n",
       "</div>"
      ],
      "text/plain": [
       "  Occurrence of nausea Lumbar pain Urine pushing Micturition pains  \\\n",
       "1                   No          No           Yes               Yes   \n",
       "3                   No          No           Yes               Yes   \n",
       "6                   No          No           Yes               Yes   \n",
       "8                   No          No           Yes               Yes   \n",
       "9                   No          No           Yes               Yes   \n",
       "\n",
       "  Burning of urethra  \n",
       "1                Yes  \n",
       "3                Yes  \n",
       "6                Yes  \n",
       "8                Yes  \n",
       "9                Yes  "
      ]
     },
     "execution_count": 69,
     "metadata": {},
     "output_type": "execute_result"
    }
   ],
   "source": [
    "df1 = df1.drop(['Inflammation of urinary bladder', 'Nephritis of renal pelvis origin'], axis=1)\n",
    "df1.head()"
   ]
  },
  {
   "cell_type": "code",
   "execution_count": 70,
   "id": "d4c298cf",
   "metadata": {
    "scrolled": true
   },
   "outputs": [
    {
     "data": {
      "text/html": [
       "<div>\n",
       "<style scoped>\n",
       "    .dataframe tbody tr th:only-of-type {\n",
       "        vertical-align: middle;\n",
       "    }\n",
       "\n",
       "    .dataframe tbody tr th {\n",
       "        vertical-align: top;\n",
       "    }\n",
       "\n",
       "    .dataframe thead th {\n",
       "        text-align: right;\n",
       "    }\n",
       "</style>\n",
       "<table border=\"1\" class=\"dataframe\">\n",
       "  <thead>\n",
       "    <tr style=\"text-align: right;\">\n",
       "      <th></th>\n",
       "      <th>Occurrence of nausea</th>\n",
       "      <th>Lumbar pain</th>\n",
       "      <th>Urine pushing</th>\n",
       "      <th>Micturition pains</th>\n",
       "      <th>Burning of urethra</th>\n",
       "    </tr>\n",
       "  </thead>\n",
       "  <tbody>\n",
       "    <tr>\n",
       "      <th>60</th>\n",
       "      <td>No</td>\n",
       "      <td>Yes</td>\n",
       "      <td>Yes</td>\n",
       "      <td>No</td>\n",
       "      <td>Yes</td>\n",
       "    </tr>\n",
       "    <tr>\n",
       "      <th>61</th>\n",
       "      <td>No</td>\n",
       "      <td>Yes</td>\n",
       "      <td>Yes</td>\n",
       "      <td>No</td>\n",
       "      <td>Yes</td>\n",
       "    </tr>\n",
       "    <tr>\n",
       "      <th>62</th>\n",
       "      <td>No</td>\n",
       "      <td>Yes</td>\n",
       "      <td>Yes</td>\n",
       "      <td>No</td>\n",
       "      <td>Yes</td>\n",
       "    </tr>\n",
       "    <tr>\n",
       "      <th>63</th>\n",
       "      <td>No</td>\n",
       "      <td>Yes</td>\n",
       "      <td>Yes</td>\n",
       "      <td>No</td>\n",
       "      <td>Yes</td>\n",
       "    </tr>\n",
       "    <tr>\n",
       "      <th>64</th>\n",
       "      <td>No</td>\n",
       "      <td>Yes</td>\n",
       "      <td>Yes</td>\n",
       "      <td>No</td>\n",
       "      <td>Yes</td>\n",
       "    </tr>\n",
       "  </tbody>\n",
       "</table>\n",
       "</div>"
      ],
      "text/plain": [
       "   Occurrence of nausea Lumbar pain Urine pushing Micturition pains  \\\n",
       "60                   No         Yes           Yes                No   \n",
       "61                   No         Yes           Yes                No   \n",
       "62                   No         Yes           Yes                No   \n",
       "63                   No         Yes           Yes                No   \n",
       "64                   No         Yes           Yes                No   \n",
       "\n",
       "   Burning of urethra  \n",
       "60                Yes  \n",
       "61                Yes  \n",
       "62                Yes  \n",
       "63                Yes  \n",
       "64                Yes  "
      ]
     },
     "execution_count": 70,
     "metadata": {},
     "output_type": "execute_result"
    }
   ],
   "source": [
    "df2 = df2.drop(['Inflammation of urinary bladder', 'Nephritis of renal pelvis origin'], axis=1)\n",
    "df2.head()"
   ]
  },
  {
   "cell_type": "markdown",
   "id": "36505bd4",
   "metadata": {},
   "source": [
    "## Part A : Inflammation of urinary bladder"
   ]
  },
  {
   "cell_type": "code",
   "execution_count": 71,
   "id": "1b43e8eb",
   "metadata": {
    "scrolled": true
   },
   "outputs": [
    {
     "data": {
      "image/png": "[encoded data removed]",
      "text/plain": [
       "<Figure size 640x480 with 1 Axes>"
      ]
     },
     "metadata": {},
     "output_type": "display_data"
    }
   ],
   "source": [
    "#Inflammation of urinary bladder\n",
    "yes1 = (df1 == 'Yes').sum()\n",
    "no1 = (df1 == 'No').sum()\n",
    "myplot1 = pd.concat([yes1,no1], axis=1,keys=['Yes','No'])\n",
    "ax=myplot1.plot.bar(stacked=True)\n",
    "plt.show()"
   ]
  },
  {
   "cell_type": "code",
   "execution_count": 73,
   "id": "d1762290",
   "metadata": {
    "scrolled": true
   },
   "outputs": [
    {
     "data": {
      "text/plain": [
       "[['Urine pushing', 'Micturition pains', 'Burning of urethra'],\n",
       " ['Urine pushing', 'Micturition pains', 'Burning of urethra'],\n",
       " ['Urine pushing', 'Micturition pains', 'Burning of urethra'],\n",
       " ['Urine pushing', 'Micturition pains', 'Burning of urethra'],\n",
       " ['Urine pushing', 'Micturition pains', 'Burning of urethra'],\n",
       " ['Urine pushing', 'Micturition pains', 'Burning of urethra'],\n",
       " ['Urine pushing', 'Micturition pains', 'Burning of urethra'],\n",
       " ['Urine pushing', 'Micturition pains', 'Burning of urethra'],\n",
       " ['Urine pushing', 'Micturition pains', 'Burning of urethra'],\n",
       " ['Urine pushing', 'Micturition pains', 'Burning of urethra'],\n",
       " ['Urine pushing', 'Micturition pains'],\n",
       " ['Urine pushing', 'Micturition pains'],\n",
       " ['Urine pushing', 'Micturition pains', 'Burning of urethra'],\n",
       " ['Urine pushing', 'Micturition pains', 'Burning of urethra'],\n",
       " ['Urine pushing', 'Micturition pains', 'Burning of urethra'],\n",
       " ['Urine pushing', 'Micturition pains', 'Burning of urethra'],\n",
       " ['Urine pushing'],\n",
       " ['Urine pushing', 'Micturition pains', 'Burning of urethra'],\n",
       " ['Urine pushing'],\n",
       " ['Urine pushing', 'Micturition pains'],\n",
       " ['Urine pushing'],\n",
       " ['Urine pushing', 'Micturition pains', 'Burning of urethra'],\n",
       " ['Urine pushing'],\n",
       " ['Urine pushing'],\n",
       " ['Urine pushing', 'Micturition pains'],\n",
       " ['Urine pushing', 'Micturition pains', 'Burning of urethra'],\n",
       " ['Urine pushing'],\n",
       " ['Urine pushing'],\n",
       " ['Urine pushing', 'Micturition pains'],\n",
       " ['Urine pushing', 'Micturition pains'],\n",
       " ['Urine pushing', 'Micturition pains', 'Burning of urethra'],\n",
       " ['Urine pushing', 'Micturition pains'],\n",
       " ['Urine pushing', 'Micturition pains'],\n",
       " ['Urine pushing'],\n",
       " ['Urine pushing', 'Micturition pains', 'Burning of urethra'],\n",
       " ['Urine pushing'],\n",
       " ['Urine pushing', 'Micturition pains'],\n",
       " ['Urine pushing', 'Micturition pains'],\n",
       " ['Urine pushing', 'Micturition pains', 'Burning of urethra'],\n",
       " ['Urine pushing'],\n",
       " ['Occurrence of nausea',\n",
       "  'Lumbar pain',\n",
       "  'Urine pushing',\n",
       "  'Micturition pains',\n",
       "  'Burning of urethra'],\n",
       " ['Occurrence of nausea',\n",
       "  'Lumbar pain',\n",
       "  'Urine pushing',\n",
       "  'Micturition pains',\n",
       "  'Burning of urethra'],\n",
       " ['Occurrence of nausea', 'Lumbar pain', 'Urine pushing', 'Micturition pains'],\n",
       " ['Occurrence of nausea', 'Lumbar pain', 'Urine pushing', 'Micturition pains'],\n",
       " ['Occurrence of nausea',\n",
       "  'Lumbar pain',\n",
       "  'Urine pushing',\n",
       "  'Micturition pains',\n",
       "  'Burning of urethra'],\n",
       " ['Occurrence of nausea',\n",
       "  'Lumbar pain',\n",
       "  'Urine pushing',\n",
       "  'Micturition pains',\n",
       "  'Burning of urethra'],\n",
       " ['Occurrence of nausea', 'Lumbar pain', 'Urine pushing', 'Micturition pains'],\n",
       " ['Occurrence of nausea', 'Lumbar pain', 'Urine pushing', 'Micturition pains'],\n",
       " ['Occurrence of nausea', 'Lumbar pain', 'Urine pushing', 'Micturition pains'],\n",
       " ['Occurrence of nausea',\n",
       "  'Lumbar pain',\n",
       "  'Urine pushing',\n",
       "  'Micturition pains',\n",
       "  'Burning of urethra'],\n",
       " ['Occurrence of nausea',\n",
       "  'Lumbar pain',\n",
       "  'Urine pushing',\n",
       "  'Micturition pains',\n",
       "  'Burning of urethra'],\n",
       " ['Occurrence of nausea', 'Lumbar pain', 'Urine pushing', 'Micturition pains'],\n",
       " ['Occurrence of nausea', 'Lumbar pain', 'Urine pushing', 'Micturition pains'],\n",
       " ['Occurrence of nausea', 'Lumbar pain', 'Urine pushing', 'Micturition pains'],\n",
       " ['Occurrence of nausea',\n",
       "  'Lumbar pain',\n",
       "  'Urine pushing',\n",
       "  'Micturition pains',\n",
       "  'Burning of urethra'],\n",
       " ['Occurrence of nausea',\n",
       "  'Lumbar pain',\n",
       "  'Urine pushing',\n",
       "  'Micturition pains',\n",
       "  'Burning of urethra'],\n",
       " ['Occurrence of nausea', 'Lumbar pain', 'Urine pushing', 'Micturition pains'],\n",
       " ['Occurrence of nausea',\n",
       "  'Lumbar pain',\n",
       "  'Urine pushing',\n",
       "  'Micturition pains',\n",
       "  'Burning of urethra'],\n",
       " ['Occurrence of nausea', 'Lumbar pain', 'Urine pushing', 'Micturition pains']]"
      ]
     },
     "execution_count": 73,
     "metadata": {},
     "output_type": "execute_result"
    }
   ],
   "source": [
    "Inflammation_of_urinary_bladder = utils.data_prepare(df1)\n",
    "Inflammation_of_urinary_bladder"
   ]
  },
  {
   "cell_type": "code",
   "execution_count": 74,
   "id": "50f8b18b",
   "metadata": {},
   "outputs": [],
   "source": [
    "Rules_A = list(apriori(Inflammation_of_urinary_bladder, min_support=0.2, min_confidence=0.5))"
   ]
  },
  {
   "cell_type": "code",
   "execution_count": 75,
   "id": "06f6d9f4",
   "metadata": {
    "scrolled": true
   },
   "outputs": [
    {
     "data": {
      "text/plain": [
       "46"
      ]
     },
     "execution_count": 75,
     "metadata": {},
     "output_type": "execute_result"
    }
   ],
   "source": [
    "associationRules_A = utils.extract(Rules_A)\n",
    "rules_df1 = pd.DataFrame(associationRules_A, columns=['LHS', 'RHS', 'Support', 'Confidence', 'Lift'])\n",
    "len(rules_df1)"
   ]
  },
  {
   "cell_type": "code",
   "execution_count": 76,
   "id": "a5090df2",
   "metadata": {
    "scrolled": false
   },
   "outputs": [
    {
     "name": "stdout",
     "output_type": "stream",
     "text": [
      "The number of associated rules: 46\n",
      "LHS: [] --> RHS:['Micturition pains'], support: 0.83, confidence: 0.83, lift: 1.00\n",
      "--------------------------------------------------------------------------------\n",
      "LHS: [] --> RHS:['Urine pushing'], support: 1.00, confidence: 1.00, lift: 1.00\n",
      "--------------------------------------------------------------------------------\n",
      "LHS: ['Burning of urethra'] --> RHS:['Micturition pains'], support: 0.49, confidence: 1.00, lift: 1.20\n",
      "--------------------------------------------------------------------------------\n",
      "LHS: ['Micturition pains'] --> RHS:['Burning of urethra'], support: 0.49, confidence: 0.59, lift: 1.20\n",
      "--------------------------------------------------------------------------------\n",
      "LHS: ['Burning of urethra'] --> RHS:['Urine pushing'], support: 0.49, confidence: 1.00, lift: 1.00\n",
      "--------------------------------------------------------------------------------\n",
      "LHS: ['Lumbar pain'] --> RHS:['Micturition pains'], support: 0.32, confidence: 1.00, lift: 1.20\n",
      "--------------------------------------------------------------------------------\n",
      "LHS: ['Lumbar pain'] --> RHS:['Occurrence of nausea'], support: 0.32, confidence: 1.00, lift: 3.11\n",
      "--------------------------------------------------------------------------------\n",
      "LHS: ['Occurrence of nausea'] --> RHS:['Lumbar pain'], support: 0.32, confidence: 1.00, lift: 3.11\n",
      "--------------------------------------------------------------------------------\n",
      "LHS: ['Lumbar pain'] --> RHS:['Urine pushing'], support: 0.32, confidence: 1.00, lift: 1.00\n",
      "--------------------------------------------------------------------------------\n",
      "LHS: ['Occurrence of nausea'] --> RHS:['Micturition pains'], support: 0.32, confidence: 1.00, lift: 1.20\n",
      "--------------------------------------------------------------------------------\n",
      "LHS: [] --> RHS:['Micturition pains', 'Urine pushing'], support: 0.83, confidence: 0.83, lift: 1.00\n",
      "--------------------------------------------------------------------------------\n",
      "LHS: ['Micturition pains'] --> RHS:['Urine pushing'], support: 0.83, confidence: 1.00, lift: 1.00\n",
      "--------------------------------------------------------------------------------\n",
      "LHS: ['Urine pushing'] --> RHS:['Micturition pains'], support: 0.83, confidence: 0.83, lift: 1.00\n",
      "--------------------------------------------------------------------------------\n",
      "LHS: ['Occurrence of nausea'] --> RHS:['Urine pushing'], support: 0.32, confidence: 1.00, lift: 1.00\n",
      "--------------------------------------------------------------------------------\n",
      "LHS: ['Burning of urethra'] --> RHS:['Micturition pains', 'Urine pushing'], support: 0.49, confidence: 1.00, lift: 1.20\n",
      "--------------------------------------------------------------------------------\n",
      "LHS: ['Micturition pains'] --> RHS:['Burning of urethra', 'Urine pushing'], support: 0.49, confidence: 0.59, lift: 1.20\n",
      "--------------------------------------------------------------------------------\n",
      "LHS: ['Micturition pains', 'Burning of urethra'] --> RHS:['Urine pushing'], support: 0.49, confidence: 1.00, lift: 1.00\n",
      "--------------------------------------------------------------------------------\n",
      "LHS: ['Burning of urethra', 'Urine pushing'] --> RHS:['Micturition pains'], support: 0.49, confidence: 1.00, lift: 1.20\n",
      "--------------------------------------------------------------------------------\n",
      "LHS: ['Micturition pains', 'Urine pushing'] --> RHS:['Burning of urethra'], support: 0.49, confidence: 0.59, lift: 1.20\n",
      "--------------------------------------------------------------------------------\n",
      "LHS: ['Lumbar pain'] --> RHS:['Micturition pains', 'Occurrence of nausea'], support: 0.32, confidence: 1.00, lift: 3.11\n",
      "--------------------------------------------------------------------------------\n",
      "LHS: ['Occurrence of nausea'] --> RHS:['Micturition pains', 'Lumbar pain'], support: 0.32, confidence: 1.00, lift: 3.11\n",
      "--------------------------------------------------------------------------------\n",
      "LHS: ['Micturition pains', 'Lumbar pain'] --> RHS:['Occurrence of nausea'], support: 0.32, confidence: 1.00, lift: 3.11\n",
      "--------------------------------------------------------------------------------\n",
      "LHS: ['Lumbar pain', 'Occurrence of nausea'] --> RHS:['Micturition pains'], support: 0.32, confidence: 1.00, lift: 1.20\n",
      "--------------------------------------------------------------------------------\n",
      "LHS: ['Micturition pains', 'Occurrence of nausea'] --> RHS:['Lumbar pain'], support: 0.32, confidence: 1.00, lift: 3.11\n",
      "--------------------------------------------------------------------------------\n",
      "LHS: ['Lumbar pain'] --> RHS:['Micturition pains', 'Urine pushing'], support: 0.32, confidence: 1.00, lift: 1.20\n",
      "--------------------------------------------------------------------------------\n",
      "LHS: ['Micturition pains', 'Lumbar pain'] --> RHS:['Urine pushing'], support: 0.32, confidence: 1.00, lift: 1.00\n",
      "--------------------------------------------------------------------------------\n",
      "LHS: ['Lumbar pain', 'Urine pushing'] --> RHS:['Micturition pains'], support: 0.32, confidence: 1.00, lift: 1.20\n",
      "--------------------------------------------------------------------------------\n",
      "LHS: ['Lumbar pain'] --> RHS:['Occurrence of nausea', 'Urine pushing'], support: 0.32, confidence: 1.00, lift: 3.11\n",
      "--------------------------------------------------------------------------------\n",
      "LHS: ['Occurrence of nausea'] --> RHS:['Lumbar pain', 'Urine pushing'], support: 0.32, confidence: 1.00, lift: 3.11\n",
      "--------------------------------------------------------------------------------\n",
      "LHS: ['Lumbar pain', 'Occurrence of nausea'] --> RHS:['Urine pushing'], support: 0.32, confidence: 1.00, lift: 1.00\n",
      "--------------------------------------------------------------------------------\n",
      "LHS: ['Lumbar pain', 'Urine pushing'] --> RHS:['Occurrence of nausea'], support: 0.32, confidence: 1.00, lift: 3.11\n",
      "--------------------------------------------------------------------------------\n",
      "LHS: ['Occurrence of nausea', 'Urine pushing'] --> RHS:['Lumbar pain'], support: 0.32, confidence: 1.00, lift: 3.11\n",
      "--------------------------------------------------------------------------------\n",
      "LHS: ['Occurrence of nausea'] --> RHS:['Micturition pains', 'Urine pushing'], support: 0.32, confidence: 1.00, lift: 1.20\n",
      "--------------------------------------------------------------------------------\n",
      "LHS: ['Micturition pains', 'Occurrence of nausea'] --> RHS:['Urine pushing'], support: 0.32, confidence: 1.00, lift: 1.00\n",
      "--------------------------------------------------------------------------------\n",
      "LHS: ['Occurrence of nausea', 'Urine pushing'] --> RHS:['Micturition pains'], support: 0.32, confidence: 1.00, lift: 1.20\n",
      "--------------------------------------------------------------------------------\n",
      "LHS: ['Lumbar pain'] --> RHS:['Micturition pains', 'Occurrence of nausea', 'Urine pushing'], support: 0.32, confidence: 1.00, lift: 3.11\n",
      "--------------------------------------------------------------------------------\n",
      "LHS: ['Occurrence of nausea'] --> RHS:['Micturition pains', 'Lumbar pain', 'Urine pushing'], support: 0.32, confidence: 1.00, lift: 3.11\n",
      "--------------------------------------------------------------------------------\n",
      "LHS: ['Micturition pains', 'Lumbar pain'] --> RHS:['Occurrence of nausea', 'Urine pushing'], support: 0.32, confidence: 1.00, lift: 3.11\n",
      "--------------------------------------------------------------------------------\n",
      "LHS: ['Lumbar pain', 'Occurrence of nausea'] --> RHS:['Micturition pains', 'Urine pushing'], support: 0.32, confidence: 1.00, lift: 1.20\n",
      "--------------------------------------------------------------------------------\n",
      "LHS: ['Lumbar pain', 'Urine pushing'] --> RHS:['Micturition pains', 'Occurrence of nausea'], support: 0.32, confidence: 1.00, lift: 3.11\n",
      "--------------------------------------------------------------------------------\n",
      "LHS: ['Micturition pains', 'Occurrence of nausea'] --> RHS:['Lumbar pain', 'Urine pushing'], support: 0.32, confidence: 1.00, lift: 3.11\n",
      "--------------------------------------------------------------------------------\n",
      "LHS: ['Occurrence of nausea', 'Urine pushing'] --> RHS:['Micturition pains', 'Lumbar pain'], support: 0.32, confidence: 1.00, lift: 3.11\n",
      "--------------------------------------------------------------------------------\n",
      "LHS: ['Micturition pains', 'Lumbar pain', 'Occurrence of nausea'] --> RHS:['Urine pushing'], support: 0.32, confidence: 1.00, lift: 1.00\n",
      "--------------------------------------------------------------------------------\n",
      "LHS: ['Micturition pains', 'Lumbar pain', 'Urine pushing'] --> RHS:['Occurrence of nausea'], support: 0.32, confidence: 1.00, lift: 3.11\n",
      "--------------------------------------------------------------------------------\n",
      "LHS: ['Lumbar pain', 'Urine pushing', 'Occurrence of nausea'] --> RHS:['Micturition pains'], support: 0.32, confidence: 1.00, lift: 1.20\n",
      "--------------------------------------------------------------------------------\n",
      "LHS: ['Micturition pains', 'Occurrence of nausea', 'Urine pushing'] --> RHS:['Lumbar pain'], support: 0.32, confidence: 1.00, lift: 3.11\n",
      "--------------------------------------------------------------------------------\n"
     ]
    }
   ],
   "source": [
    "utils.inspect(associationRules_A)"
   ]
  },
  {
   "cell_type": "code",
   "execution_count": 77,
   "id": "3afd8e40",
   "metadata": {
    "scrolled": true
   },
   "outputs": [
    {
     "data": {
      "text/html": [
       "<div>\n",
       "<style scoped>\n",
       "    .dataframe tbody tr th:only-of-type {\n",
       "        vertical-align: middle;\n",
       "    }\n",
       "\n",
       "    .dataframe tbody tr th {\n",
       "        vertical-align: top;\n",
       "    }\n",
       "\n",
       "    .dataframe thead th {\n",
       "        text-align: right;\n",
       "    }\n",
       "</style>\n",
       "<table border=\"1\" class=\"dataframe\">\n",
       "  <thead>\n",
       "    <tr style=\"text-align: right;\">\n",
       "      <th></th>\n",
       "      <th>LHS</th>\n",
       "      <th>RHS</th>\n",
       "      <th>Support</th>\n",
       "      <th>Confidence</th>\n",
       "      <th>Lift</th>\n",
       "    </tr>\n",
       "  </thead>\n",
       "  <tbody>\n",
       "    <tr>\n",
       "      <th>6</th>\n",
       "      <td>[Lumbar pain]</td>\n",
       "      <td>[Occurrence of nausea]</td>\n",
       "      <td>0.322034</td>\n",
       "      <td>1.0</td>\n",
       "      <td>3.105263</td>\n",
       "    </tr>\n",
       "    <tr>\n",
       "      <th>7</th>\n",
       "      <td>[Occurrence of nausea]</td>\n",
       "      <td>[Lumbar pain]</td>\n",
       "      <td>0.322034</td>\n",
       "      <td>1.0</td>\n",
       "      <td>3.105263</td>\n",
       "    </tr>\n",
       "    <tr>\n",
       "      <th>19</th>\n",
       "      <td>[Lumbar pain]</td>\n",
       "      <td>[Micturition pains, Occurrence of nausea]</td>\n",
       "      <td>0.322034</td>\n",
       "      <td>1.0</td>\n",
       "      <td>3.105263</td>\n",
       "    </tr>\n",
       "    <tr>\n",
       "      <th>20</th>\n",
       "      <td>[Occurrence of nausea]</td>\n",
       "      <td>[Micturition pains, Lumbar pain]</td>\n",
       "      <td>0.322034</td>\n",
       "      <td>1.0</td>\n",
       "      <td>3.105263</td>\n",
       "    </tr>\n",
       "    <tr>\n",
       "      <th>21</th>\n",
       "      <td>[Micturition pains, Lumbar pain]</td>\n",
       "      <td>[Occurrence of nausea]</td>\n",
       "      <td>0.322034</td>\n",
       "      <td>1.0</td>\n",
       "      <td>3.105263</td>\n",
       "    </tr>\n",
       "    <tr>\n",
       "      <th>23</th>\n",
       "      <td>[Micturition pains, Occurrence of nausea]</td>\n",
       "      <td>[Lumbar pain]</td>\n",
       "      <td>0.322034</td>\n",
       "      <td>1.0</td>\n",
       "      <td>3.105263</td>\n",
       "    </tr>\n",
       "    <tr>\n",
       "      <th>27</th>\n",
       "      <td>[Lumbar pain]</td>\n",
       "      <td>[Occurrence of nausea, Urine pushing]</td>\n",
       "      <td>0.322034</td>\n",
       "      <td>1.0</td>\n",
       "      <td>3.105263</td>\n",
       "    </tr>\n",
       "    <tr>\n",
       "      <th>28</th>\n",
       "      <td>[Occurrence of nausea]</td>\n",
       "      <td>[Lumbar pain, Urine pushing]</td>\n",
       "      <td>0.322034</td>\n",
       "      <td>1.0</td>\n",
       "      <td>3.105263</td>\n",
       "    </tr>\n",
       "    <tr>\n",
       "      <th>30</th>\n",
       "      <td>[Lumbar pain, Urine pushing]</td>\n",
       "      <td>[Occurrence of nausea]</td>\n",
       "      <td>0.322034</td>\n",
       "      <td>1.0</td>\n",
       "      <td>3.105263</td>\n",
       "    </tr>\n",
       "    <tr>\n",
       "      <th>31</th>\n",
       "      <td>[Occurrence of nausea, Urine pushing]</td>\n",
       "      <td>[Lumbar pain]</td>\n",
       "      <td>0.322034</td>\n",
       "      <td>1.0</td>\n",
       "      <td>3.105263</td>\n",
       "    </tr>\n",
       "  </tbody>\n",
       "</table>\n",
       "</div>"
      ],
      "text/plain": [
       "                                          LHS  \\\n",
       "6                               [Lumbar pain]   \n",
       "7                      [Occurrence of nausea]   \n",
       "19                              [Lumbar pain]   \n",
       "20                     [Occurrence of nausea]   \n",
       "21           [Micturition pains, Lumbar pain]   \n",
       "23  [Micturition pains, Occurrence of nausea]   \n",
       "27                              [Lumbar pain]   \n",
       "28                     [Occurrence of nausea]   \n",
       "30               [Lumbar pain, Urine pushing]   \n",
       "31      [Occurrence of nausea, Urine pushing]   \n",
       "\n",
       "                                          RHS   Support  Confidence      Lift  \n",
       "6                      [Occurrence of nausea]  0.322034         1.0  3.105263  \n",
       "7                               [Lumbar pain]  0.322034         1.0  3.105263  \n",
       "19  [Micturition pains, Occurrence of nausea]  0.322034         1.0  3.105263  \n",
       "20           [Micturition pains, Lumbar pain]  0.322034         1.0  3.105263  \n",
       "21                     [Occurrence of nausea]  0.322034         1.0  3.105263  \n",
       "23                              [Lumbar pain]  0.322034         1.0  3.105263  \n",
       "27      [Occurrence of nausea, Urine pushing]  0.322034         1.0  3.105263  \n",
       "28               [Lumbar pain, Urine pushing]  0.322034         1.0  3.105263  \n",
       "30                     [Occurrence of nausea]  0.322034         1.0  3.105263  \n",
       "31                              [Lumbar pain]  0.322034         1.0  3.105263  "
      ]
     },
     "execution_count": 77,
     "metadata": {},
     "output_type": "execute_result"
    }
   ],
   "source": [
    "rules_df1.nlargest(10, 'Lift')"
   ]
  },
  {
   "cell_type": "code",
   "execution_count": 78,
   "id": "246bf208",
   "metadata": {
    "scrolled": true
   },
   "outputs": [
    {
     "data": {
      "text/html": [
       "<div>\n",
       "<style scoped>\n",
       "    .dataframe tbody tr th:only-of-type {\n",
       "        vertical-align: middle;\n",
       "    }\n",
       "\n",
       "    .dataframe tbody tr th {\n",
       "        vertical-align: top;\n",
       "    }\n",
       "\n",
       "    .dataframe thead th {\n",
       "        text-align: right;\n",
       "    }\n",
       "</style>\n",
       "<table border=\"1\" class=\"dataframe\">\n",
       "  <thead>\n",
       "    <tr style=\"text-align: right;\">\n",
       "      <th></th>\n",
       "      <th>LHS</th>\n",
       "      <th>RHS</th>\n",
       "      <th>Support</th>\n",
       "      <th>Confidence</th>\n",
       "      <th>Lift</th>\n",
       "    </tr>\n",
       "  </thead>\n",
       "  <tbody>\n",
       "    <tr>\n",
       "      <th>1</th>\n",
       "      <td>[]</td>\n",
       "      <td>[Urine pushing]</td>\n",
       "      <td>1.000000</td>\n",
       "      <td>1.000000</td>\n",
       "      <td>1.000000</td>\n",
       "    </tr>\n",
       "    <tr>\n",
       "      <th>0</th>\n",
       "      <td>[]</td>\n",
       "      <td>[Micturition pains]</td>\n",
       "      <td>0.830508</td>\n",
       "      <td>0.830508</td>\n",
       "      <td>1.000000</td>\n",
       "    </tr>\n",
       "    <tr>\n",
       "      <th>10</th>\n",
       "      <td>[]</td>\n",
       "      <td>[Micturition pains, Urine pushing]</td>\n",
       "      <td>0.830508</td>\n",
       "      <td>0.830508</td>\n",
       "      <td>1.000000</td>\n",
       "    </tr>\n",
       "    <tr>\n",
       "      <th>11</th>\n",
       "      <td>[Micturition pains]</td>\n",
       "      <td>[Urine pushing]</td>\n",
       "      <td>0.830508</td>\n",
       "      <td>1.000000</td>\n",
       "      <td>1.000000</td>\n",
       "    </tr>\n",
       "    <tr>\n",
       "      <th>12</th>\n",
       "      <td>[Urine pushing]</td>\n",
       "      <td>[Micturition pains]</td>\n",
       "      <td>0.830508</td>\n",
       "      <td>0.830508</td>\n",
       "      <td>1.000000</td>\n",
       "    </tr>\n",
       "    <tr>\n",
       "      <th>2</th>\n",
       "      <td>[Burning of urethra]</td>\n",
       "      <td>[Micturition pains]</td>\n",
       "      <td>0.491525</td>\n",
       "      <td>1.000000</td>\n",
       "      <td>1.204082</td>\n",
       "    </tr>\n",
       "    <tr>\n",
       "      <th>3</th>\n",
       "      <td>[Micturition pains]</td>\n",
       "      <td>[Burning of urethra]</td>\n",
       "      <td>0.491525</td>\n",
       "      <td>0.591837</td>\n",
       "      <td>1.204082</td>\n",
       "    </tr>\n",
       "    <tr>\n",
       "      <th>4</th>\n",
       "      <td>[Burning of urethra]</td>\n",
       "      <td>[Urine pushing]</td>\n",
       "      <td>0.491525</td>\n",
       "      <td>1.000000</td>\n",
       "      <td>1.000000</td>\n",
       "    </tr>\n",
       "    <tr>\n",
       "      <th>14</th>\n",
       "      <td>[Burning of urethra]</td>\n",
       "      <td>[Micturition pains, Urine pushing]</td>\n",
       "      <td>0.491525</td>\n",
       "      <td>1.000000</td>\n",
       "      <td>1.204082</td>\n",
       "    </tr>\n",
       "    <tr>\n",
       "      <th>15</th>\n",
       "      <td>[Micturition pains]</td>\n",
       "      <td>[Burning of urethra, Urine pushing]</td>\n",
       "      <td>0.491525</td>\n",
       "      <td>0.591837</td>\n",
       "      <td>1.204082</td>\n",
       "    </tr>\n",
       "  </tbody>\n",
       "</table>\n",
       "</div>"
      ],
      "text/plain": [
       "                     LHS                                  RHS   Support  \\\n",
       "1                     []                      [Urine pushing]  1.000000   \n",
       "0                     []                  [Micturition pains]  0.830508   \n",
       "10                    []   [Micturition pains, Urine pushing]  0.830508   \n",
       "11   [Micturition pains]                      [Urine pushing]  0.830508   \n",
       "12       [Urine pushing]                  [Micturition pains]  0.830508   \n",
       "2   [Burning of urethra]                  [Micturition pains]  0.491525   \n",
       "3    [Micturition pains]                 [Burning of urethra]  0.491525   \n",
       "4   [Burning of urethra]                      [Urine pushing]  0.491525   \n",
       "14  [Burning of urethra]   [Micturition pains, Urine pushing]  0.491525   \n",
       "15   [Micturition pains]  [Burning of urethra, Urine pushing]  0.491525   \n",
       "\n",
       "    Confidence      Lift  \n",
       "1     1.000000  1.000000  \n",
       "0     0.830508  1.000000  \n",
       "10    0.830508  1.000000  \n",
       "11    1.000000  1.000000  \n",
       "12    0.830508  1.000000  \n",
       "2     1.000000  1.204082  \n",
       "3     0.591837  1.204082  \n",
       "4     1.000000  1.000000  \n",
       "14    1.000000  1.204082  \n",
       "15    0.591837  1.204082  "
      ]
     },
     "execution_count": 78,
     "metadata": {},
     "output_type": "execute_result"
    }
   ],
   "source": [
    "rules_df1.nlargest(10, 'Support')"
   ]
  },
  {
   "cell_type": "code",
   "execution_count": 79,
   "id": "b297996e",
   "metadata": {
    "scrolled": true
   },
   "outputs": [
    {
     "data": {
      "text/html": [
       "<div>\n",
       "<style scoped>\n",
       "    .dataframe tbody tr th:only-of-type {\n",
       "        vertical-align: middle;\n",
       "    }\n",
       "\n",
       "    .dataframe tbody tr th {\n",
       "        vertical-align: top;\n",
       "    }\n",
       "\n",
       "    .dataframe thead th {\n",
       "        text-align: right;\n",
       "    }\n",
       "</style>\n",
       "<table border=\"1\" class=\"dataframe\">\n",
       "  <thead>\n",
       "    <tr style=\"text-align: right;\">\n",
       "      <th></th>\n",
       "      <th>LHS</th>\n",
       "      <th>RHS</th>\n",
       "      <th>Support</th>\n",
       "      <th>Confidence</th>\n",
       "      <th>Lift</th>\n",
       "    </tr>\n",
       "  </thead>\n",
       "  <tbody>\n",
       "    <tr>\n",
       "      <th>1</th>\n",
       "      <td>[]</td>\n",
       "      <td>[Urine pushing]</td>\n",
       "      <td>1.000000</td>\n",
       "      <td>1.0</td>\n",
       "      <td>1.000000</td>\n",
       "    </tr>\n",
       "    <tr>\n",
       "      <th>2</th>\n",
       "      <td>[Burning of urethra]</td>\n",
       "      <td>[Micturition pains]</td>\n",
       "      <td>0.491525</td>\n",
       "      <td>1.0</td>\n",
       "      <td>1.204082</td>\n",
       "    </tr>\n",
       "    <tr>\n",
       "      <th>4</th>\n",
       "      <td>[Burning of urethra]</td>\n",
       "      <td>[Urine pushing]</td>\n",
       "      <td>0.491525</td>\n",
       "      <td>1.0</td>\n",
       "      <td>1.000000</td>\n",
       "    </tr>\n",
       "    <tr>\n",
       "      <th>5</th>\n",
       "      <td>[Lumbar pain]</td>\n",
       "      <td>[Micturition pains]</td>\n",
       "      <td>0.322034</td>\n",
       "      <td>1.0</td>\n",
       "      <td>1.204082</td>\n",
       "    </tr>\n",
       "    <tr>\n",
       "      <th>6</th>\n",
       "      <td>[Lumbar pain]</td>\n",
       "      <td>[Occurrence of nausea]</td>\n",
       "      <td>0.322034</td>\n",
       "      <td>1.0</td>\n",
       "      <td>3.105263</td>\n",
       "    </tr>\n",
       "    <tr>\n",
       "      <th>7</th>\n",
       "      <td>[Occurrence of nausea]</td>\n",
       "      <td>[Lumbar pain]</td>\n",
       "      <td>0.322034</td>\n",
       "      <td>1.0</td>\n",
       "      <td>3.105263</td>\n",
       "    </tr>\n",
       "    <tr>\n",
       "      <th>8</th>\n",
       "      <td>[Lumbar pain]</td>\n",
       "      <td>[Urine pushing]</td>\n",
       "      <td>0.322034</td>\n",
       "      <td>1.0</td>\n",
       "      <td>1.000000</td>\n",
       "    </tr>\n",
       "    <tr>\n",
       "      <th>9</th>\n",
       "      <td>[Occurrence of nausea]</td>\n",
       "      <td>[Micturition pains]</td>\n",
       "      <td>0.322034</td>\n",
       "      <td>1.0</td>\n",
       "      <td>1.204082</td>\n",
       "    </tr>\n",
       "    <tr>\n",
       "      <th>11</th>\n",
       "      <td>[Micturition pains]</td>\n",
       "      <td>[Urine pushing]</td>\n",
       "      <td>0.830508</td>\n",
       "      <td>1.0</td>\n",
       "      <td>1.000000</td>\n",
       "    </tr>\n",
       "    <tr>\n",
       "      <th>13</th>\n",
       "      <td>[Occurrence of nausea]</td>\n",
       "      <td>[Urine pushing]</td>\n",
       "      <td>0.322034</td>\n",
       "      <td>1.0</td>\n",
       "      <td>1.000000</td>\n",
       "    </tr>\n",
       "  </tbody>\n",
       "</table>\n",
       "</div>"
      ],
      "text/plain": [
       "                       LHS                     RHS   Support  Confidence  \\\n",
       "1                       []         [Urine pushing]  1.000000         1.0   \n",
       "2     [Burning of urethra]     [Micturition pains]  0.491525         1.0   \n",
       "4     [Burning of urethra]         [Urine pushing]  0.491525         1.0   \n",
       "5            [Lumbar pain]     [Micturition pains]  0.322034         1.0   \n",
       "6            [Lumbar pain]  [Occurrence of nausea]  0.322034         1.0   \n",
       "7   [Occurrence of nausea]           [Lumbar pain]  0.322034         1.0   \n",
       "8            [Lumbar pain]         [Urine pushing]  0.322034         1.0   \n",
       "9   [Occurrence of nausea]     [Micturition pains]  0.322034         1.0   \n",
       "11     [Micturition pains]         [Urine pushing]  0.830508         1.0   \n",
       "13  [Occurrence of nausea]         [Urine pushing]  0.322034         1.0   \n",
       "\n",
       "        Lift  \n",
       "1   1.000000  \n",
       "2   1.204082  \n",
       "4   1.000000  \n",
       "5   1.204082  \n",
       "6   3.105263  \n",
       "7   3.105263  \n",
       "8   1.000000  \n",
       "9   1.204082  \n",
       "11  1.000000  \n",
       "13  1.000000  "
      ]
     },
     "execution_count": 79,
     "metadata": {},
     "output_type": "execute_result"
    }
   ],
   "source": [
    "rules_df1.nlargest(10, 'Confidence')"
   ]
  },
  {
   "cell_type": "code",
   "execution_count": 80,
   "id": "72977a55",
   "metadata": {
    "scrolled": true
   },
   "outputs": [
    {
     "data": {
      "text/html": [
       "<div>\n",
       "<style scoped>\n",
       "    .dataframe tbody tr th:only-of-type {\n",
       "        vertical-align: middle;\n",
       "    }\n",
       "\n",
       "    .dataframe tbody tr th {\n",
       "        vertical-align: top;\n",
       "    }\n",
       "\n",
       "    .dataframe thead th {\n",
       "        text-align: right;\n",
       "    }\n",
       "</style>\n",
       "<table border=\"1\" class=\"dataframe\">\n",
       "  <thead>\n",
       "    <tr style=\"text-align: right;\">\n",
       "      <th></th>\n",
       "      <th>LHS</th>\n",
       "      <th>RHS</th>\n",
       "      <th>Support</th>\n",
       "      <th>Confidence</th>\n",
       "      <th>Lift</th>\n",
       "    </tr>\n",
       "  </thead>\n",
       "  <tbody>\n",
       "    <tr>\n",
       "      <th>11</th>\n",
       "      <td>[Micturition pains]</td>\n",
       "      <td>[Urine pushing]</td>\n",
       "      <td>0.830508</td>\n",
       "      <td>1.000000</td>\n",
       "      <td>1.000000</td>\n",
       "    </tr>\n",
       "    <tr>\n",
       "      <th>12</th>\n",
       "      <td>[Urine pushing]</td>\n",
       "      <td>[Micturition pains]</td>\n",
       "      <td>0.830508</td>\n",
       "      <td>0.830508</td>\n",
       "      <td>1.000000</td>\n",
       "    </tr>\n",
       "    <tr>\n",
       "      <th>2</th>\n",
       "      <td>[Burning of urethra]</td>\n",
       "      <td>[Micturition pains]</td>\n",
       "      <td>0.491525</td>\n",
       "      <td>1.000000</td>\n",
       "      <td>1.204082</td>\n",
       "    </tr>\n",
       "    <tr>\n",
       "      <th>3</th>\n",
       "      <td>[Micturition pains]</td>\n",
       "      <td>[Burning of urethra]</td>\n",
       "      <td>0.491525</td>\n",
       "      <td>0.591837</td>\n",
       "      <td>1.204082</td>\n",
       "    </tr>\n",
       "    <tr>\n",
       "      <th>4</th>\n",
       "      <td>[Burning of urethra]</td>\n",
       "      <td>[Urine pushing]</td>\n",
       "      <td>0.491525</td>\n",
       "      <td>1.000000</td>\n",
       "      <td>1.000000</td>\n",
       "    </tr>\n",
       "    <tr>\n",
       "      <th>14</th>\n",
       "      <td>[Burning of urethra]</td>\n",
       "      <td>[Micturition pains, Urine pushing]</td>\n",
       "      <td>0.491525</td>\n",
       "      <td>1.000000</td>\n",
       "      <td>1.204082</td>\n",
       "    </tr>\n",
       "    <tr>\n",
       "      <th>15</th>\n",
       "      <td>[Micturition pains]</td>\n",
       "      <td>[Burning of urethra, Urine pushing]</td>\n",
       "      <td>0.491525</td>\n",
       "      <td>0.591837</td>\n",
       "      <td>1.204082</td>\n",
       "    </tr>\n",
       "    <tr>\n",
       "      <th>16</th>\n",
       "      <td>[Micturition pains, Burning of urethra]</td>\n",
       "      <td>[Urine pushing]</td>\n",
       "      <td>0.491525</td>\n",
       "      <td>1.000000</td>\n",
       "      <td>1.000000</td>\n",
       "    </tr>\n",
       "    <tr>\n",
       "      <th>17</th>\n",
       "      <td>[Burning of urethra, Urine pushing]</td>\n",
       "      <td>[Micturition pains]</td>\n",
       "      <td>0.491525</td>\n",
       "      <td>1.000000</td>\n",
       "      <td>1.204082</td>\n",
       "    </tr>\n",
       "    <tr>\n",
       "      <th>18</th>\n",
       "      <td>[Micturition pains, Urine pushing]</td>\n",
       "      <td>[Burning of urethra]</td>\n",
       "      <td>0.491525</td>\n",
       "      <td>0.591837</td>\n",
       "      <td>1.204082</td>\n",
       "    </tr>\n",
       "  </tbody>\n",
       "</table>\n",
       "</div>"
      ],
      "text/plain": [
       "                                        LHS  \\\n",
       "11                      [Micturition pains]   \n",
       "12                          [Urine pushing]   \n",
       "2                      [Burning of urethra]   \n",
       "3                       [Micturition pains]   \n",
       "4                      [Burning of urethra]   \n",
       "14                     [Burning of urethra]   \n",
       "15                      [Micturition pains]   \n",
       "16  [Micturition pains, Burning of urethra]   \n",
       "17      [Burning of urethra, Urine pushing]   \n",
       "18       [Micturition pains, Urine pushing]   \n",
       "\n",
       "                                    RHS   Support  Confidence      Lift  \n",
       "11                      [Urine pushing]  0.830508    1.000000  1.000000  \n",
       "12                  [Micturition pains]  0.830508    0.830508  1.000000  \n",
       "2                   [Micturition pains]  0.491525    1.000000  1.204082  \n",
       "3                  [Burning of urethra]  0.491525    0.591837  1.204082  \n",
       "4                       [Urine pushing]  0.491525    1.000000  1.000000  \n",
       "14   [Micturition pains, Urine pushing]  0.491525    1.000000  1.204082  \n",
       "15  [Burning of urethra, Urine pushing]  0.491525    0.591837  1.204082  \n",
       "16                      [Urine pushing]  0.491525    1.000000  1.000000  \n",
       "17                  [Micturition pains]  0.491525    1.000000  1.204082  \n",
       "18                 [Burning of urethra]  0.491525    0.591837  1.204082  "
      ]
     },
     "execution_count": 80,
     "metadata": {},
     "output_type": "execute_result"
    }
   ],
   "source": [
    "rules_df1[rules_df1['LHS'].apply(lambda x: len(x) > 0)].nlargest(10,'Support')"
   ]
  },
  {
   "cell_type": "code",
   "execution_count": 81,
   "id": "50c0eac1",
   "metadata": {},
   "outputs": [
    {
     "data": {
      "text/plain": [
       "35"
      ]
     },
     "execution_count": 81,
     "metadata": {},
     "output_type": "execute_result"
    }
   ],
   "source": [
    "Rules_A = list(apriori(Inflammation_of_urinary_bladder, min_support=0.2, min_confidence=0.5, max_length=3))\n",
    "associationRules_A = utils.extract(Rules_A)\n",
    "rules_df1 = pd.DataFrame(associationRules_A, columns=['LHS', 'RHS', 'Support', 'Confidence', 'Lift'])\n",
    "len(rules_df1)"
   ]
  },
  {
   "cell_type": "code",
   "execution_count": 82,
   "id": "c50ccb19",
   "metadata": {
    "scrolled": true
   },
   "outputs": [
    {
     "data": {
      "text/html": [
       "<div>\n",
       "<style scoped>\n",
       "    .dataframe tbody tr th:only-of-type {\n",
       "        vertical-align: middle;\n",
       "    }\n",
       "\n",
       "    .dataframe tbody tr th {\n",
       "        vertical-align: top;\n",
       "    }\n",
       "\n",
       "    .dataframe thead th {\n",
       "        text-align: right;\n",
       "    }\n",
       "</style>\n",
       "<table border=\"1\" class=\"dataframe\">\n",
       "  <thead>\n",
       "    <tr style=\"text-align: right;\">\n",
       "      <th></th>\n",
       "      <th>LHS</th>\n",
       "      <th>RHS</th>\n",
       "      <th>Support</th>\n",
       "      <th>Confidence</th>\n",
       "      <th>Lift</th>\n",
       "    </tr>\n",
       "  </thead>\n",
       "  <tbody>\n",
       "    <tr>\n",
       "      <th>6</th>\n",
       "      <td>[Lumbar pain]</td>\n",
       "      <td>[Occurrence of nausea]</td>\n",
       "      <td>0.322034</td>\n",
       "      <td>1.0</td>\n",
       "      <td>3.105263</td>\n",
       "    </tr>\n",
       "    <tr>\n",
       "      <th>7</th>\n",
       "      <td>[Occurrence of nausea]</td>\n",
       "      <td>[Lumbar pain]</td>\n",
       "      <td>0.322034</td>\n",
       "      <td>1.0</td>\n",
       "      <td>3.105263</td>\n",
       "    </tr>\n",
       "    <tr>\n",
       "      <th>19</th>\n",
       "      <td>[Lumbar pain]</td>\n",
       "      <td>[Micturition pains, Occurrence of nausea]</td>\n",
       "      <td>0.322034</td>\n",
       "      <td>1.0</td>\n",
       "      <td>3.105263</td>\n",
       "    </tr>\n",
       "    <tr>\n",
       "      <th>20</th>\n",
       "      <td>[Occurrence of nausea]</td>\n",
       "      <td>[Micturition pains, Lumbar pain]</td>\n",
       "      <td>0.322034</td>\n",
       "      <td>1.0</td>\n",
       "      <td>3.105263</td>\n",
       "    </tr>\n",
       "    <tr>\n",
       "      <th>21</th>\n",
       "      <td>[Micturition pains, Lumbar pain]</td>\n",
       "      <td>[Occurrence of nausea]</td>\n",
       "      <td>0.322034</td>\n",
       "      <td>1.0</td>\n",
       "      <td>3.105263</td>\n",
       "    </tr>\n",
       "    <tr>\n",
       "      <th>23</th>\n",
       "      <td>[Micturition pains, Occurrence of nausea]</td>\n",
       "      <td>[Lumbar pain]</td>\n",
       "      <td>0.322034</td>\n",
       "      <td>1.0</td>\n",
       "      <td>3.105263</td>\n",
       "    </tr>\n",
       "    <tr>\n",
       "      <th>27</th>\n",
       "      <td>[Lumbar pain]</td>\n",
       "      <td>[Occurrence of nausea, Urine pushing]</td>\n",
       "      <td>0.322034</td>\n",
       "      <td>1.0</td>\n",
       "      <td>3.105263</td>\n",
       "    </tr>\n",
       "    <tr>\n",
       "      <th>28</th>\n",
       "      <td>[Occurrence of nausea]</td>\n",
       "      <td>[Lumbar pain, Urine pushing]</td>\n",
       "      <td>0.322034</td>\n",
       "      <td>1.0</td>\n",
       "      <td>3.105263</td>\n",
       "    </tr>\n",
       "    <tr>\n",
       "      <th>30</th>\n",
       "      <td>[Lumbar pain, Urine pushing]</td>\n",
       "      <td>[Occurrence of nausea]</td>\n",
       "      <td>0.322034</td>\n",
       "      <td>1.0</td>\n",
       "      <td>3.105263</td>\n",
       "    </tr>\n",
       "    <tr>\n",
       "      <th>31</th>\n",
       "      <td>[Occurrence of nausea, Urine pushing]</td>\n",
       "      <td>[Lumbar pain]</td>\n",
       "      <td>0.322034</td>\n",
       "      <td>1.0</td>\n",
       "      <td>3.105263</td>\n",
       "    </tr>\n",
       "  </tbody>\n",
       "</table>\n",
       "</div>"
      ],
      "text/plain": [
       "                                          LHS  \\\n",
       "6                               [Lumbar pain]   \n",
       "7                      [Occurrence of nausea]   \n",
       "19                              [Lumbar pain]   \n",
       "20                     [Occurrence of nausea]   \n",
       "21           [Micturition pains, Lumbar pain]   \n",
       "23  [Micturition pains, Occurrence of nausea]   \n",
       "27                              [Lumbar pain]   \n",
       "28                     [Occurrence of nausea]   \n",
       "30               [Lumbar pain, Urine pushing]   \n",
       "31      [Occurrence of nausea, Urine pushing]   \n",
       "\n",
       "                                          RHS   Support  Confidence      Lift  \n",
       "6                      [Occurrence of nausea]  0.322034         1.0  3.105263  \n",
       "7                               [Lumbar pain]  0.322034         1.0  3.105263  \n",
       "19  [Micturition pains, Occurrence of nausea]  0.322034         1.0  3.105263  \n",
       "20           [Micturition pains, Lumbar pain]  0.322034         1.0  3.105263  \n",
       "21                     [Occurrence of nausea]  0.322034         1.0  3.105263  \n",
       "23                              [Lumbar pain]  0.322034         1.0  3.105263  \n",
       "27      [Occurrence of nausea, Urine pushing]  0.322034         1.0  3.105263  \n",
       "28               [Lumbar pain, Urine pushing]  0.322034         1.0  3.105263  \n",
       "30                     [Occurrence of nausea]  0.322034         1.0  3.105263  \n",
       "31                              [Lumbar pain]  0.322034         1.0  3.105263  "
      ]
     },
     "execution_count": 82,
     "metadata": {},
     "output_type": "execute_result"
    }
   ],
   "source": [
    "rules_df1.nlargest(10, \"Lift\")"
   ]
  },
  {
   "cell_type": "code",
   "execution_count": 83,
   "id": "f6b25150",
   "metadata": {
    "scrolled": true
   },
   "outputs": [
    {
     "data": {
      "text/html": [
       "<div>\n",
       "<style scoped>\n",
       "    .dataframe tbody tr th:only-of-type {\n",
       "        vertical-align: middle;\n",
       "    }\n",
       "\n",
       "    .dataframe tbody tr th {\n",
       "        vertical-align: top;\n",
       "    }\n",
       "\n",
       "    .dataframe thead th {\n",
       "        text-align: right;\n",
       "    }\n",
       "</style>\n",
       "<table border=\"1\" class=\"dataframe\">\n",
       "  <thead>\n",
       "    <tr style=\"text-align: right;\">\n",
       "      <th></th>\n",
       "      <th>LHS</th>\n",
       "      <th>RHS</th>\n",
       "      <th>Support</th>\n",
       "      <th>Confidence</th>\n",
       "      <th>Lift</th>\n",
       "    </tr>\n",
       "  </thead>\n",
       "  <tbody>\n",
       "    <tr>\n",
       "      <th>1</th>\n",
       "      <td>[]</td>\n",
       "      <td>[Urine pushing]</td>\n",
       "      <td>1.000000</td>\n",
       "      <td>1.000000</td>\n",
       "      <td>1.000000</td>\n",
       "    </tr>\n",
       "    <tr>\n",
       "      <th>0</th>\n",
       "      <td>[]</td>\n",
       "      <td>[Micturition pains]</td>\n",
       "      <td>0.830508</td>\n",
       "      <td>0.830508</td>\n",
       "      <td>1.000000</td>\n",
       "    </tr>\n",
       "    <tr>\n",
       "      <th>10</th>\n",
       "      <td>[]</td>\n",
       "      <td>[Micturition pains, Urine pushing]</td>\n",
       "      <td>0.830508</td>\n",
       "      <td>0.830508</td>\n",
       "      <td>1.000000</td>\n",
       "    </tr>\n",
       "    <tr>\n",
       "      <th>11</th>\n",
       "      <td>[Micturition pains]</td>\n",
       "      <td>[Urine pushing]</td>\n",
       "      <td>0.830508</td>\n",
       "      <td>1.000000</td>\n",
       "      <td>1.000000</td>\n",
       "    </tr>\n",
       "    <tr>\n",
       "      <th>12</th>\n",
       "      <td>[Urine pushing]</td>\n",
       "      <td>[Micturition pains]</td>\n",
       "      <td>0.830508</td>\n",
       "      <td>0.830508</td>\n",
       "      <td>1.000000</td>\n",
       "    </tr>\n",
       "    <tr>\n",
       "      <th>2</th>\n",
       "      <td>[Burning of urethra]</td>\n",
       "      <td>[Micturition pains]</td>\n",
       "      <td>0.491525</td>\n",
       "      <td>1.000000</td>\n",
       "      <td>1.204082</td>\n",
       "    </tr>\n",
       "    <tr>\n",
       "      <th>3</th>\n",
       "      <td>[Micturition pains]</td>\n",
       "      <td>[Burning of urethra]</td>\n",
       "      <td>0.491525</td>\n",
       "      <td>0.591837</td>\n",
       "      <td>1.204082</td>\n",
       "    </tr>\n",
       "    <tr>\n",
       "      <th>4</th>\n",
       "      <td>[Burning of urethra]</td>\n",
       "      <td>[Urine pushing]</td>\n",
       "      <td>0.491525</td>\n",
       "      <td>1.000000</td>\n",
       "      <td>1.000000</td>\n",
       "    </tr>\n",
       "    <tr>\n",
       "      <th>14</th>\n",
       "      <td>[Burning of urethra]</td>\n",
       "      <td>[Micturition pains, Urine pushing]</td>\n",
       "      <td>0.491525</td>\n",
       "      <td>1.000000</td>\n",
       "      <td>1.204082</td>\n",
       "    </tr>\n",
       "    <tr>\n",
       "      <th>15</th>\n",
       "      <td>[Micturition pains]</td>\n",
       "      <td>[Burning of urethra, Urine pushing]</td>\n",
       "      <td>0.491525</td>\n",
       "      <td>0.591837</td>\n",
       "      <td>1.204082</td>\n",
       "    </tr>\n",
       "  </tbody>\n",
       "</table>\n",
       "</div>"
      ],
      "text/plain": [
       "                     LHS                                  RHS   Support  \\\n",
       "1                     []                      [Urine pushing]  1.000000   \n",
       "0                     []                  [Micturition pains]  0.830508   \n",
       "10                    []   [Micturition pains, Urine pushing]  0.830508   \n",
       "11   [Micturition pains]                      [Urine pushing]  0.830508   \n",
       "12       [Urine pushing]                  [Micturition pains]  0.830508   \n",
       "2   [Burning of urethra]                  [Micturition pains]  0.491525   \n",
       "3    [Micturition pains]                 [Burning of urethra]  0.491525   \n",
       "4   [Burning of urethra]                      [Urine pushing]  0.491525   \n",
       "14  [Burning of urethra]   [Micturition pains, Urine pushing]  0.491525   \n",
       "15   [Micturition pains]  [Burning of urethra, Urine pushing]  0.491525   \n",
       "\n",
       "    Confidence      Lift  \n",
       "1     1.000000  1.000000  \n",
       "0     0.830508  1.000000  \n",
       "10    0.830508  1.000000  \n",
       "11    1.000000  1.000000  \n",
       "12    0.830508  1.000000  \n",
       "2     1.000000  1.204082  \n",
       "3     0.591837  1.204082  \n",
       "4     1.000000  1.000000  \n",
       "14    1.000000  1.204082  \n",
       "15    0.591837  1.204082  "
      ]
     },
     "execution_count": 83,
     "metadata": {},
     "output_type": "execute_result"
    }
   ],
   "source": [
    "rules_df1.nlargest(10, \"Support\")"
   ]
  },
  {
   "cell_type": "code",
   "execution_count": 84,
   "id": "436b9eb7",
   "metadata": {
    "scrolled": true
   },
   "outputs": [
    {
     "data": {
      "text/html": [
       "<div>\n",
       "<style scoped>\n",
       "    .dataframe tbody tr th:only-of-type {\n",
       "        vertical-align: middle;\n",
       "    }\n",
       "\n",
       "    .dataframe tbody tr th {\n",
       "        vertical-align: top;\n",
       "    }\n",
       "\n",
       "    .dataframe thead th {\n",
       "        text-align: right;\n",
       "    }\n",
       "</style>\n",
       "<table border=\"1\" class=\"dataframe\">\n",
       "  <thead>\n",
       "    <tr style=\"text-align: right;\">\n",
       "      <th></th>\n",
       "      <th>LHS</th>\n",
       "      <th>RHS</th>\n",
       "      <th>Support</th>\n",
       "      <th>Confidence</th>\n",
       "      <th>Lift</th>\n",
       "    </tr>\n",
       "  </thead>\n",
       "  <tbody>\n",
       "    <tr>\n",
       "      <th>1</th>\n",
       "      <td>[]</td>\n",
       "      <td>[Urine pushing]</td>\n",
       "      <td>1.000000</td>\n",
       "      <td>1.0</td>\n",
       "      <td>1.000000</td>\n",
       "    </tr>\n",
       "    <tr>\n",
       "      <th>2</th>\n",
       "      <td>[Burning of urethra]</td>\n",
       "      <td>[Micturition pains]</td>\n",
       "      <td>0.491525</td>\n",
       "      <td>1.0</td>\n",
       "      <td>1.204082</td>\n",
       "    </tr>\n",
       "    <tr>\n",
       "      <th>4</th>\n",
       "      <td>[Burning of urethra]</td>\n",
       "      <td>[Urine pushing]</td>\n",
       "      <td>0.491525</td>\n",
       "      <td>1.0</td>\n",
       "      <td>1.000000</td>\n",
       "    </tr>\n",
       "    <tr>\n",
       "      <th>5</th>\n",
       "      <td>[Lumbar pain]</td>\n",
       "      <td>[Micturition pains]</td>\n",
       "      <td>0.322034</td>\n",
       "      <td>1.0</td>\n",
       "      <td>1.204082</td>\n",
       "    </tr>\n",
       "    <tr>\n",
       "      <th>6</th>\n",
       "      <td>[Lumbar pain]</td>\n",
       "      <td>[Occurrence of nausea]</td>\n",
       "      <td>0.322034</td>\n",
       "      <td>1.0</td>\n",
       "      <td>3.105263</td>\n",
       "    </tr>\n",
       "    <tr>\n",
       "      <th>7</th>\n",
       "      <td>[Occurrence of nausea]</td>\n",
       "      <td>[Lumbar pain]</td>\n",
       "      <td>0.322034</td>\n",
       "      <td>1.0</td>\n",
       "      <td>3.105263</td>\n",
       "    </tr>\n",
       "    <tr>\n",
       "      <th>8</th>\n",
       "      <td>[Lumbar pain]</td>\n",
       "      <td>[Urine pushing]</td>\n",
       "      <td>0.322034</td>\n",
       "      <td>1.0</td>\n",
       "      <td>1.000000</td>\n",
       "    </tr>\n",
       "    <tr>\n",
       "      <th>9</th>\n",
       "      <td>[Occurrence of nausea]</td>\n",
       "      <td>[Micturition pains]</td>\n",
       "      <td>0.322034</td>\n",
       "      <td>1.0</td>\n",
       "      <td>1.204082</td>\n",
       "    </tr>\n",
       "    <tr>\n",
       "      <th>11</th>\n",
       "      <td>[Micturition pains]</td>\n",
       "      <td>[Urine pushing]</td>\n",
       "      <td>0.830508</td>\n",
       "      <td>1.0</td>\n",
       "      <td>1.000000</td>\n",
       "    </tr>\n",
       "    <tr>\n",
       "      <th>13</th>\n",
       "      <td>[Occurrence of nausea]</td>\n",
       "      <td>[Urine pushing]</td>\n",
       "      <td>0.322034</td>\n",
       "      <td>1.0</td>\n",
       "      <td>1.000000</td>\n",
       "    </tr>\n",
       "  </tbody>\n",
       "</table>\n",
       "</div>"
      ],
      "text/plain": [
       "                       LHS                     RHS   Support  Confidence  \\\n",
       "1                       []         [Urine pushing]  1.000000         1.0   \n",
       "2     [Burning of urethra]     [Micturition pains]  0.491525         1.0   \n",
       "4     [Burning of urethra]         [Urine pushing]  0.491525         1.0   \n",
       "5            [Lumbar pain]     [Micturition pains]  0.322034         1.0   \n",
       "6            [Lumbar pain]  [Occurrence of nausea]  0.322034         1.0   \n",
       "7   [Occurrence of nausea]           [Lumbar pain]  0.322034         1.0   \n",
       "8            [Lumbar pain]         [Urine pushing]  0.322034         1.0   \n",
       "9   [Occurrence of nausea]     [Micturition pains]  0.322034         1.0   \n",
       "11     [Micturition pains]         [Urine pushing]  0.830508         1.0   \n",
       "13  [Occurrence of nausea]         [Urine pushing]  0.322034         1.0   \n",
       "\n",
       "        Lift  \n",
       "1   1.000000  \n",
       "2   1.204082  \n",
       "4   1.000000  \n",
       "5   1.204082  \n",
       "6   3.105263  \n",
       "7   3.105263  \n",
       "8   1.000000  \n",
       "9   1.204082  \n",
       "11  1.000000  \n",
       "13  1.000000  "
      ]
     },
     "execution_count": 84,
     "metadata": {},
     "output_type": "execute_result"
    }
   ],
   "source": [
    "rules_df1.nlargest(10, \"Confidence\")"
   ]
  },
  {
   "cell_type": "code",
   "execution_count": 85,
   "id": "9128b471",
   "metadata": {
    "scrolled": true
   },
   "outputs": [
    {
     "data": {
      "image/png": "[encoded data removed]",
      "text/plain": [
       "<Figure size 640x480 with 1 Axes>"
      ]
     },
     "metadata": {},
     "output_type": "display_data"
    }
   ],
   "source": [
    "ax = myplot1.plot.bar()\n",
    "plt.show()"
   ]
  },
  {
   "cell_type": "code",
   "execution_count": 86,
   "id": "8c4eeef5",
   "metadata": {
    "scrolled": false
   },
   "outputs": [
    {
     "name": "stdout",
     "output_type": "stream",
     "text": [
      "The number of associated rules: 4\n",
      "LHS: ['Burning of urethra'] --> RHS:['Urine pushing'], support: 0.49, confidence: 1.00, lift: 1.00\n",
      "--------------------------------------------------------------------------------\n",
      "LHS: ['Micturition pains'] --> RHS:['Urine pushing'], support: 0.83, confidence: 1.00, lift: 1.00\n",
      "--------------------------------------------------------------------------------\n",
      "LHS: ['Burning of urethra'] --> RHS:['Micturition pains', 'Urine pushing'], support: 0.49, confidence: 1.00, lift: 1.20\n",
      "--------------------------------------------------------------------------------\n",
      "LHS: ['Micturition pains', 'Burning of urethra'] --> RHS:['Urine pushing'], support: 0.49, confidence: 1.00, lift: 1.00\n",
      "--------------------------------------------------------------------------------\n"
     ]
    }
   ],
   "source": [
    "Rules = list(apriori(Inflammation_of_urinary_bladder, min_support=0.4, min_confidence=0.95))\n",
    "associationRules = utils.extract(Rules,'Urine pushing',2)\n",
    "rules_df1 = pd.DataFrame(associationRules)\n",
    "utils.inspect(associationRules)"
   ]
  },
  {
   "cell_type": "code",
   "execution_count": 87,
   "id": "a068bb0a",
   "metadata": {},
   "outputs": [],
   "source": [
    "import plotly.express as px"
   ]
  },
  {
   "cell_type": "code",
   "execution_count": 88,
   "id": "7cc75853",
   "metadata": {
    "scrolled": true
   },
   "outputs": [
    {
     "data": {
      "application/vnd.plotly.v1+json": {
       "config": {
        "plotlyServerURL": "https://plot.ly"
       },
       "data": [
        {
         "customdata": [
          [
           [],
           [
            "Micturition pains"
           ]
          ],
          [
           [],
           [
            "Urine pushing"
           ]
          ],
          [
           [
            "Burning of urethra"
           ],
           [
            "Micturition pains"
           ]
          ],
          [
           [
            "Micturition pains"
           ],
           [
            "Burning of urethra"
           ]
          ],
          [
           [
            "Burning of urethra"
           ],
           [
            "Urine pushing"
           ]
          ],
          [
           [
            "Lumbar pain"
           ],
           [
            "Micturition pains"
           ]
          ],
          [
           [
            "Lumbar pain"
           ],
           [
            "Occurrence of nausea"
           ]
          ],
          [
           [
            "Occurrence of nausea"
           ],
           [
            "Lumbar pain"
           ]
          ],
          [
           [
            "Lumbar pain"
           ],
           [
            "Urine pushing"
           ]
          ],
          [
           [
            "Occurrence of nausea"
           ],
           [
            "Micturition pains"
           ]
          ],
          [
           [],
           [
            "Micturition pains",
            "Urine pushing"
           ]
          ],
          [
           [
            "Micturition pains"
           ],
           [
            "Urine pushing"
           ]
          ],
          [
           [
            "Urine pushing"
           ],
           [
            "Micturition pains"
           ]
          ],
          [
           [
            "Occurrence of nausea"
           ],
           [
            "Urine pushing"
           ]
          ],
          [
           [
            "Burning of urethra"
           ],
           [
            "Micturition pains",
            "Urine pushing"
           ]
          ],
          [
           [
            "Micturition pains"
           ],
           [
            "Burning of urethra",
            "Urine pushing"
           ]
          ],
          [
           [
            "Micturition pains",
            "Burning of urethra"
           ],
           [
            "Urine pushing"
           ]
          ],
          [
           [
            "Burning of urethra",
            "Urine pushing"
           ],
           [
            "Micturition pains"
           ]
          ],
          [
           [
            "Micturition pains",
            "Urine pushing"
           ],
           [
            "Burning of urethra"
           ]
          ],
          [
           [
            "Lumbar pain"
           ],
           [
            "Micturition pains",
            "Occurrence of nausea"
           ]
          ],
          [
           [
            "Occurrence of nausea"
           ],
           [
            "Micturition pains",
            "Lumbar pain"
           ]
          ],
          [
           [
            "Micturition pains",
            "Lumbar pain"
           ],
           [
            "Occurrence of nausea"
           ]
          ],
          [
           [
            "Lumbar pain",
            "Occurrence of nausea"
           ],
           [
            "Micturition pains"
           ]
          ],
          [
           [
            "Micturition pains",
            "Occurrence of nausea"
           ],
           [
            "Lumbar pain"
           ]
          ],
          [
           [
            "Lumbar pain"
           ],
           [
            "Micturition pains",
            "Urine pushing"
           ]
          ],
          [
           [
            "Micturition pains",
            "Lumbar pain"
           ],
           [
            "Urine pushing"
           ]
          ],
          [
           [
            "Lumbar pain",
            "Urine pushing"
           ],
           [
            "Micturition pains"
           ]
          ],
          [
           [
            "Lumbar pain"
           ],
           [
            "Occurrence of nausea",
            "Urine pushing"
           ]
          ],
          [
           [
            "Occurrence of nausea"
           ],
           [
            "Lumbar pain",
            "Urine pushing"
           ]
          ],
          [
           [
            "Lumbar pain",
            "Occurrence of nausea"
           ],
           [
            "Urine pushing"
           ]
          ],
          [
           [
            "Lumbar pain",
            "Urine pushing"
           ],
           [
            "Occurrence of nausea"
           ]
          ],
          [
           [
            "Occurrence of nausea",
            "Urine pushing"
           ],
           [
            "Lumbar pain"
           ]
          ],
          [
           [
            "Occurrence of nausea"
           ],
           [
            "Micturition pains",
            "Urine pushing"
           ]
          ],
          [
           [
            "Micturition pains",
            "Occurrence of nausea"
           ],
           [
            "Urine pushing"
           ]
          ],
          [
           [
            "Occurrence of nausea",
            "Urine pushing"
           ],
           [
            "Micturition pains"
           ]
          ],
          [
           [
            "Lumbar pain"
           ],
           [
            "Micturition pains",
            "Occurrence of nausea",
            "Urine pushing"
           ]
          ],
          [
           [
            "Occurrence of nausea"
           ],
           [
            "Micturition pains",
            "Lumbar pain",
            "Urine pushing"
           ]
          ],
          [
           [
            "Micturition pains",
            "Lumbar pain"
           ],
           [
            "Occurrence of nausea",
            "Urine pushing"
           ]
          ],
          [
           [
            "Lumbar pain",
            "Occurrence of nausea"
           ],
           [
            "Micturition pains",
            "Urine pushing"
           ]
          ],
          [
           [
            "Lumbar pain",
            "Urine pushing"
           ],
           [
            "Micturition pains",
            "Occurrence of nausea"
           ]
          ],
          [
           [
            "Micturition pains",
            "Occurrence of nausea"
           ],
           [
            "Lumbar pain",
            "Urine pushing"
           ]
          ],
          [
           [
            "Occurrence of nausea",
            "Urine pushing"
           ],
           [
            "Micturition pains",
            "Lumbar pain"
           ]
          ],
          [
           [
            "Micturition pains",
            "Lumbar pain",
            "Occurrence of nausea"
           ],
           [
            "Urine pushing"
           ]
          ],
          [
           [
            "Micturition pains",
            "Lumbar pain",
            "Urine pushing"
           ],
           [
            "Occurrence of nausea"
           ]
          ],
          [
           [
            "Lumbar pain",
            "Urine pushing",
            "Occurrence of nausea"
           ],
           [
            "Micturition pains"
           ]
          ],
          [
           [
            "Micturition pains",
            "Occurrence of nausea",
            "Urine pushing"
           ],
           [
            "Lumbar pain"
           ]
          ]
         ],
         "hovertemplate": "Support=%{x}<br>Confidence=%{y}<br>LHS=%{customdata[0]}<br>RHS=%{customdata[1]}<br>Lift=%{marker.color}<extra></extra>",
         "legendgroup": "",
         "marker": {
          "color": [
           1,
           1,
           1.2040816326530612,
           1.2040816326530612,
           1,
           1.2040816326530612,
           3.105263157894737,
           3.105263157894737,
           1,
           1.2040816326530612,
           1,
           1,
           1,
           1,
           1.2040816326530612,
           1.2040816326530612,
           1,
           1.2040816326530612,
           1.2040816326530612,
           3.105263157894737,
           3.105263157894737,
           3.105263157894737,
           1.2040816326530612,
           3.105263157894737,
           1.2040816326530612,
           1,
           1.2040816326530612,
           3.105263157894737,
           3.105263157894737,
           1,
           3.105263157894737,
           3.105263157894737,
           1.2040816326530612,
           1,
           1.2040816326530612,
           3.105263157894737,
           3.105263157894737,
           3.105263157894737,
           1.2040816326530612,
           3.105263157894737,
           3.105263157894737,
           3.105263157894737,
           1,
           3.105263157894737,
           1.2040816326530612,
           3.105263157894737
          ],
          "coloraxis": "coloraxis",
          "symbol": "circle"
         },
         "mode": "markers",
         "name": "",
         "orientation": "v",
         "showlegend": false,
         "type": "scatter",
         "x": [
          0.8305084745762712,
          1,
          0.4915254237288136,
          0.4915254237288136,
          0.4915254237288136,
          0.3220338983050847,
          0.3220338983050847,
          0.3220338983050847,
          0.3220338983050847,
          0.3220338983050847,
          0.8305084745762712,
          0.8305084745762712,
          0.8305084745762712,
          0.3220338983050847,
          0.4915254237288136,
          0.4915254237288136,
          0.4915254237288136,
          0.4915254237288136,
          0.4915254237288136,
          0.3220338983050847,
          0.3220338983050847,
          0.3220338983050847,
          0.3220338983050847,
          0.3220338983050847,
          0.3220338983050847,
          0.3220338983050847,
          0.3220338983050847,
          0.3220338983050847,
          0.3220338983050847,
          0.3220338983050847,
          0.3220338983050847,
          0.3220338983050847,
          0.3220338983050847,
          0.3220338983050847,
          0.3220338983050847,
          0.3220338983050847,
          0.3220338983050847,
          0.3220338983050847,
          0.3220338983050847,
          0.3220338983050847,
          0.3220338983050847,
          0.3220338983050847,
          0.3220338983050847,
          0.3220338983050847,
          0.3220338983050847,
          0.3220338983050847
         ],
         "xaxis": "x",
         "y": [
          0.8305084745762712,
          1,
          1,
          0.5918367346938775,
          1,
          1,
          1,
          1,
          1,
          1,
          0.8305084745762712,
          1,
          0.8305084745762712,
          1,
          1,
          0.5918367346938775,
          1,
          1,
          0.5918367346938775,
          1,
          1,
          1,
          1,
          1,
          1,
          1,
          1,
          1,
          1,
          1,
          1,
          1,
          1,
          1,
          1,
          1,
          1,
          1,
          1,
          1,
          1,
          1,
          1,
          1,
          1,
          1
         ],
         "yaxis": "y"
        }
       ],
       "layout": {
        "coloraxis": {
         "colorbar": {
          "title": {
           "text": "Lift"
          }
         },
         "colorscale": [
          [
           0,
           "rgb(75, 41, 145)"
          ],
          [
           0.16666666666666666,
           "rgb(135, 44, 162)"
          ],
          [
           0.3333333333333333,
           "rgb(192, 54, 157)"
          ],
          [
           0.5,
           "rgb(234, 79, 136)"
          ],
          [
           0.6666666666666666,
           "rgb(250, 120, 118)"
          ],
          [
           0.8333333333333334,
           "rgb(246, 169, 122)"
          ],
          [
           1,
           "rgb(237, 217, 163)"
          ]
         ]
        },
        "legend": {
         "tracegroupgap": 0
        },
        "margin": {
         "t": 60
        },
        "template": {
         "data": {
          "bar": [
           {
            "error_x": {
             "color": "#2a3f5f"
            },
            "error_y": {
             "color": "#2a3f5f"
            },
            "marker": {
             "line": {
              "color": "#E5ECF6",
              "width": 0.5
             },
             "pattern": {
              "fillmode": "overlay",
              "size": 10,
              "solidity": 0.2
             }
            },
            "type": "bar"
           }
          ],
          "barpolar": [
           {
            "marker": {
             "line": {
              "color": "#E5ECF6",
              "width": 0.5
             },
             "pattern": {
              "fillmode": "overlay",
              "size": 10,
              "solidity": 0.2
             }
            },
            "type": "barpolar"
           }
          ],
          "carpet": [
           {
            "aaxis": {
             "endlinecolor": "#2a3f5f",
             "gridcolor": "white",
             "linecolor": "white",
             "minorgridcolor": "white",
             "startlinecolor": "#2a3f5f"
            },
            "baxis": {
             "endlinecolor": "#2a3f5f",
             "gridcolor": "white",
             "linecolor": "white",
             "minorgridcolor": "white",
             "startlinecolor": "#2a3f5f"
            },
            "type": "carpet"
           }
          ],
          "choropleth": [
           {
            "colorbar": {
             "outlinewidth": 0,
             "ticks": ""
            },
            "type": "choropleth"
           }
          ],
          "contour": [
           {
            "colorbar": {
             "outlinewidth": 0,
             "ticks": ""
            },
            "colorscale": [
             [
              0,
              "#0d0887"
             ],
             [
              0.1111111111111111,
              "#46039f"
             ],
             [
              0.2222222222222222,
              "#7201a8"
             ],
             [
              0.3333333333333333,
              "#9c179e"
             ],
             [
              0.4444444444444444,
              "#bd3786"
             ],
             [
              0.5555555555555556,
              "#d8576b"
             ],
             [
              0.6666666666666666,
              "#ed7953"
             ],
             [
              0.7777777777777778,
              "#fb9f3a"
             ],
             [
              0.8888888888888888,
              "#fdca26"
             ],
             [
              1,
              "#f0f921"
             ]
            ],
            "type": "contour"
           }
          ],
          "contourcarpet": [
           {
            "colorbar": {
             "outlinewidth": 0,
             "ticks": ""
            },
            "type": "contourcarpet"
           }
          ],
          "heatmap": [
           {
            "colorbar": {
             "outlinewidth": 0,
             "ticks": ""
            },
            "colorscale": [
             [
              0,
              "#0d0887"
             ],
             [
              0.1111111111111111,
              "#46039f"
             ],
             [
              0.2222222222222222,
              "#7201a8"
             ],
             [
              0.3333333333333333,
              "#9c179e"
             ],
             [
              0.4444444444444444,
              "#bd3786"
             ],
             [
              0.5555555555555556,
              "#d8576b"
             ],
             [
              0.6666666666666666,
              "#ed7953"
             ],
             [
              0.7777777777777778,
              "#fb9f3a"
             ],
             [
              0.8888888888888888,
              "#fdca26"
             ],
             [
              1,
              "#f0f921"
             ]
            ],
            "type": "heatmap"
           }
          ],
          "heatmapgl": [
           {
            "colorbar": {
             "outlinewidth": 0,
             "ticks": ""
            },
            "colorscale": [
             [
              0,
              "#0d0887"
             ],
             [
              0.1111111111111111,
              "#46039f"
             ],
             [
              0.2222222222222222,
              "#7201a8"
             ],
             [
              0.3333333333333333,
              "#9c179e"
             ],
             [
              0.4444444444444444,
              "#bd3786"
             ],
             [
              0.5555555555555556,
              "#d8576b"
             ],
             [
              0.6666666666666666,
              "#ed7953"
             ],
             [
              0.7777777777777778,
              "#fb9f3a"
             ],
             [
              0.8888888888888888,
              "#fdca26"
             ],
             [
              1,
              "#f0f921"
             ]
            ],
            "type": "heatmapgl"
           }
          ],
          "histogram": [
           {
            "marker": {
             "pattern": {
              "fillmode": "overlay",
              "size": 10,
              "solidity": 0.2
             }
            },
            "type": "histogram"
           }
          ],
          "histogram2d": [
           {
            "colorbar": {
             "outlinewidth": 0,
             "ticks": ""
            },
            "colorscale": [
             [
              0,
              "#0d0887"
             ],
             [
              0.1111111111111111,
              "#46039f"
             ],
             [
              0.2222222222222222,
              "#7201a8"
             ],
             [
              0.3333333333333333,
              "#9c179e"
             ],
             [
              0.4444444444444444,
              "#bd3786"
             ],
             [
              0.5555555555555556,
              "#d8576b"
             ],
             [
              0.6666666666666666,
              "#ed7953"
             ],
             [
              0.7777777777777778,
              "#fb9f3a"
             ],
             [
              0.8888888888888888,
              "#fdca26"
             ],
             [
              1,
              "#f0f921"
             ]
            ],
            "type": "histogram2d"
           }
          ],
          "histogram2dcontour": [
           {
            "colorbar": {
             "outlinewidth": 0,
             "ticks": ""
            },
            "colorscale": [
             [
              0,
              "#0d0887"
             ],
             [
              0.1111111111111111,
              "#46039f"
             ],
             [
              0.2222222222222222,
              "#7201a8"
             ],
             [
              0.3333333333333333,
              "#9c179e"
             ],
             [
              0.4444444444444444,
              "#bd3786"
             ],
             [
              0.5555555555555556,
              "#d8576b"
             ],
             [
              0.6666666666666666,
              "#ed7953"
             ],
             [
              0.7777777777777778,
              "#fb9f3a"
             ],
             [
              0.8888888888888888,
              "#fdca26"
             ],
             [
              1,
              "#f0f921"
             ]
            ],
            "type": "histogram2dcontour"
           }
          ],
          "mesh3d": [
           {
            "colorbar": {
             "outlinewidth": 0,
             "ticks": ""
            },
            "type": "mesh3d"
           }
          ],
          "parcoords": [
           {
            "line": {
             "colorbar": {
              "outlinewidth": 0,
              "ticks": ""
             }
            },
            "type": "parcoords"
           }
          ],
          "pie": [
           {
            "automargin": true,
            "type": "pie"
           }
          ],
          "scatter": [
           {
            "fillpattern": {
             "fillmode": "overlay",
             "size": 10,
             "solidity": 0.2
            },
            "type": "scatter"
           }
          ],
          "scatter3d": [
           {
            "line": {
             "colorbar": {
              "outlinewidth": 0,
              "ticks": ""
             }
            },
            "marker": {
             "colorbar": {
              "outlinewidth": 0,
              "ticks": ""
             }
            },
            "type": "scatter3d"
           }
          ],
          "scattercarpet": [
           {
            "marker": {
             "colorbar": {
              "outlinewidth": 0,
              "ticks": ""
             }
            },
            "type": "scattercarpet"
           }
          ],
          "scattergeo": [
           {
            "marker": {
             "colorbar": {
              "outlinewidth": 0,
              "ticks": ""
             }
            },
            "type": "scattergeo"
           }
          ],
          "scattergl": [
           {
            "marker": {
             "colorbar": {
              "outlinewidth": 0,
              "ticks": ""
             }
            },
            "type": "scattergl"
           }
          ],
          "scattermapbox": [
           {
            "marker": {
             "colorbar": {
              "outlinewidth": 0,
              "ticks": ""
             }
            },
            "type": "scattermapbox"
           }
          ],
          "scatterpolar": [
           {
            "marker": {
             "colorbar": {
              "outlinewidth": 0,
              "ticks": ""
             }
            },
            "type": "scatterpolar"
           }
          ],
          "scatterpolargl": [
           {
            "marker": {
             "colorbar": {
              "outlinewidth": 0,
              "ticks": ""
             }
            },
            "type": "scatterpolargl"
           }
          ],
          "scatterternary": [
           {
            "marker": {
             "colorbar": {
              "outlinewidth": 0,
              "ticks": ""
             }
            },
            "type": "scatterternary"
           }
          ],
          "surface": [
           {
            "colorbar": {
             "outlinewidth": 0,
             "ticks": ""
            },
            "colorscale": [
             [
              0,
              "#0d0887"
             ],
             [
              0.1111111111111111,
              "#46039f"
             ],
             [
              0.2222222222222222,
              "#7201a8"
             ],
             [
              0.3333333333333333,
              "#9c179e"
             ],
             [
              0.4444444444444444,
              "#bd3786"
             ],
             [
              0.5555555555555556,
              "#d8576b"
             ],
             [
              0.6666666666666666,
              "#ed7953"
             ],
             [
              0.7777777777777778,
              "#fb9f3a"
             ],
             [
              0.8888888888888888,
              "#fdca26"
             ],
             [
              1,
              "#f0f921"
             ]
            ],
            "type": "surface"
           }
          ],
          "table": [
           {
            "cells": {
             "fill": {
              "color": "#EBF0F8"
             },
             "line": {
              "color": "white"
             }
            },
            "header": {
             "fill": {
              "color": "#C8D4E3"
             },
             "line": {
              "color": "white"
             }
            },
            "type": "table"
           }
          ]
         },
         "layout": {
          "annotationdefaults": {
           "arrowcolor": "#2a3f5f",
           "arrowhead": 0,
           "arrowwidth": 1
          },
          "autotypenumbers": "strict",
          "coloraxis": {
           "colorbar": {
            "outlinewidth": 0,
            "ticks": ""
           }
          },
          "colorscale": {
           "diverging": [
            [
             0,
             "#8e0152"
            ],
            [
             0.1,
             "#c51b7d"
            ],
            [
             0.2,
             "#de77ae"
            ],
            [
             0.3,
             "#f1b6da"
            ],
            [
             0.4,
             "#fde0ef"
            ],
            [
             0.5,
             "#f7f7f7"
            ],
            [
             0.6,
             "#e6f5d0"
            ],
            [
             0.7,
             "#b8e186"
            ],
            [
             0.8,
             "#7fbc41"
            ],
            [
             0.9,
             "#4d9221"
            ],
            [
             1,
             "#276419"
            ]
           ],
           "sequential": [
            [
             0,
             "#0d0887"
            ],
            [
             0.1111111111111111,
             "#46039f"
            ],
            [
             0.2222222222222222,
             "#7201a8"
            ],
            [
             0.3333333333333333,
             "#9c179e"
            ],
            [
             0.4444444444444444,
             "#bd3786"
            ],
            [
             0.5555555555555556,
             "#d8576b"
            ],
            [
             0.6666666666666666,
             "#ed7953"
            ],
            [
             0.7777777777777778,
             "#fb9f3a"
            ],
            [
             0.8888888888888888,
             "#fdca26"
            ],
            [
             1,
             "#f0f921"
            ]
           ],
           "sequentialminus": [
            [
             0,
             "#0d0887"
            ],
            [
             0.1111111111111111,
             "#46039f"
            ],
            [
             0.2222222222222222,
             "#7201a8"
            ],
            [
             0.3333333333333333,
             "#9c179e"
            ],
            [
             0.4444444444444444,
             "#bd3786"
            ],
            [
             0.5555555555555556,
             "#d8576b"
            ],
            [
             0.6666666666666666,
             "#ed7953"
            ],
            [
             0.7777777777777778,
             "#fb9f3a"
            ],
            [
             0.8888888888888888,
             "#fdca26"
            ],
            [
             1,
             "#f0f921"
            ]
           ]
          },
          "colorway": [
           "#636efa",
           "#EF553B",
           "#00cc96",
           "#ab63fa",
           "#FFA15A",
           "#19d3f3",
           "#FF6692",
           "#B6E880",
           "#FF97FF",
           "#FECB52"
          ],
          "font": {
           "color": "#2a3f5f"
          },
          "geo": {
           "bgcolor": "white",
           "lakecolor": "white",
           "landcolor": "#E5ECF6",
           "showlakes": true,
           "showland": true,
           "subunitcolor": "white"
          },
          "hoverlabel": {
           "align": "left"
          },
          "hovermode": "closest",
          "mapbox": {
           "style": "light"
          },
          "paper_bgcolor": "white",
          "plot_bgcolor": "#E5ECF6",
          "polar": {
           "angularaxis": {
            "gridcolor": "white",
            "linecolor": "white",
            "ticks": ""
           },
           "bgcolor": "#E5ECF6",
           "radialaxis": {
            "gridcolor": "white",
            "linecolor": "white",
            "ticks": ""
           }
          },
          "scene": {
           "xaxis": {
            "backgroundcolor": "#E5ECF6",
            "gridcolor": "white",
            "gridwidth": 2,
            "linecolor": "white",
            "showbackground": true,
            "ticks": "",
            "zerolinecolor": "white"
           },
           "yaxis": {
            "backgroundcolor": "#E5ECF6",
            "gridcolor": "white",
            "gridwidth": 2,
            "linecolor": "white",
            "showbackground": true,
            "ticks": "",
            "zerolinecolor": "white"
           },
           "zaxis": {
            "backgroundcolor": "#E5ECF6",
            "gridcolor": "white",
            "gridwidth": 2,
            "linecolor": "white",
            "showbackground": true,
            "ticks": "",
            "zerolinecolor": "white"
           }
          },
          "shapedefaults": {
           "line": {
            "color": "#2a3f5f"
           }
          },
          "ternary": {
           "aaxis": {
            "gridcolor": "white",
            "linecolor": "white",
            "ticks": ""
           },
           "baxis": {
            "gridcolor": "white",
            "linecolor": "white",
            "ticks": ""
           },
           "bgcolor": "#E5ECF6",
           "caxis": {
            "gridcolor": "white",
            "linecolor": "white",
            "ticks": ""
           }
          },
          "title": {
           "x": 0.05
          },
          "xaxis": {
           "automargin": true,
           "gridcolor": "white",
           "linecolor": "white",
           "ticks": "",
           "title": {
            "standoff": 15
           },
           "zerolinecolor": "white",
           "zerolinewidth": 2
          },
          "yaxis": {
           "automargin": true,
           "gridcolor": "white",
           "linecolor": "white",
           "ticks": "",
           "title": {
            "standoff": 15
           },
           "zerolinecolor": "white",
           "zerolinewidth": 2
          }
         }
        },
        "xaxis": {
         "anchor": "y",
         "domain": [
          0,
          1
         ],
         "title": {
          "text": "Support"
         }
        },
        "yaxis": {
         "anchor": "x",
         "domain": [
          0,
          1
         ],
         "title": {
          "text": "Confidence"
         }
        }
       }
      },
      "text/html": [
       "<div>                            <div id=\"0470bba3-9e6f-4dd5-a14f-b70a0003ec2c\" class=\"plotly-graph-div\" style=\"height:525px; width:100%;\"></div>            <script type=\"text/javascript\">                require([\"plotly\"], function(Plotly) {                    window.PLOTLYENV=window.PLOTLYENV || {};                                    if (document.getElementById(\"0470bba3-9e6f-4dd5-a14f-b70a0003ec2c\")) {                    Plotly.newPlot(                        \"0470bba3-9e6f-4dd5-a14f-b70a0003ec2c\",                        [{\"customdata\":[[[],[\"Micturition pains\"]],[[],[\"Urine pushing\"]],[[\"Burning of urethra\"],[\"Micturition pains\"]],[[\"Micturition pains\"],[\"Burning of urethra\"]],[[\"Burning of urethra\"],[\"Urine pushing\"]],[[\"Lumbar pain\"],[\"Micturition pains\"]],[[\"Lumbar pain\"],[\"Occurrence of nausea\"]],[[\"Occurrence of nausea\"],[\"Lumbar pain\"]],[[\"Lumbar pain\"],[\"Urine pushing\"]],[[\"Occurrence of nausea\"],[\"Micturition pains\"]],[[],[\"Micturition pains\",\"Urine pushing\"]],[[\"Micturition pains\"],[\"Urine pushing\"]],[[\"Urine pushing\"],[\"Micturition pains\"]],[[\"Occurrence of nausea\"],[\"Urine pushing\"]],[[\"Burning of urethra\"],[\"Micturition pains\",\"Urine pushing\"]],[[\"Micturition pains\"],[\"Burning of urethra\",\"Urine pushing\"]],[[\"Micturition pains\",\"Burning of urethra\"],[\"Urine pushing\"]],[[\"Burning of urethra\",\"Urine pushing\"],[\"Micturition pains\"]],[[\"Micturition pains\",\"Urine pushing\"],[\"Burning of urethra\"]],[[\"Lumbar pain\"],[\"Micturition pains\",\"Occurrence of nausea\"]],[[\"Occurrence of nausea\"],[\"Micturition pains\",\"Lumbar pain\"]],[[\"Micturition pains\",\"Lumbar pain\"],[\"Occurrence of nausea\"]],[[\"Lumbar pain\",\"Occurrence of nausea\"],[\"Micturition pains\"]],[[\"Micturition pains\",\"Occurrence of nausea\"],[\"Lumbar pain\"]],[[\"Lumbar pain\"],[\"Micturition pains\",\"Urine pushing\"]],[[\"Micturition pains\",\"Lumbar pain\"],[\"Urine pushing\"]],[[\"Lumbar pain\",\"Urine pushing\"],[\"Micturition pains\"]],[[\"Lumbar pain\"],[\"Occurrence of nausea\",\"Urine pushing\"]],[[\"Occurrence of nausea\"],[\"Lumbar pain\",\"Urine pushing\"]],[[\"Lumbar pain\",\"Occurrence of nausea\"],[\"Urine pushing\"]],[[\"Lumbar pain\",\"Urine pushing\"],[\"Occurrence of nausea\"]],[[\"Occurrence of nausea\",\"Urine pushing\"],[\"Lumbar pain\"]],[[\"Occurrence of nausea\"],[\"Micturition pains\",\"Urine pushing\"]],[[\"Micturition pains\",\"Occurrence of nausea\"],[\"Urine pushing\"]],[[\"Occurrence of nausea\",\"Urine pushing\"],[\"Micturition pains\"]],[[\"Lumbar pain\"],[\"Micturition pains\",\"Occurrence of nausea\",\"Urine pushing\"]],[[\"Occurrence of nausea\"],[\"Micturition pains\",\"Lumbar pain\",\"Urine pushing\"]],[[\"Micturition pains\",\"Lumbar pain\"],[\"Occurrence of nausea\",\"Urine pushing\"]],[[\"Lumbar pain\",\"Occurrence of nausea\"],[\"Micturition pains\",\"Urine pushing\"]],[[\"Lumbar pain\",\"Urine pushing\"],[\"Micturition pains\",\"Occurrence of nausea\"]],[[\"Micturition pains\",\"Occurrence of nausea\"],[\"Lumbar pain\",\"Urine pushing\"]],[[\"Occurrence of nausea\",\"Urine pushing\"],[\"Micturition pains\",\"Lumbar pain\"]],[[\"Micturition pains\",\"Lumbar pain\",\"Occurrence of nausea\"],[\"Urine pushing\"]],[[\"Micturition pains\",\"Lumbar pain\",\"Urine pushing\"],[\"Occurrence of nausea\"]],[[\"Lumbar pain\",\"Urine pushing\",\"Occurrence of nausea\"],[\"Micturition pains\"]],[[\"Micturition pains\",\"Occurrence of nausea\",\"Urine pushing\"],[\"Lumbar pain\"]]],\"hovertemplate\":\"Support=%{x}<br>Confidence=%{y}<br>LHS=%{customdata[0]}<br>RHS=%{customdata[1]}<br>Lift=%{marker.color}<extra></extra>\",\"legendgroup\":\"\",\"marker\":{\"color\":[1.0,1.0,1.2040816326530612,1.2040816326530612,1.0,1.2040816326530612,3.105263157894737,3.105263157894737,1.0,1.2040816326530612,1.0,1.0,1.0,1.0,1.2040816326530612,1.2040816326530612,1.0,1.2040816326530612,1.2040816326530612,3.105263157894737,3.105263157894737,3.105263157894737,1.2040816326530612,3.105263157894737,1.2040816326530612,1.0,1.2040816326530612,3.105263157894737,3.105263157894737,1.0,3.105263157894737,3.105263157894737,1.2040816326530612,1.0,1.2040816326530612,3.105263157894737,3.105263157894737,3.105263157894737,1.2040816326530612,3.105263157894737,3.105263157894737,3.105263157894737,1.0,3.105263157894737,1.2040816326530612,3.105263157894737],\"coloraxis\":\"coloraxis\",\"symbol\":\"circle\"},\"mode\":\"markers\",\"name\":\"\",\"orientation\":\"v\",\"showlegend\":false,\"x\":[0.8305084745762712,1.0,0.4915254237288136,0.4915254237288136,0.4915254237288136,0.3220338983050847,0.3220338983050847,0.3220338983050847,0.3220338983050847,0.3220338983050847,0.8305084745762712,0.8305084745762712,0.8305084745762712,0.3220338983050847,0.4915254237288136,0.4915254237288136,0.4915254237288136,0.4915254237288136,0.4915254237288136,0.3220338983050847,0.3220338983050847,0.3220338983050847,0.3220338983050847,0.3220338983050847,0.3220338983050847,0.3220338983050847,0.3220338983050847,0.3220338983050847,0.3220338983050847,0.3220338983050847,0.3220338983050847,0.3220338983050847,0.3220338983050847,0.3220338983050847,0.3220338983050847,0.3220338983050847,0.3220338983050847,0.3220338983050847,0.3220338983050847,0.3220338983050847,0.3220338983050847,0.3220338983050847,0.3220338983050847,0.3220338983050847,0.3220338983050847,0.3220338983050847],\"xaxis\":\"x\",\"y\":[0.8305084745762712,1.0,1.0,0.5918367346938775,1.0,1.0,1.0,1.0,1.0,1.0,0.8305084745762712,1.0,0.8305084745762712,1.0,1.0,0.5918367346938775,1.0,1.0,0.5918367346938775,1.0,1.0,1.0,1.0,1.0,1.0,1.0,1.0,1.0,1.0,1.0,1.0,1.0,1.0,1.0,1.0,1.0,1.0,1.0,1.0,1.0,1.0,1.0,1.0,1.0,1.0,1.0],\"yaxis\":\"y\",\"type\":\"scatter\"}],                        {\"template\":{\"data\":{\"histogram2dcontour\":[{\"type\":\"histogram2dcontour\",\"colorbar\":{\"outlinewidth\":0,\"ticks\":\"\"},\"colorscale\":[[0.0,\"#0d0887\"],[0.1111111111111111,\"#46039f\"],[0.2222222222222222,\"#7201a8\"],[0.3333333333333333,\"#9c179e\"],[0.4444444444444444,\"#bd3786\"],[0.5555555555555556,\"#d8576b\"],[0.6666666666666666,\"#ed7953\"],[0.7777777777777778,\"#fb9f3a\"],[0.8888888888888888,\"#fdca26\"],[1.0,\"#f0f921\"]]}],\"choropleth\":[{\"type\":\"choropleth\",\"colorbar\":{\"outlinewidth\":0,\"ticks\":\"\"}}],\"histogram2d\":[{\"type\":\"histogram2d\",\"colorbar\":{\"outlinewidth\":0,\"ticks\":\"\"},\"colorscale\":[[0.0,\"#0d0887\"],[0.1111111111111111,\"#46039f\"],[0.2222222222222222,\"#7201a8\"],[0.3333333333333333,\"#9c179e\"],[0.4444444444444444,\"#bd3786\"],[0.5555555555555556,\"#d8576b\"],[0.6666666666666666,\"#ed7953\"],[0.7777777777777778,\"#fb9f3a\"],[0.8888888888888888,\"#fdca26\"],[1.0,\"#f0f921\"]]}],\"heatmap\":[{\"type\":\"heatmap\",\"colorbar\":{\"outlinewidth\":0,\"ticks\":\"\"},\"colorscale\":[[0.0,\"#0d0887\"],[0.1111111111111111,\"#46039f\"],[0.2222222222222222,\"#7201a8\"],[0.3333333333333333,\"#9c179e\"],[0.4444444444444444,\"#bd3786\"],[0.5555555555555556,\"#d8576b\"],[0.6666666666666666,\"#ed7953\"],[0.7777777777777778,\"#fb9f3a\"],[0.8888888888888888,\"#fdca26\"],[1.0,\"#f0f921\"]]}],\"heatmapgl\":[{\"type\":\"heatmapgl\",\"colorbar\":{\"outlinewidth\":0,\"ticks\":\"\"},\"colorscale\":[[0.0,\"#0d0887\"],[0.1111111111111111,\"#46039f\"],[0.2222222222222222,\"#7201a8\"],[0.3333333333333333,\"#9c179e\"],[0.4444444444444444,\"#bd3786\"],[0.5555555555555556,\"#d8576b\"],[0.6666666666666666,\"#ed7953\"],[0.7777777777777778,\"#fb9f3a\"],[0.8888888888888888,\"#fdca26\"],[1.0,\"#f0f921\"]]}],\"contourcarpet\":[{\"type\":\"contourcarpet\",\"colorbar\":{\"outlinewidth\":0,\"ticks\":\"\"}}],\"contour\":[{\"type\":\"contour\",\"colorbar\":{\"outlinewidth\":0,\"ticks\":\"\"},\"colorscale\":[[0.0,\"#0d0887\"],[0.1111111111111111,\"#46039f\"],[0.2222222222222222,\"#7201a8\"],[0.3333333333333333,\"#9c179e\"],[0.4444444444444444,\"#bd3786\"],[0.5555555555555556,\"#d8576b\"],[0.6666666666666666,\"#ed7953\"],[0.7777777777777778,\"#fb9f3a\"],[0.8888888888888888,\"#fdca26\"],[1.0,\"#f0f921\"]]}],\"surface\":[{\"type\":\"surface\",\"colorbar\":{\"outlinewidth\":0,\"ticks\":\"\"},\"colorscale\":[[0.0,\"#0d0887\"],[0.1111111111111111,\"#46039f\"],[0.2222222222222222,\"#7201a8\"],[0.3333333333333333,\"#9c179e\"],[0.4444444444444444,\"#bd3786\"],[0.5555555555555556,\"#d8576b\"],[0.6666666666666666,\"#ed7953\"],[0.7777777777777778,\"#fb9f3a\"],[0.8888888888888888,\"#fdca26\"],[1.0,\"#f0f921\"]]}],\"mesh3d\":[{\"type\":\"mesh3d\",\"colorbar\":{\"outlinewidth\":0,\"ticks\":\"\"}}],\"scatter\":[{\"fillpattern\":{\"fillmode\":\"overlay\",\"size\":10,\"solidity\":0.2},\"type\":\"scatter\"}],\"parcoords\":[{\"type\":\"parcoords\",\"line\":{\"colorbar\":{\"outlinewidth\":0,\"ticks\":\"\"}}}],\"scatterpolargl\":[{\"type\":\"scatterpolargl\",\"marker\":{\"colorbar\":{\"outlinewidth\":0,\"ticks\":\"\"}}}],\"bar\":[{\"error_x\":{\"color\":\"#2a3f5f\"},\"error_y\":{\"color\":\"#2a3f5f\"},\"marker\":{\"line\":{\"color\":\"#E5ECF6\",\"width\":0.5},\"pattern\":{\"fillmode\":\"overlay\",\"size\":10,\"solidity\":0.2}},\"type\":\"bar\"}],\"scattergeo\":[{\"type\":\"scattergeo\",\"marker\":{\"colorbar\":{\"outlinewidth\":0,\"ticks\":\"\"}}}],\"scatterpolar\":[{\"type\":\"scatterpolar\",\"marker\":{\"colorbar\":{\"outlinewidth\":0,\"ticks\":\"\"}}}],\"histogram\":[{\"marker\":{\"pattern\":{\"fillmode\":\"overlay\",\"size\":10,\"solidity\":0.2}},\"type\":\"histogram\"}],\"scattergl\":[{\"type\":\"scattergl\",\"marker\":{\"colorbar\":{\"outlinewidth\":0,\"ticks\":\"\"}}}],\"scatter3d\":[{\"type\":\"scatter3d\",\"line\":{\"colorbar\":{\"outlinewidth\":0,\"ticks\":\"\"}},\"marker\":{\"colorbar\":{\"outlinewidth\":0,\"ticks\":\"\"}}}],\"scattermapbox\":[{\"type\":\"scattermapbox\",\"marker\":{\"colorbar\":{\"outlinewidth\":0,\"ticks\":\"\"}}}],\"scatterternary\":[{\"type\":\"scatterternary\",\"marker\":{\"colorbar\":{\"outlinewidth\":0,\"ticks\":\"\"}}}],\"scattercarpet\":[{\"type\":\"scattercarpet\",\"marker\":{\"colorbar\":{\"outlinewidth\":0,\"ticks\":\"\"}}}],\"carpet\":[{\"aaxis\":{\"endlinecolor\":\"#2a3f5f\",\"gridcolor\":\"white\",\"linecolor\":\"white\",\"minorgridcolor\":\"white\",\"startlinecolor\":\"#2a3f5f\"},\"baxis\":{\"endlinecolor\":\"#2a3f5f\",\"gridcolor\":\"white\",\"linecolor\":\"white\",\"minorgridcolor\":\"white\",\"startlinecolor\":\"#2a3f5f\"},\"type\":\"carpet\"}],\"table\":[{\"cells\":{\"fill\":{\"color\":\"#EBF0F8\"},\"line\":{\"color\":\"white\"}},\"header\":{\"fill\":{\"color\":\"#C8D4E3\"},\"line\":{\"color\":\"white\"}},\"type\":\"table\"}],\"barpolar\":[{\"marker\":{\"line\":{\"color\":\"#E5ECF6\",\"width\":0.5},\"pattern\":{\"fillmode\":\"overlay\",\"size\":10,\"solidity\":0.2}},\"type\":\"barpolar\"}],\"pie\":[{\"automargin\":true,\"type\":\"pie\"}]},\"layout\":{\"autotypenumbers\":\"strict\",\"colorway\":[\"#636efa\",\"#EF553B\",\"#00cc96\",\"#ab63fa\",\"#FFA15A\",\"#19d3f3\",\"#FF6692\",\"#B6E880\",\"#FF97FF\",\"#FECB52\"],\"font\":{\"color\":\"#2a3f5f\"},\"hovermode\":\"closest\",\"hoverlabel\":{\"align\":\"left\"},\"paper_bgcolor\":\"white\",\"plot_bgcolor\":\"#E5ECF6\",\"polar\":{\"bgcolor\":\"#E5ECF6\",\"angularaxis\":{\"gridcolor\":\"white\",\"linecolor\":\"white\",\"ticks\":\"\"},\"radialaxis\":{\"gridcolor\":\"white\",\"linecolor\":\"white\",\"ticks\":\"\"}},\"ternary\":{\"bgcolor\":\"#E5ECF6\",\"aaxis\":{\"gridcolor\":\"white\",\"linecolor\":\"white\",\"ticks\":\"\"},\"baxis\":{\"gridcolor\":\"white\",\"linecolor\":\"white\",\"ticks\":\"\"},\"caxis\":{\"gridcolor\":\"white\",\"linecolor\":\"white\",\"ticks\":\"\"}},\"coloraxis\":{\"colorbar\":{\"outlinewidth\":0,\"ticks\":\"\"}},\"colorscale\":{\"sequential\":[[0.0,\"#0d0887\"],[0.1111111111111111,\"#46039f\"],[0.2222222222222222,\"#7201a8\"],[0.3333333333333333,\"#9c179e\"],[0.4444444444444444,\"#bd3786\"],[0.5555555555555556,\"#d8576b\"],[0.6666666666666666,\"#ed7953\"],[0.7777777777777778,\"#fb9f3a\"],[0.8888888888888888,\"#fdca26\"],[1.0,\"#f0f921\"]],\"sequentialminus\":[[0.0,\"#0d0887\"],[0.1111111111111111,\"#46039f\"],[0.2222222222222222,\"#7201a8\"],[0.3333333333333333,\"#9c179e\"],[0.4444444444444444,\"#bd3786\"],[0.5555555555555556,\"#d8576b\"],[0.6666666666666666,\"#ed7953\"],[0.7777777777777778,\"#fb9f3a\"],[0.8888888888888888,\"#fdca26\"],[1.0,\"#f0f921\"]],\"diverging\":[[0,\"#8e0152\"],[0.1,\"#c51b7d\"],[0.2,\"#de77ae\"],[0.3,\"#f1b6da\"],[0.4,\"#fde0ef\"],[0.5,\"#f7f7f7\"],[0.6,\"#e6f5d0\"],[0.7,\"#b8e186\"],[0.8,\"#7fbc41\"],[0.9,\"#4d9221\"],[1,\"#276419\"]]},\"xaxis\":{\"gridcolor\":\"white\",\"linecolor\":\"white\",\"ticks\":\"\",\"title\":{\"standoff\":15},\"zerolinecolor\":\"white\",\"automargin\":true,\"zerolinewidth\":2},\"yaxis\":{\"gridcolor\":\"white\",\"linecolor\":\"white\",\"ticks\":\"\",\"title\":{\"standoff\":15},\"zerolinecolor\":\"white\",\"automargin\":true,\"zerolinewidth\":2},\"scene\":{\"xaxis\":{\"backgroundcolor\":\"#E5ECF6\",\"gridcolor\":\"white\",\"linecolor\":\"white\",\"showbackground\":true,\"ticks\":\"\",\"zerolinecolor\":\"white\",\"gridwidth\":2},\"yaxis\":{\"backgroundcolor\":\"#E5ECF6\",\"gridcolor\":\"white\",\"linecolor\":\"white\",\"showbackground\":true,\"ticks\":\"\",\"zerolinecolor\":\"white\",\"gridwidth\":2},\"zaxis\":{\"backgroundcolor\":\"#E5ECF6\",\"gridcolor\":\"white\",\"linecolor\":\"white\",\"showbackground\":true,\"ticks\":\"\",\"zerolinecolor\":\"white\",\"gridwidth\":2}},\"shapedefaults\":{\"line\":{\"color\":\"#2a3f5f\"}},\"annotationdefaults\":{\"arrowcolor\":\"#2a3f5f\",\"arrowhead\":0,\"arrowwidth\":1},\"geo\":{\"bgcolor\":\"white\",\"landcolor\":\"#E5ECF6\",\"subunitcolor\":\"white\",\"showland\":true,\"showlakes\":true,\"lakecolor\":\"white\"},\"title\":{\"x\":0.05},\"mapbox\":{\"style\":\"light\"}}},\"xaxis\":{\"anchor\":\"y\",\"domain\":[0.0,1.0],\"title\":{\"text\":\"Support\"}},\"yaxis\":{\"anchor\":\"x\",\"domain\":[0.0,1.0],\"title\":{\"text\":\"Confidence\"}},\"coloraxis\":{\"colorbar\":{\"title\":{\"text\":\"Lift\"}},\"colorscale\":[[0.0,\"rgb(75, 41, 145)\"],[0.16666666666666666,\"rgb(135, 44, 162)\"],[0.3333333333333333,\"rgb(192, 54, 157)\"],[0.5,\"rgb(234, 79, 136)\"],[0.6666666666666666,\"rgb(250, 120, 118)\"],[0.8333333333333334,\"rgb(246, 169, 122)\"],[1.0,\"rgb(237, 217, 163)\"]]},\"legend\":{\"tracegroupgap\":0},\"margin\":{\"t\":60}},                        {\"responsive\": true}                    ).then(function(){\n",
       "                            \n",
       "var gd = document.getElementById('0470bba3-9e6f-4dd5-a14f-b70a0003ec2c');\n",
       "var x = new MutationObserver(function (mutations, observer) {{\n",
       "        var display = window.getComputedStyle(gd).display;\n",
       "        if (!display || display === 'none') {{\n",
       "            console.log([gd, 'removed!']);\n",
       "            Plotly.purge(gd);\n",
       "            observer.disconnect();\n",
       "        }}\n",
       "}});\n",
       "\n",
       "// Listen for the removal of the full notebook cells\n",
       "var notebookContainer = gd.closest('#notebook-container');\n",
       "if (notebookContainer) {{\n",
       "    x.observe(notebookContainer, {childList: true});\n",
       "}}\n",
       "\n",
       "// Listen for the clearing of the current output cell\n",
       "var outputEl = gd.closest('.output');\n",
       "if (outputEl) {{\n",
       "    x.observe(outputEl, {childList: true});\n",
       "}}\n",
       "\n",
       "                        })                };                });            </script>        </div>"
      ]
     },
     "metadata": {},
     "output_type": "display_data"
    }
   ],
   "source": [
    "Rules = list(apriori(Inflammation_of_urinary_bladder, min_support=0.2, min_confidence=0.5))\n",
    "associationRules = utils.extract(Rules)\n",
    "rules_df1 = pd.DataFrame(associationRules, columns=['LHS', 'RHS', 'Support', 'Confidence', 'Lift'])\n",
    "\n",
    "fig = px.scatter(rules_df1, x='Support', y='Confidence', color='Lift',\n",
    "                 hover_data=['LHS', 'RHS'], color_continuous_scale='agsunset')\n",
    "fig.show()"
   ]
  },
  {
   "cell_type": "code",
   "execution_count": 89,
   "id": "e231cf88",
   "metadata": {
    "scrolled": true
   },
   "outputs": [
    {
     "data": {
      "text/html": [
       "<div>\n",
       "<style scoped>\n",
       "    .dataframe tbody tr th:only-of-type {\n",
       "        vertical-align: middle;\n",
       "    }\n",
       "\n",
       "    .dataframe tbody tr th {\n",
       "        vertical-align: top;\n",
       "    }\n",
       "\n",
       "    .dataframe thead th {\n",
       "        text-align: right;\n",
       "    }\n",
       "</style>\n",
       "<table border=\"1\" class=\"dataframe\">\n",
       "  <thead>\n",
       "    <tr style=\"text-align: right;\">\n",
       "      <th></th>\n",
       "      <th>LHS</th>\n",
       "      <th>RHS</th>\n",
       "      <th>Support</th>\n",
       "      <th>Confidence</th>\n",
       "      <th>Lift</th>\n",
       "    </tr>\n",
       "  </thead>\n",
       "  <tbody>\n",
       "    <tr>\n",
       "      <th>19</th>\n",
       "      <td>[Lumbar pain]</td>\n",
       "      <td>[Micturition pains, Occurrence of nausea]</td>\n",
       "      <td>0.322034</td>\n",
       "      <td>1.0</td>\n",
       "      <td>3.105263</td>\n",
       "    </tr>\n",
       "    <tr>\n",
       "      <th>20</th>\n",
       "      <td>[Occurrence of nausea]</td>\n",
       "      <td>[Micturition pains, Lumbar pain]</td>\n",
       "      <td>0.322034</td>\n",
       "      <td>1.0</td>\n",
       "      <td>3.105263</td>\n",
       "    </tr>\n",
       "    <tr>\n",
       "      <th>2</th>\n",
       "      <td>[Burning of urethra]</td>\n",
       "      <td>[Micturition pains]</td>\n",
       "      <td>0.491525</td>\n",
       "      <td>1.0</td>\n",
       "      <td>1.204082</td>\n",
       "    </tr>\n",
       "    <tr>\n",
       "      <th>5</th>\n",
       "      <td>[Lumbar pain]</td>\n",
       "      <td>[Micturition pains]</td>\n",
       "      <td>0.322034</td>\n",
       "      <td>1.0</td>\n",
       "      <td>1.204082</td>\n",
       "    </tr>\n",
       "    <tr>\n",
       "      <th>9</th>\n",
       "      <td>[Occurrence of nausea]</td>\n",
       "      <td>[Micturition pains]</td>\n",
       "      <td>0.322034</td>\n",
       "      <td>1.0</td>\n",
       "      <td>1.204082</td>\n",
       "    </tr>\n",
       "  </tbody>\n",
       "</table>\n",
       "</div>"
      ],
      "text/plain": [
       "                       LHS                                        RHS  \\\n",
       "19           [Lumbar pain]  [Micturition pains, Occurrence of nausea]   \n",
       "20  [Occurrence of nausea]           [Micturition pains, Lumbar pain]   \n",
       "2     [Burning of urethra]                        [Micturition pains]   \n",
       "5            [Lumbar pain]                        [Micturition pains]   \n",
       "9   [Occurrence of nausea]                        [Micturition pains]   \n",
       "\n",
       "     Support  Confidence      Lift  \n",
       "19  0.322034         1.0  3.105263  \n",
       "20  0.322034         1.0  3.105263  \n",
       "2   0.491525         1.0  1.204082  \n",
       "5   0.322034         1.0  1.204082  \n",
       "9   0.322034         1.0  1.204082  "
      ]
     },
     "execution_count": 89,
     "metadata": {},
     "output_type": "execute_result"
    }
   ],
   "source": [
    "Rules = list(apriori(Inflammation_of_urinary_bladder, min_support=0.2, min_confidence=0.5, max_length=3))\n",
    "associationRules = utils.extract(Rules)\n",
    "rules_df1 = pd.DataFrame(associationRules, columns=['LHS', 'RHS', 'Support', 'Confidence', 'Lift'])\n",
    "\n",
    "Micturition_pains_rules = rules_df1[rules_df1['RHS'].apply(lambda x: 'Micturition pains' in x)].sort_values(by=['Lift'], ascending=False)\n",
    "Micturition_pains_rules.head()"
   ]
  },
  {
   "cell_type": "code",
   "execution_count": 90,
   "id": "38d911c2",
   "metadata": {},
   "outputs": [
    {
     "data": {
      "application/vnd.plotly.v1+json": {
       "config": {
        "plotlyServerURL": "https://plot.ly"
       },
       "data": [
        {
         "customdata": [
          [
           [
            "Lumbar pain"
           ],
           [
            "Micturition pains",
            "Occurrence of nausea"
           ]
          ],
          [
           [
            "Occurrence of nausea"
           ],
           [
            "Micturition pains",
            "Lumbar pain"
           ]
          ],
          [
           [
            "Burning of urethra"
           ],
           [
            "Micturition pains"
           ]
          ],
          [
           [
            "Lumbar pain"
           ],
           [
            "Micturition pains"
           ]
          ],
          [
           [
            "Occurrence of nausea"
           ],
           [
            "Micturition pains"
           ]
          ],
          [
           [
            "Burning of urethra"
           ],
           [
            "Micturition pains",
            "Urine pushing"
           ]
          ],
          [
           [
            "Burning of urethra",
            "Urine pushing"
           ],
           [
            "Micturition pains"
           ]
          ],
          [
           [
            "Lumbar pain",
            "Occurrence of nausea"
           ],
           [
            "Micturition pains"
           ]
          ],
          [
           [
            "Lumbar pain"
           ],
           [
            "Micturition pains",
            "Urine pushing"
           ]
          ],
          [
           [
            "Lumbar pain",
            "Urine pushing"
           ],
           [
            "Micturition pains"
           ]
          ],
          [
           [
            "Occurrence of nausea"
           ],
           [
            "Micturition pains",
            "Urine pushing"
           ]
          ],
          [
           [
            "Occurrence of nausea",
            "Urine pushing"
           ],
           [
            "Micturition pains"
           ]
          ],
          [
           [],
           [
            "Micturition pains"
           ]
          ],
          [
           [],
           [
            "Micturition pains",
            "Urine pushing"
           ]
          ],
          [
           [
            "Urine pushing"
           ],
           [
            "Micturition pains"
           ]
          ]
         ],
         "hovertemplate": "Support=%{x}<br>Confidence=%{y}<br>LHS=%{customdata[0]}<br>RHS=%{customdata[1]}<br>Lift=%{marker.color}<extra></extra>",
         "legendgroup": "",
         "marker": {
          "color": [
           3.105263157894737,
           3.105263157894737,
           1.2040816326530612,
           1.2040816326530612,
           1.2040816326530612,
           1.2040816326530612,
           1.2040816326530612,
           1.2040816326530612,
           1.2040816326530612,
           1.2040816326530612,
           1.2040816326530612,
           1.2040816326530612,
           1,
           1,
           1
          ],
          "coloraxis": "coloraxis",
          "symbol": "circle"
         },
         "mode": "markers",
         "name": "",
         "orientation": "v",
         "showlegend": false,
         "type": "scatter",
         "x": [
          0.3220338983050847,
          0.3220338983050847,
          0.4915254237288136,
          0.3220338983050847,
          0.3220338983050847,
          0.4915254237288136,
          0.4915254237288136,
          0.3220338983050847,
          0.3220338983050847,
          0.3220338983050847,
          0.3220338983050847,
          0.3220338983050847,
          0.8305084745762712,
          0.8305084745762712,
          0.8305084745762712
         ],
         "xaxis": "x",
         "y": [
          1,
          1,
          1,
          1,
          1,
          1,
          1,
          1,
          1,
          1,
          1,
          1,
          0.8305084745762712,
          0.8305084745762712,
          0.8305084745762712
         ],
         "yaxis": "y"
        }
       ],
       "layout": {
        "coloraxis": {
         "colorbar": {
          "title": {
           "text": "Lift"
          }
         },
         "colorscale": [
          [
           0,
           "rgb(75, 41, 145)"
          ],
          [
           0.16666666666666666,
           "rgb(135, 44, 162)"
          ],
          [
           0.3333333333333333,
           "rgb(192, 54, 157)"
          ],
          [
           0.5,
           "rgb(234, 79, 136)"
          ],
          [
           0.6666666666666666,
           "rgb(250, 120, 118)"
          ],
          [
           0.8333333333333334,
           "rgb(246, 169, 122)"
          ],
          [
           1,
           "rgb(237, 217, 163)"
          ]
         ]
        },
        "legend": {
         "tracegroupgap": 0
        },
        "margin": {
         "t": 60
        },
        "template": {
         "data": {
          "bar": [
           {
            "error_x": {
             "color": "#2a3f5f"
            },
            "error_y": {
             "color": "#2a3f5f"
            },
            "marker": {
             "line": {
              "color": "#E5ECF6",
              "width": 0.5
             },
             "pattern": {
              "fillmode": "overlay",
              "size": 10,
              "solidity": 0.2
             }
            },
            "type": "bar"
           }
          ],
          "barpolar": [
           {
            "marker": {
             "line": {
              "color": "#E5ECF6",
              "width": 0.5
             },
             "pattern": {
              "fillmode": "overlay",
              "size": 10,
              "solidity": 0.2
             }
            },
            "type": "barpolar"
           }
          ],
          "carpet": [
           {
            "aaxis": {
             "endlinecolor": "#2a3f5f",
             "gridcolor": "white",
             "linecolor": "white",
             "minorgridcolor": "white",
             "startlinecolor": "#2a3f5f"
            },
            "baxis": {
             "endlinecolor": "#2a3f5f",
             "gridcolor": "white",
             "linecolor": "white",
             "minorgridcolor": "white",
             "startlinecolor": "#2a3f5f"
            },
            "type": "carpet"
           }
          ],
          "choropleth": [
           {
            "colorbar": {
             "outlinewidth": 0,
             "ticks": ""
            },
            "type": "choropleth"
           }
          ],
          "contour": [
           {
            "colorbar": {
             "outlinewidth": 0,
             "ticks": ""
            },
            "colorscale": [
             [
              0,
              "#0d0887"
             ],
             [
              0.1111111111111111,
              "#46039f"
             ],
             [
              0.2222222222222222,
              "#7201a8"
             ],
             [
              0.3333333333333333,
              "#9c179e"
             ],
             [
              0.4444444444444444,
              "#bd3786"
             ],
             [
              0.5555555555555556,
              "#d8576b"
             ],
             [
              0.6666666666666666,
              "#ed7953"
             ],
             [
              0.7777777777777778,
              "#fb9f3a"
             ],
             [
              0.8888888888888888,
              "#fdca26"
             ],
             [
              1,
              "#f0f921"
             ]
            ],
            "type": "contour"
           }
          ],
          "contourcarpet": [
           {
            "colorbar": {
             "outlinewidth": 0,
             "ticks": ""
            },
            "type": "contourcarpet"
           }
          ],
          "heatmap": [
           {
            "colorbar": {
             "outlinewidth": 0,
             "ticks": ""
            },
            "colorscale": [
             [
              0,
              "#0d0887"
             ],
             [
              0.1111111111111111,
              "#46039f"
             ],
             [
              0.2222222222222222,
              "#7201a8"
             ],
             [
              0.3333333333333333,
              "#9c179e"
             ],
             [
              0.4444444444444444,
              "#bd3786"
             ],
             [
              0.5555555555555556,
              "#d8576b"
             ],
             [
              0.6666666666666666,
              "#ed7953"
             ],
             [
              0.7777777777777778,
              "#fb9f3a"
             ],
             [
              0.8888888888888888,
              "#fdca26"
             ],
             [
              1,
              "#f0f921"
             ]
            ],
            "type": "heatmap"
           }
          ],
          "heatmapgl": [
           {
            "colorbar": {
             "outlinewidth": 0,
             "ticks": ""
            },
            "colorscale": [
             [
              0,
              "#0d0887"
             ],
             [
              0.1111111111111111,
              "#46039f"
             ],
             [
              0.2222222222222222,
              "#7201a8"
             ],
             [
              0.3333333333333333,
              "#9c179e"
             ],
             [
              0.4444444444444444,
              "#bd3786"
             ],
             [
              0.5555555555555556,
              "#d8576b"
             ],
             [
              0.6666666666666666,
              "#ed7953"
             ],
             [
              0.7777777777777778,
              "#fb9f3a"
             ],
             [
              0.8888888888888888,
              "#fdca26"
             ],
             [
              1,
              "#f0f921"
             ]
            ],
            "type": "heatmapgl"
           }
          ],
          "histogram": [
           {
            "marker": {
             "pattern": {
              "fillmode": "overlay",
              "size": 10,
              "solidity": 0.2
             }
            },
            "type": "histogram"
           }
          ],
          "histogram2d": [
           {
            "colorbar": {
             "outlinewidth": 0,
             "ticks": ""
            },
            "colorscale": [
             [
              0,
              "#0d0887"
             ],
             [
              0.1111111111111111,
              "#46039f"
             ],
             [
              0.2222222222222222,
              "#7201a8"
             ],
             [
              0.3333333333333333,
              "#9c179e"
             ],
             [
              0.4444444444444444,
              "#bd3786"
             ],
             [
              0.5555555555555556,
              "#d8576b"
             ],
             [
              0.6666666666666666,
              "#ed7953"
             ],
             [
              0.7777777777777778,
              "#fb9f3a"
             ],
             [
              0.8888888888888888,
              "#fdca26"
             ],
             [
              1,
              "#f0f921"
             ]
            ],
            "type": "histogram2d"
           }
          ],
          "histogram2dcontour": [
           {
            "colorbar": {
             "outlinewidth": 0,
             "ticks": ""
            },
            "colorscale": [
             [
              0,
              "#0d0887"
             ],
             [
              0.1111111111111111,
              "#46039f"
             ],
             [
              0.2222222222222222,
              "#7201a8"
             ],
             [
              0.3333333333333333,
              "#9c179e"
             ],
             [
              0.4444444444444444,
              "#bd3786"
             ],
             [
              0.5555555555555556,
              "#d8576b"
             ],
             [
              0.6666666666666666,
              "#ed7953"
             ],
             [
              0.7777777777777778,
              "#fb9f3a"
             ],
             [
              0.8888888888888888,
              "#fdca26"
             ],
             [
              1,
              "#f0f921"
             ]
            ],
            "type": "histogram2dcontour"
           }
          ],
          "mesh3d": [
           {
            "colorbar": {
             "outlinewidth": 0,
             "ticks": ""
            },
            "type": "mesh3d"
           }
          ],
          "parcoords": [
           {
            "line": {
             "colorbar": {
              "outlinewidth": 0,
              "ticks": ""
             }
            },
            "type": "parcoords"
           }
          ],
          "pie": [
           {
            "automargin": true,
            "type": "pie"
           }
          ],
          "scatter": [
           {
            "fillpattern": {
             "fillmode": "overlay",
             "size": 10,
             "solidity": 0.2
            },
            "type": "scatter"
           }
          ],
          "scatter3d": [
           {
            "line": {
             "colorbar": {
              "outlinewidth": 0,
              "ticks": ""
             }
            },
            "marker": {
             "colorbar": {
              "outlinewidth": 0,
              "ticks": ""
             }
            },
            "type": "scatter3d"
           }
          ],
          "scattercarpet": [
           {
            "marker": {
             "colorbar": {
              "outlinewidth": 0,
              "ticks": ""
             }
            },
            "type": "scattercarpet"
           }
          ],
          "scattergeo": [
           {
            "marker": {
             "colorbar": {
              "outlinewidth": 0,
              "ticks": ""
             }
            },
            "type": "scattergeo"
           }
          ],
          "scattergl": [
           {
            "marker": {
             "colorbar": {
              "outlinewidth": 0,
              "ticks": ""
             }
            },
            "type": "scattergl"
           }
          ],
          "scattermapbox": [
           {
            "marker": {
             "colorbar": {
              "outlinewidth": 0,
              "ticks": ""
             }
            },
            "type": "scattermapbox"
           }
          ],
          "scatterpolar": [
           {
            "marker": {
             "colorbar": {
              "outlinewidth": 0,
              "ticks": ""
             }
            },
            "type": "scatterpolar"
           }
          ],
          "scatterpolargl": [
           {
            "marker": {
             "colorbar": {
              "outlinewidth": 0,
              "ticks": ""
             }
            },
            "type": "scatterpolargl"
           }
          ],
          "scatterternary": [
           {
            "marker": {
             "colorbar": {
              "outlinewidth": 0,
              "ticks": ""
             }
            },
            "type": "scatterternary"
           }
          ],
          "surface": [
           {
            "colorbar": {
             "outlinewidth": 0,
             "ticks": ""
            },
            "colorscale": [
             [
              0,
              "#0d0887"
             ],
             [
              0.1111111111111111,
              "#46039f"
             ],
             [
              0.2222222222222222,
              "#7201a8"
             ],
             [
              0.3333333333333333,
              "#9c179e"
             ],
             [
              0.4444444444444444,
              "#bd3786"
             ],
             [
              0.5555555555555556,
              "#d8576b"
             ],
             [
              0.6666666666666666,
              "#ed7953"
             ],
             [
              0.7777777777777778,
              "#fb9f3a"
             ],
             [
              0.8888888888888888,
              "#fdca26"
             ],
             [
              1,
              "#f0f921"
             ]
            ],
            "type": "surface"
           }
          ],
          "table": [
           {
            "cells": {
             "fill": {
              "color": "#EBF0F8"
             },
             "line": {
              "color": "white"
             }
            },
            "header": {
             "fill": {
              "color": "#C8D4E3"
             },
             "line": {
              "color": "white"
             }
            },
            "type": "table"
           }
          ]
         },
         "layout": {
          "annotationdefaults": {
           "arrowcolor": "#2a3f5f",
           "arrowhead": 0,
           "arrowwidth": 1
          },
          "autotypenumbers": "strict",
          "coloraxis": {
           "colorbar": {
            "outlinewidth": 0,
            "ticks": ""
           }
          },
          "colorscale": {
           "diverging": [
            [
             0,
             "#8e0152"
            ],
            [
             0.1,
             "#c51b7d"
            ],
            [
             0.2,
             "#de77ae"
            ],
            [
             0.3,
             "#f1b6da"
            ],
            [
             0.4,
             "#fde0ef"
            ],
            [
             0.5,
             "#f7f7f7"
            ],
            [
             0.6,
             "#e6f5d0"
            ],
            [
             0.7,
             "#b8e186"
            ],
            [
             0.8,
             "#7fbc41"
            ],
            [
             0.9,
             "#4d9221"
            ],
            [
             1,
             "#276419"
            ]
           ],
           "sequential": [
            [
             0,
             "#0d0887"
            ],
            [
             0.1111111111111111,
             "#46039f"
            ],
            [
             0.2222222222222222,
             "#7201a8"
            ],
            [
             0.3333333333333333,
             "#9c179e"
            ],
            [
             0.4444444444444444,
             "#bd3786"
            ],
            [
             0.5555555555555556,
             "#d8576b"
            ],
            [
             0.6666666666666666,
             "#ed7953"
            ],
            [
             0.7777777777777778,
             "#fb9f3a"
            ],
            [
             0.8888888888888888,
             "#fdca26"
            ],
            [
             1,
             "#f0f921"
            ]
           ],
           "sequentialminus": [
            [
             0,
             "#0d0887"
            ],
            [
             0.1111111111111111,
             "#46039f"
            ],
            [
             0.2222222222222222,
             "#7201a8"
            ],
            [
             0.3333333333333333,
             "#9c179e"
            ],
            [
             0.4444444444444444,
             "#bd3786"
            ],
            [
             0.5555555555555556,
             "#d8576b"
            ],
            [
             0.6666666666666666,
             "#ed7953"
            ],
            [
             0.7777777777777778,
             "#fb9f3a"
            ],
            [
             0.8888888888888888,
             "#fdca26"
            ],
            [
             1,
             "#f0f921"
            ]
           ]
          },
          "colorway": [
           "#636efa",
           "#EF553B",
           "#00cc96",
           "#ab63fa",
           "#FFA15A",
           "#19d3f3",
           "#FF6692",
           "#B6E880",
           "#FF97FF",
           "#FECB52"
          ],
          "font": {
           "color": "#2a3f5f"
          },
          "geo": {
           "bgcolor": "white",
           "lakecolor": "white",
           "landcolor": "#E5ECF6",
           "showlakes": true,
           "showland": true,
           "subunitcolor": "white"
          },
          "hoverlabel": {
           "align": "left"
          },
          "hovermode": "closest",
          "mapbox": {
           "style": "light"
          },
          "paper_bgcolor": "white",
          "plot_bgcolor": "#E5ECF6",
          "polar": {
           "angularaxis": {
            "gridcolor": "white",
            "linecolor": "white",
            "ticks": ""
           },
           "bgcolor": "#E5ECF6",
           "radialaxis": {
            "gridcolor": "white",
            "linecolor": "white",
            "ticks": ""
           }
          },
          "scene": {
           "xaxis": {
            "backgroundcolor": "#E5ECF6",
            "gridcolor": "white",
            "gridwidth": 2,
            "linecolor": "white",
            "showbackground": true,
            "ticks": "",
            "zerolinecolor": "white"
           },
           "yaxis": {
            "backgroundcolor": "#E5ECF6",
            "gridcolor": "white",
            "gridwidth": 2,
            "linecolor": "white",
            "showbackground": true,
            "ticks": "",
            "zerolinecolor": "white"
           },
           "zaxis": {
            "backgroundcolor": "#E5ECF6",
            "gridcolor": "white",
            "gridwidth": 2,
            "linecolor": "white",
            "showbackground": true,
            "ticks": "",
            "zerolinecolor": "white"
           }
          },
          "shapedefaults": {
           "line": {
            "color": "#2a3f5f"
           }
          },
          "ternary": {
           "aaxis": {
            "gridcolor": "white",
            "linecolor": "white",
            "ticks": ""
           },
           "baxis": {
            "gridcolor": "white",
            "linecolor": "white",
            "ticks": ""
           },
           "bgcolor": "#E5ECF6",
           "caxis": {
            "gridcolor": "white",
            "linecolor": "white",
            "ticks": ""
           }
          },
          "title": {
           "x": 0.05
          },
          "xaxis": {
           "automargin": true,
           "gridcolor": "white",
           "linecolor": "white",
           "ticks": "",
           "title": {
            "standoff": 15
           },
           "zerolinecolor": "white",
           "zerolinewidth": 2
          },
          "yaxis": {
           "automargin": true,
           "gridcolor": "white",
           "linecolor": "white",
           "ticks": "",
           "title": {
            "standoff": 15
           },
           "zerolinecolor": "white",
           "zerolinewidth": 2
          }
         }
        },
        "xaxis": {
         "anchor": "y",
         "domain": [
          0,
          1
         ],
         "title": {
          "text": "Support"
         }
        },
        "yaxis": {
         "anchor": "x",
         "domain": [
          0,
          1
         ],
         "title": {
          "text": "Confidence"
         }
        }
       }
      },
      "text/html": [
       "<div>                            <div id=\"3dbf3ed6-4e74-4889-a0a3-0c7ba52cc698\" class=\"plotly-graph-div\" style=\"height:525px; width:100%;\"></div>            <script type=\"text/javascript\">                require([\"plotly\"], function(Plotly) {                    window.PLOTLYENV=window.PLOTLYENV || {};                                    if (document.getElementById(\"3dbf3ed6-4e74-4889-a0a3-0c7ba52cc698\")) {                    Plotly.newPlot(                        \"3dbf3ed6-4e74-4889-a0a3-0c7ba52cc698\",                        [{\"customdata\":[[[\"Lumbar pain\"],[\"Micturition pains\",\"Occurrence of nausea\"]],[[\"Occurrence of nausea\"],[\"Micturition pains\",\"Lumbar pain\"]],[[\"Burning of urethra\"],[\"Micturition pains\"]],[[\"Lumbar pain\"],[\"Micturition pains\"]],[[\"Occurrence of nausea\"],[\"Micturition pains\"]],[[\"Burning of urethra\"],[\"Micturition pains\",\"Urine pushing\"]],[[\"Burning of urethra\",\"Urine pushing\"],[\"Micturition pains\"]],[[\"Lumbar pain\",\"Occurrence of nausea\"],[\"Micturition pains\"]],[[\"Lumbar pain\"],[\"Micturition pains\",\"Urine pushing\"]],[[\"Lumbar pain\",\"Urine pushing\"],[\"Micturition pains\"]],[[\"Occurrence of nausea\"],[\"Micturition pains\",\"Urine pushing\"]],[[\"Occurrence of nausea\",\"Urine pushing\"],[\"Micturition pains\"]],[[],[\"Micturition pains\"]],[[],[\"Micturition pains\",\"Urine pushing\"]],[[\"Urine pushing\"],[\"Micturition pains\"]]],\"hovertemplate\":\"Support=%{x}<br>Confidence=%{y}<br>LHS=%{customdata[0]}<br>RHS=%{customdata[1]}<br>Lift=%{marker.color}<extra></extra>\",\"legendgroup\":\"\",\"marker\":{\"color\":[3.105263157894737,3.105263157894737,1.2040816326530612,1.2040816326530612,1.2040816326530612,1.2040816326530612,1.2040816326530612,1.2040816326530612,1.2040816326530612,1.2040816326530612,1.2040816326530612,1.2040816326530612,1.0,1.0,1.0],\"coloraxis\":\"coloraxis\",\"symbol\":\"circle\"},\"mode\":\"markers\",\"name\":\"\",\"orientation\":\"v\",\"showlegend\":false,\"x\":[0.3220338983050847,0.3220338983050847,0.4915254237288136,0.3220338983050847,0.3220338983050847,0.4915254237288136,0.4915254237288136,0.3220338983050847,0.3220338983050847,0.3220338983050847,0.3220338983050847,0.3220338983050847,0.8305084745762712,0.8305084745762712,0.8305084745762712],\"xaxis\":\"x\",\"y\":[1.0,1.0,1.0,1.0,1.0,1.0,1.0,1.0,1.0,1.0,1.0,1.0,0.8305084745762712,0.8305084745762712,0.8305084745762712],\"yaxis\":\"y\",\"type\":\"scatter\"}],                        {\"template\":{\"data\":{\"histogram2dcontour\":[{\"type\":\"histogram2dcontour\",\"colorbar\":{\"outlinewidth\":0,\"ticks\":\"\"},\"colorscale\":[[0.0,\"#0d0887\"],[0.1111111111111111,\"#46039f\"],[0.2222222222222222,\"#7201a8\"],[0.3333333333333333,\"#9c179e\"],[0.4444444444444444,\"#bd3786\"],[0.5555555555555556,\"#d8576b\"],[0.6666666666666666,\"#ed7953\"],[0.7777777777777778,\"#fb9f3a\"],[0.8888888888888888,\"#fdca26\"],[1.0,\"#f0f921\"]]}],\"choropleth\":[{\"type\":\"choropleth\",\"colorbar\":{\"outlinewidth\":0,\"ticks\":\"\"}}],\"histogram2d\":[{\"type\":\"histogram2d\",\"colorbar\":{\"outlinewidth\":0,\"ticks\":\"\"},\"colorscale\":[[0.0,\"#0d0887\"],[0.1111111111111111,\"#46039f\"],[0.2222222222222222,\"#7201a8\"],[0.3333333333333333,\"#9c179e\"],[0.4444444444444444,\"#bd3786\"],[0.5555555555555556,\"#d8576b\"],[0.6666666666666666,\"#ed7953\"],[0.7777777777777778,\"#fb9f3a\"],[0.8888888888888888,\"#fdca26\"],[1.0,\"#f0f921\"]]}],\"heatmap\":[{\"type\":\"heatmap\",\"colorbar\":{\"outlinewidth\":0,\"ticks\":\"\"},\"colorscale\":[[0.0,\"#0d0887\"],[0.1111111111111111,\"#46039f\"],[0.2222222222222222,\"#7201a8\"],[0.3333333333333333,\"#9c179e\"],[0.4444444444444444,\"#bd3786\"],[0.5555555555555556,\"#d8576b\"],[0.6666666666666666,\"#ed7953\"],[0.7777777777777778,\"#fb9f3a\"],[0.8888888888888888,\"#fdca26\"],[1.0,\"#f0f921\"]]}],\"heatmapgl\":[{\"type\":\"heatmapgl\",\"colorbar\":{\"outlinewidth\":0,\"ticks\":\"\"},\"colorscale\":[[0.0,\"#0d0887\"],[0.1111111111111111,\"#46039f\"],[0.2222222222222222,\"#7201a8\"],[0.3333333333333333,\"#9c179e\"],[0.4444444444444444,\"#bd3786\"],[0.5555555555555556,\"#d8576b\"],[0.6666666666666666,\"#ed7953\"],[0.7777777777777778,\"#fb9f3a\"],[0.8888888888888888,\"#fdca26\"],[1.0,\"#f0f921\"]]}],\"contourcarpet\":[{\"type\":\"contourcarpet\",\"colorbar\":{\"outlinewidth\":0,\"ticks\":\"\"}}],\"contour\":[{\"type\":\"contour\",\"colorbar\":{\"outlinewidth\":0,\"ticks\":\"\"},\"colorscale\":[[0.0,\"#0d0887\"],[0.1111111111111111,\"#46039f\"],[0.2222222222222222,\"#7201a8\"],[0.3333333333333333,\"#9c179e\"],[0.4444444444444444,\"#bd3786\"],[0.5555555555555556,\"#d8576b\"],[0.6666666666666666,\"#ed7953\"],[0.7777777777777778,\"#fb9f3a\"],[0.8888888888888888,\"#fdca26\"],[1.0,\"#f0f921\"]]}],\"surface\":[{\"type\":\"surface\",\"colorbar\":{\"outlinewidth\":0,\"ticks\":\"\"},\"colorscale\":[[0.0,\"#0d0887\"],[0.1111111111111111,\"#46039f\"],[0.2222222222222222,\"#7201a8\"],[0.3333333333333333,\"#9c179e\"],[0.4444444444444444,\"#bd3786\"],[0.5555555555555556,\"#d8576b\"],[0.6666666666666666,\"#ed7953\"],[0.7777777777777778,\"#fb9f3a\"],[0.8888888888888888,\"#fdca26\"],[1.0,\"#f0f921\"]]}],\"mesh3d\":[{\"type\":\"mesh3d\",\"colorbar\":{\"outlinewidth\":0,\"ticks\":\"\"}}],\"scatter\":[{\"fillpattern\":{\"fillmode\":\"overlay\",\"size\":10,\"solidity\":0.2},\"type\":\"scatter\"}],\"parcoords\":[{\"type\":\"parcoords\",\"line\":{\"colorbar\":{\"outlinewidth\":0,\"ticks\":\"\"}}}],\"scatterpolargl\":[{\"type\":\"scatterpolargl\",\"marker\":{\"colorbar\":{\"outlinewidth\":0,\"ticks\":\"\"}}}],\"bar\":[{\"error_x\":{\"color\":\"#2a3f5f\"},\"error_y\":{\"color\":\"#2a3f5f\"},\"marker\":{\"line\":{\"color\":\"#E5ECF6\",\"width\":0.5},\"pattern\":{\"fillmode\":\"overlay\",\"size\":10,\"solidity\":0.2}},\"type\":\"bar\"}],\"scattergeo\":[{\"type\":\"scattergeo\",\"marker\":{\"colorbar\":{\"outlinewidth\":0,\"ticks\":\"\"}}}],\"scatterpolar\":[{\"type\":\"scatterpolar\",\"marker\":{\"colorbar\":{\"outlinewidth\":0,\"ticks\":\"\"}}}],\"histogram\":[{\"marker\":{\"pattern\":{\"fillmode\":\"overlay\",\"size\":10,\"solidity\":0.2}},\"type\":\"histogram\"}],\"scattergl\":[{\"type\":\"scattergl\",\"marker\":{\"colorbar\":{\"outlinewidth\":0,\"ticks\":\"\"}}}],\"scatter3d\":[{\"type\":\"scatter3d\",\"line\":{\"colorbar\":{\"outlinewidth\":0,\"ticks\":\"\"}},\"marker\":{\"colorbar\":{\"outlinewidth\":0,\"ticks\":\"\"}}}],\"scattermapbox\":[{\"type\":\"scattermapbox\",\"marker\":{\"colorbar\":{\"outlinewidth\":0,\"ticks\":\"\"}}}],\"scatterternary\":[{\"type\":\"scatterternary\",\"marker\":{\"colorbar\":{\"outlinewidth\":0,\"ticks\":\"\"}}}],\"scattercarpet\":[{\"type\":\"scattercarpet\",\"marker\":{\"colorbar\":{\"outlinewidth\":0,\"ticks\":\"\"}}}],\"carpet\":[{\"aaxis\":{\"endlinecolor\":\"#2a3f5f\",\"gridcolor\":\"white\",\"linecolor\":\"white\",\"minorgridcolor\":\"white\",\"startlinecolor\":\"#2a3f5f\"},\"baxis\":{\"endlinecolor\":\"#2a3f5f\",\"gridcolor\":\"white\",\"linecolor\":\"white\",\"minorgridcolor\":\"white\",\"startlinecolor\":\"#2a3f5f\"},\"type\":\"carpet\"}],\"table\":[{\"cells\":{\"fill\":{\"color\":\"#EBF0F8\"},\"line\":{\"color\":\"white\"}},\"header\":{\"fill\":{\"color\":\"#C8D4E3\"},\"line\":{\"color\":\"white\"}},\"type\":\"table\"}],\"barpolar\":[{\"marker\":{\"line\":{\"color\":\"#E5ECF6\",\"width\":0.5},\"pattern\":{\"fillmode\":\"overlay\",\"size\":10,\"solidity\":0.2}},\"type\":\"barpolar\"}],\"pie\":[{\"automargin\":true,\"type\":\"pie\"}]},\"layout\":{\"autotypenumbers\":\"strict\",\"colorway\":[\"#636efa\",\"#EF553B\",\"#00cc96\",\"#ab63fa\",\"#FFA15A\",\"#19d3f3\",\"#FF6692\",\"#B6E880\",\"#FF97FF\",\"#FECB52\"],\"font\":{\"color\":\"#2a3f5f\"},\"hovermode\":\"closest\",\"hoverlabel\":{\"align\":\"left\"},\"paper_bgcolor\":\"white\",\"plot_bgcolor\":\"#E5ECF6\",\"polar\":{\"bgcolor\":\"#E5ECF6\",\"angularaxis\":{\"gridcolor\":\"white\",\"linecolor\":\"white\",\"ticks\":\"\"},\"radialaxis\":{\"gridcolor\":\"white\",\"linecolor\":\"white\",\"ticks\":\"\"}},\"ternary\":{\"bgcolor\":\"#E5ECF6\",\"aaxis\":{\"gridcolor\":\"white\",\"linecolor\":\"white\",\"ticks\":\"\"},\"baxis\":{\"gridcolor\":\"white\",\"linecolor\":\"white\",\"ticks\":\"\"},\"caxis\":{\"gridcolor\":\"white\",\"linecolor\":\"white\",\"ticks\":\"\"}},\"coloraxis\":{\"colorbar\":{\"outlinewidth\":0,\"ticks\":\"\"}},\"colorscale\":{\"sequential\":[[0.0,\"#0d0887\"],[0.1111111111111111,\"#46039f\"],[0.2222222222222222,\"#7201a8\"],[0.3333333333333333,\"#9c179e\"],[0.4444444444444444,\"#bd3786\"],[0.5555555555555556,\"#d8576b\"],[0.6666666666666666,\"#ed7953\"],[0.7777777777777778,\"#fb9f3a\"],[0.8888888888888888,\"#fdca26\"],[1.0,\"#f0f921\"]],\"sequentialminus\":[[0.0,\"#0d0887\"],[0.1111111111111111,\"#46039f\"],[0.2222222222222222,\"#7201a8\"],[0.3333333333333333,\"#9c179e\"],[0.4444444444444444,\"#bd3786\"],[0.5555555555555556,\"#d8576b\"],[0.6666666666666666,\"#ed7953\"],[0.7777777777777778,\"#fb9f3a\"],[0.8888888888888888,\"#fdca26\"],[1.0,\"#f0f921\"]],\"diverging\":[[0,\"#8e0152\"],[0.1,\"#c51b7d\"],[0.2,\"#de77ae\"],[0.3,\"#f1b6da\"],[0.4,\"#fde0ef\"],[0.5,\"#f7f7f7\"],[0.6,\"#e6f5d0\"],[0.7,\"#b8e186\"],[0.8,\"#7fbc41\"],[0.9,\"#4d9221\"],[1,\"#276419\"]]},\"xaxis\":{\"gridcolor\":\"white\",\"linecolor\":\"white\",\"ticks\":\"\",\"title\":{\"standoff\":15},\"zerolinecolor\":\"white\",\"automargin\":true,\"zerolinewidth\":2},\"yaxis\":{\"gridcolor\":\"white\",\"linecolor\":\"white\",\"ticks\":\"\",\"title\":{\"standoff\":15},\"zerolinecolor\":\"white\",\"automargin\":true,\"zerolinewidth\":2},\"scene\":{\"xaxis\":{\"backgroundcolor\":\"#E5ECF6\",\"gridcolor\":\"white\",\"linecolor\":\"white\",\"showbackground\":true,\"ticks\":\"\",\"zerolinecolor\":\"white\",\"gridwidth\":2},\"yaxis\":{\"backgroundcolor\":\"#E5ECF6\",\"gridcolor\":\"white\",\"linecolor\":\"white\",\"showbackground\":true,\"ticks\":\"\",\"zerolinecolor\":\"white\",\"gridwidth\":2},\"zaxis\":{\"backgroundcolor\":\"#E5ECF6\",\"gridcolor\":\"white\",\"linecolor\":\"white\",\"showbackground\":true,\"ticks\":\"\",\"zerolinecolor\":\"white\",\"gridwidth\":2}},\"shapedefaults\":{\"line\":{\"color\":\"#2a3f5f\"}},\"annotationdefaults\":{\"arrowcolor\":\"#2a3f5f\",\"arrowhead\":0,\"arrowwidth\":1},\"geo\":{\"bgcolor\":\"white\",\"landcolor\":\"#E5ECF6\",\"subunitcolor\":\"white\",\"showland\":true,\"showlakes\":true,\"lakecolor\":\"white\"},\"title\":{\"x\":0.05},\"mapbox\":{\"style\":\"light\"}}},\"xaxis\":{\"anchor\":\"y\",\"domain\":[0.0,1.0],\"title\":{\"text\":\"Support\"}},\"yaxis\":{\"anchor\":\"x\",\"domain\":[0.0,1.0],\"title\":{\"text\":\"Confidence\"}},\"coloraxis\":{\"colorbar\":{\"title\":{\"text\":\"Lift\"}},\"colorscale\":[[0.0,\"rgb(75, 41, 145)\"],[0.16666666666666666,\"rgb(135, 44, 162)\"],[0.3333333333333333,\"rgb(192, 54, 157)\"],[0.5,\"rgb(234, 79, 136)\"],[0.6666666666666666,\"rgb(250, 120, 118)\"],[0.8333333333333334,\"rgb(246, 169, 122)\"],[1.0,\"rgb(237, 217, 163)\"]]},\"legend\":{\"tracegroupgap\":0},\"margin\":{\"t\":60}},                        {\"responsive\": true}                    ).then(function(){\n",
       "                            \n",
       "var gd = document.getElementById('3dbf3ed6-4e74-4889-a0a3-0c7ba52cc698');\n",
       "var x = new MutationObserver(function (mutations, observer) {{\n",
       "        var display = window.getComputedStyle(gd).display;\n",
       "        if (!display || display === 'none') {{\n",
       "            console.log([gd, 'removed!']);\n",
       "            Plotly.purge(gd);\n",
       "            observer.disconnect();\n",
       "        }}\n",
       "}});\n",
       "\n",
       "// Listen for the removal of the full notebook cells\n",
       "var notebookContainer = gd.closest('#notebook-container');\n",
       "if (notebookContainer) {{\n",
       "    x.observe(notebookContainer, {childList: true});\n",
       "}}\n",
       "\n",
       "// Listen for the clearing of the current output cell\n",
       "var outputEl = gd.closest('.output');\n",
       "if (outputEl) {{\n",
       "    x.observe(outputEl, {childList: true});\n",
       "}}\n",
       "\n",
       "                        })                };                });            </script>        </div>"
      ]
     },
     "metadata": {},
     "output_type": "display_data"
    }
   ],
   "source": [
    "fig = px.scatter(Micturition_pains_rules, x='Support', y='Confidence', color='Lift',\n",
    "                 hover_data=['LHS', 'RHS'], color_continuous_scale='agsunset')\n",
    "fig.show()"
   ]
  },
  {
   "cell_type": "markdown",
   "id": "16d04854",
   "metadata": {},
   "source": [
    "## Part B : Nephritis of renal pelvis origin"
   ]
  },
  {
   "cell_type": "code",
   "execution_count": 92,
   "id": "bd9c437e",
   "metadata": {},
   "outputs": [
    {
     "data": {
      "image/png": "[encoded data removed]",
      "text/plain": [
       "<Figure size 640x480 with 1 Axes>"
      ]
     },
     "metadata": {},
     "output_type": "display_data"
    }
   ],
   "source": [
    "#Inflammation of urinary bladder\n",
    "yes2 = (df2 == 'Yes').sum()\n",
    "no2 = (df2 == 'No').sum()\n",
    "myplot2 = pd.concat([yes2,no2], axis=1,keys=['Yes','No'])\n",
    "ax=myplot2.plot.bar(stacked=True)\n",
    "plt.show()"
   ]
  },
  {
   "cell_type": "code",
   "execution_count": 94,
   "id": "d964778d",
   "metadata": {},
   "outputs": [
    {
     "data": {
      "text/plain": [
       "[['Lumbar pain', 'Urine pushing', 'Burning of urethra'],\n",
       " ['Lumbar pain', 'Urine pushing', 'Burning of urethra'],\n",
       " ['Lumbar pain', 'Urine pushing', 'Burning of urethra'],\n",
       " ['Lumbar pain', 'Urine pushing', 'Burning of urethra'],\n",
       " ['Lumbar pain', 'Urine pushing', 'Burning of urethra'],\n",
       " ['Lumbar pain', 'Urine pushing', 'Burning of urethra'],\n",
       " ['Lumbar pain', 'Urine pushing', 'Burning of urethra'],\n",
       " ['Lumbar pain', 'Urine pushing', 'Burning of urethra'],\n",
       " ['Lumbar pain', 'Urine pushing', 'Burning of urethra'],\n",
       " ['Lumbar pain', 'Urine pushing', 'Burning of urethra'],\n",
       " ['Occurrence of nausea',\n",
       "  'Lumbar pain',\n",
       "  'Urine pushing',\n",
       "  'Micturition pains',\n",
       "  'Burning of urethra'],\n",
       " ['Occurrence of nausea',\n",
       "  'Lumbar pain',\n",
       "  'Urine pushing',\n",
       "  'Micturition pains',\n",
       "  'Burning of urethra'],\n",
       " ['Occurrence of nausea', 'Lumbar pain', 'Urine pushing', 'Micturition pains'],\n",
       " ['Occurrence of nausea', 'Lumbar pain', 'Micturition pains'],\n",
       " ['Occurrence of nausea', 'Lumbar pain', 'Micturition pains'],\n",
       " ['Lumbar pain', 'Urine pushing', 'Burning of urethra'],\n",
       " ['Occurrence of nausea', 'Lumbar pain', 'Urine pushing', 'Micturition pains'],\n",
       " ['Occurrence of nausea',\n",
       "  'Lumbar pain',\n",
       "  'Urine pushing',\n",
       "  'Micturition pains',\n",
       "  'Burning of urethra'],\n",
       " ['Occurrence of nausea', 'Lumbar pain', 'Micturition pains'],\n",
       " ['Lumbar pain', 'Urine pushing', 'Burning of urethra'],\n",
       " ['Occurrence of nausea',\n",
       "  'Lumbar pain',\n",
       "  'Urine pushing',\n",
       "  'Micturition pains',\n",
       "  'Burning of urethra'],\n",
       " ['Occurrence of nausea', 'Lumbar pain', 'Urine pushing', 'Micturition pains'],\n",
       " ['Occurrence of nausea', 'Lumbar pain', 'Urine pushing', 'Micturition pains'],\n",
       " ['Occurrence of nausea', 'Lumbar pain', 'Micturition pains'],\n",
       " ['Occurrence of nausea', 'Lumbar pain', 'Urine pushing', 'Micturition pains'],\n",
       " ['Occurrence of nausea',\n",
       "  'Lumbar pain',\n",
       "  'Urine pushing',\n",
       "  'Micturition pains',\n",
       "  'Burning of urethra'],\n",
       " ['Occurrence of nausea', 'Lumbar pain', 'Micturition pains'],\n",
       " ['Occurrence of nausea',\n",
       "  'Lumbar pain',\n",
       "  'Urine pushing',\n",
       "  'Micturition pains',\n",
       "  'Burning of urethra'],\n",
       " ['Occurrence of nausea', 'Lumbar pain', 'Urine pushing', 'Micturition pains'],\n",
       " ['Occurrence of nausea', 'Lumbar pain', 'Micturition pains'],\n",
       " ['Lumbar pain', 'Urine pushing', 'Burning of urethra'],\n",
       " ['Lumbar pain', 'Urine pushing', 'Burning of urethra'],\n",
       " ['Occurrence of nausea', 'Lumbar pain', 'Urine pushing', 'Micturition pains'],\n",
       " ['Occurrence of nausea', 'Lumbar pain', 'Urine pushing', 'Micturition pains'],\n",
       " ['Lumbar pain', 'Urine pushing', 'Burning of urethra'],\n",
       " ['Occurrence of nausea',\n",
       "  'Lumbar pain',\n",
       "  'Urine pushing',\n",
       "  'Micturition pains',\n",
       "  'Burning of urethra'],\n",
       " ['Occurrence of nausea', 'Lumbar pain', 'Micturition pains'],\n",
       " ['Lumbar pain', 'Urine pushing', 'Burning of urethra'],\n",
       " ['Occurrence of nausea',\n",
       "  'Lumbar pain',\n",
       "  'Urine pushing',\n",
       "  'Micturition pains',\n",
       "  'Burning of urethra'],\n",
       " ['Occurrence of nausea', 'Lumbar pain', 'Urine pushing', 'Micturition pains'],\n",
       " ['Occurrence of nausea', 'Lumbar pain', 'Micturition pains'],\n",
       " ['Lumbar pain', 'Urine pushing', 'Burning of urethra'],\n",
       " ['Occurrence of nausea',\n",
       "  'Lumbar pain',\n",
       "  'Urine pushing',\n",
       "  'Micturition pains',\n",
       "  'Burning of urethra'],\n",
       " ['Occurrence of nausea', 'Lumbar pain', 'Micturition pains'],\n",
       " ['Lumbar pain', 'Urine pushing', 'Burning of urethra'],\n",
       " ['Occurrence of nausea', 'Lumbar pain', 'Urine pushing', 'Micturition pains'],\n",
       " ['Lumbar pain', 'Urine pushing', 'Burning of urethra'],\n",
       " ['Occurrence of nausea', 'Lumbar pain', 'Micturition pains'],\n",
       " ['Lumbar pain', 'Urine pushing', 'Burning of urethra'],\n",
       " ['Lumbar pain', 'Urine pushing', 'Burning of urethra']]"
      ]
     },
     "execution_count": 94,
     "metadata": {},
     "output_type": "execute_result"
    }
   ],
   "source": [
    "Nephritis_of_renal_pelvis_origin = utils.data_prepare(df2)\n",
    "Nephritis_of_renal_pelvis_origin"
   ]
  },
  {
   "cell_type": "code",
   "execution_count": 95,
   "id": "fd81d688",
   "metadata": {},
   "outputs": [],
   "source": [
    "Rules_B = list(apriori(Nephritis_of_renal_pelvis_origin, min_support=0.2, min_confidence=0.5))"
   ]
  },
  {
   "cell_type": "code",
   "execution_count": 96,
   "id": "df79d9a6",
   "metadata": {},
   "outputs": [
    {
     "data": {
      "text/plain": [
       "61"
      ]
     },
     "execution_count": 96,
     "metadata": {},
     "output_type": "execute_result"
    }
   ],
   "source": [
    "associationRules_B = utils.extract(Rules_B)\n",
    "rules_df2 = pd.DataFrame(associationRules_B, columns=['LHS', 'RHS', 'Support', 'Confidence', 'Lift'])\n",
    "len(rules_df2)"
   ]
  },
  {
   "cell_type": "code",
   "execution_count": 97,
   "id": "4e9089a9",
   "metadata": {
    "scrolled": false
   },
   "outputs": [
    {
     "name": "stdout",
     "output_type": "stream",
     "text": [
      "The number of associated rules: 61\n",
      "LHS: [] --> RHS:['Burning of urethra'], support: 0.60, confidence: 0.60, lift: 1.00\n",
      "--------------------------------------------------------------------------------\n",
      "LHS: [] --> RHS:['Lumbar pain'], support: 1.00, confidence: 1.00, lift: 1.00\n",
      "--------------------------------------------------------------------------------\n",
      "LHS: [] --> RHS:['Micturition pains'], support: 0.58, confidence: 0.58, lift: 1.00\n",
      "--------------------------------------------------------------------------------\n",
      "LHS: [] --> RHS:['Occurrence of nausea'], support: 0.58, confidence: 0.58, lift: 1.00\n",
      "--------------------------------------------------------------------------------\n",
      "LHS: [] --> RHS:['Urine pushing'], support: 0.80, confidence: 0.80, lift: 1.00\n",
      "--------------------------------------------------------------------------------\n",
      "LHS: [] --> RHS:['Burning of urethra', 'Lumbar pain'], support: 0.60, confidence: 0.60, lift: 1.00\n",
      "--------------------------------------------------------------------------------\n",
      "LHS: ['Burning of urethra'] --> RHS:['Lumbar pain'], support: 0.60, confidence: 1.00, lift: 1.00\n",
      "--------------------------------------------------------------------------------\n",
      "LHS: ['Lumbar pain'] --> RHS:['Burning of urethra'], support: 0.60, confidence: 0.60, lift: 1.00\n",
      "--------------------------------------------------------------------------------\n",
      "LHS: [] --> RHS:['Burning of urethra', 'Urine pushing'], support: 0.60, confidence: 0.60, lift: 1.00\n",
      "--------------------------------------------------------------------------------\n",
      "LHS: ['Burning of urethra'] --> RHS:['Urine pushing'], support: 0.60, confidence: 1.00, lift: 1.25\n",
      "--------------------------------------------------------------------------------\n",
      "LHS: ['Urine pushing'] --> RHS:['Burning of urethra'], support: 0.60, confidence: 0.75, lift: 1.25\n",
      "--------------------------------------------------------------------------------\n",
      "LHS: [] --> RHS:['Micturition pains', 'Lumbar pain'], support: 0.58, confidence: 0.58, lift: 1.00\n",
      "--------------------------------------------------------------------------------\n",
      "LHS: ['Lumbar pain'] --> RHS:['Micturition pains'], support: 0.58, confidence: 0.58, lift: 1.00\n",
      "--------------------------------------------------------------------------------\n",
      "LHS: ['Micturition pains'] --> RHS:['Lumbar pain'], support: 0.58, confidence: 1.00, lift: 1.00\n",
      "--------------------------------------------------------------------------------\n",
      "LHS: [] --> RHS:['Lumbar pain', 'Occurrence of nausea'], support: 0.58, confidence: 0.58, lift: 1.00\n",
      "--------------------------------------------------------------------------------\n",
      "LHS: ['Lumbar pain'] --> RHS:['Occurrence of nausea'], support: 0.58, confidence: 0.58, lift: 1.00\n",
      "--------------------------------------------------------------------------------\n",
      "LHS: ['Occurrence of nausea'] --> RHS:['Lumbar pain'], support: 0.58, confidence: 1.00, lift: 1.00\n",
      "--------------------------------------------------------------------------------\n",
      "LHS: [] --> RHS:['Lumbar pain', 'Urine pushing'], support: 0.80, confidence: 0.80, lift: 1.00\n",
      "--------------------------------------------------------------------------------\n",
      "LHS: ['Lumbar pain'] --> RHS:['Urine pushing'], support: 0.80, confidence: 0.80, lift: 1.00\n",
      "--------------------------------------------------------------------------------\n",
      "LHS: ['Urine pushing'] --> RHS:['Lumbar pain'], support: 0.80, confidence: 1.00, lift: 1.00\n",
      "--------------------------------------------------------------------------------\n",
      "LHS: [] --> RHS:['Micturition pains', 'Occurrence of nausea'], support: 0.58, confidence: 0.58, lift: 1.00\n",
      "--------------------------------------------------------------------------------\n",
      "LHS: ['Micturition pains'] --> RHS:['Occurrence of nausea'], support: 0.58, confidence: 1.00, lift: 1.72\n",
      "--------------------------------------------------------------------------------\n",
      "LHS: ['Occurrence of nausea'] --> RHS:['Micturition pains'], support: 0.58, confidence: 1.00, lift: 1.72\n",
      "--------------------------------------------------------------------------------\n",
      "LHS: ['Micturition pains'] --> RHS:['Urine pushing'], support: 0.38, confidence: 0.66, lift: 0.82\n",
      "--------------------------------------------------------------------------------\n",
      "LHS: ['Occurrence of nausea'] --> RHS:['Urine pushing'], support: 0.38, confidence: 0.66, lift: 0.82\n",
      "--------------------------------------------------------------------------------\n",
      "LHS: [] --> RHS:['Burning of urethra', 'Lumbar pain', 'Urine pushing'], support: 0.60, confidence: 0.60, lift: 1.00\n",
      "--------------------------------------------------------------------------------\n",
      "LHS: ['Burning of urethra'] --> RHS:['Lumbar pain', 'Urine pushing'], support: 0.60, confidence: 1.00, lift: 1.25\n",
      "--------------------------------------------------------------------------------\n",
      "LHS: ['Lumbar pain'] --> RHS:['Burning of urethra', 'Urine pushing'], support: 0.60, confidence: 0.60, lift: 1.00\n",
      "--------------------------------------------------------------------------------\n",
      "LHS: ['Urine pushing'] --> RHS:['Burning of urethra', 'Lumbar pain'], support: 0.60, confidence: 0.75, lift: 1.25\n",
      "--------------------------------------------------------------------------------\n",
      "LHS: ['Burning of urethra', 'Lumbar pain'] --> RHS:['Urine pushing'], support: 0.60, confidence: 1.00, lift: 1.25\n",
      "--------------------------------------------------------------------------------\n",
      "LHS: ['Burning of urethra', 'Urine pushing'] --> RHS:['Lumbar pain'], support: 0.60, confidence: 1.00, lift: 1.00\n",
      "--------------------------------------------------------------------------------\n",
      "LHS: ['Lumbar pain', 'Urine pushing'] --> RHS:['Burning of urethra'], support: 0.60, confidence: 0.75, lift: 1.25\n",
      "--------------------------------------------------------------------------------\n",
      "LHS: [] --> RHS:['Micturition pains', 'Lumbar pain', 'Occurrence of nausea'], support: 0.58, confidence: 0.58, lift: 1.00\n",
      "--------------------------------------------------------------------------------\n",
      "LHS: ['Lumbar pain'] --> RHS:['Micturition pains', 'Occurrence of nausea'], support: 0.58, confidence: 0.58, lift: 1.00\n",
      "--------------------------------------------------------------------------------\n",
      "LHS: ['Micturition pains'] --> RHS:['Lumbar pain', 'Occurrence of nausea'], support: 0.58, confidence: 1.00, lift: 1.72\n",
      "--------------------------------------------------------------------------------\n",
      "LHS: ['Occurrence of nausea'] --> RHS:['Micturition pains', 'Lumbar pain'], support: 0.58, confidence: 1.00, lift: 1.72\n",
      "--------------------------------------------------------------------------------\n",
      "LHS: ['Micturition pains', 'Lumbar pain'] --> RHS:['Occurrence of nausea'], support: 0.58, confidence: 1.00, lift: 1.72\n",
      "--------------------------------------------------------------------------------\n",
      "LHS: ['Lumbar pain', 'Occurrence of nausea'] --> RHS:['Micturition pains'], support: 0.58, confidence: 1.00, lift: 1.72\n",
      "--------------------------------------------------------------------------------\n",
      "LHS: ['Micturition pains', 'Occurrence of nausea'] --> RHS:['Lumbar pain'], support: 0.58, confidence: 1.00, lift: 1.00\n",
      "--------------------------------------------------------------------------------\n",
      "LHS: ['Micturition pains'] --> RHS:['Lumbar pain', 'Urine pushing'], support: 0.38, confidence: 0.66, lift: 0.82\n",
      "--------------------------------------------------------------------------------\n",
      "LHS: ['Micturition pains', 'Lumbar pain'] --> RHS:['Urine pushing'], support: 0.38, confidence: 0.66, lift: 0.82\n",
      "--------------------------------------------------------------------------------\n",
      "LHS: ['Micturition pains', 'Urine pushing'] --> RHS:['Lumbar pain'], support: 0.38, confidence: 1.00, lift: 1.00\n",
      "--------------------------------------------------------------------------------\n",
      "LHS: ['Occurrence of nausea'] --> RHS:['Lumbar pain', 'Urine pushing'], support: 0.38, confidence: 0.66, lift: 0.82\n",
      "--------------------------------------------------------------------------------\n",
      "LHS: ['Lumbar pain', 'Occurrence of nausea'] --> RHS:['Urine pushing'], support: 0.38, confidence: 0.66, lift: 0.82\n",
      "--------------------------------------------------------------------------------\n",
      "LHS: ['Occurrence of nausea', 'Urine pushing'] --> RHS:['Lumbar pain'], support: 0.38, confidence: 1.00, lift: 1.00\n",
      "--------------------------------------------------------------------------------\n",
      "LHS: ['Micturition pains'] --> RHS:['Occurrence of nausea', 'Urine pushing'], support: 0.38, confidence: 0.66, lift: 1.72\n",
      "--------------------------------------------------------------------------------\n",
      "LHS: ['Occurrence of nausea'] --> RHS:['Micturition pains', 'Urine pushing'], support: 0.38, confidence: 0.66, lift: 1.72\n",
      "--------------------------------------------------------------------------------\n",
      "LHS: ['Micturition pains', 'Occurrence of nausea'] --> RHS:['Urine pushing'], support: 0.38, confidence: 0.66, lift: 0.82\n",
      "--------------------------------------------------------------------------------\n",
      "LHS: ['Micturition pains', 'Urine pushing'] --> RHS:['Occurrence of nausea'], support: 0.38, confidence: 1.00, lift: 1.72\n",
      "--------------------------------------------------------------------------------\n",
      "LHS: ['Occurrence of nausea', 'Urine pushing'] --> RHS:['Micturition pains'], support: 0.38, confidence: 1.00, lift: 1.72\n",
      "--------------------------------------------------------------------------------\n",
      "LHS: ['Micturition pains'] --> RHS:['Lumbar pain', 'Urine pushing', 'Occurrence of nausea'], support: 0.38, confidence: 0.66, lift: 1.72\n",
      "--------------------------------------------------------------------------------\n",
      "LHS: ['Occurrence of nausea'] --> RHS:['Micturition pains', 'Lumbar pain', 'Urine pushing'], support: 0.38, confidence: 0.66, lift: 1.72\n",
      "--------------------------------------------------------------------------------\n",
      "LHS: ['Micturition pains', 'Lumbar pain'] --> RHS:['Occurrence of nausea', 'Urine pushing'], support: 0.38, confidence: 0.66, lift: 1.72\n",
      "--------------------------------------------------------------------------------\n",
      "LHS: ['Lumbar pain', 'Occurrence of nausea'] --> RHS:['Micturition pains', 'Urine pushing'], support: 0.38, confidence: 0.66, lift: 1.72\n",
      "--------------------------------------------------------------------------------\n",
      "LHS: ['Micturition pains', 'Occurrence of nausea'] --> RHS:['Lumbar pain', 'Urine pushing'], support: 0.38, confidence: 0.66, lift: 0.82\n",
      "--------------------------------------------------------------------------------\n",
      "LHS: ['Micturition pains', 'Urine pushing'] --> RHS:['Lumbar pain', 'Occurrence of nausea'], support: 0.38, confidence: 1.00, lift: 1.72\n",
      "--------------------------------------------------------------------------------\n",
      "LHS: ['Occurrence of nausea', 'Urine pushing'] --> RHS:['Micturition pains', 'Lumbar pain'], support: 0.38, confidence: 1.00, lift: 1.72\n",
      "--------------------------------------------------------------------------------\n",
      "LHS: ['Micturition pains', 'Lumbar pain', 'Occurrence of nausea'] --> RHS:['Urine pushing'], support: 0.38, confidence: 0.66, lift: 0.82\n",
      "--------------------------------------------------------------------------------\n",
      "LHS: ['Micturition pains', 'Lumbar pain', 'Urine pushing'] --> RHS:['Occurrence of nausea'], support: 0.38, confidence: 1.00, lift: 1.72\n",
      "--------------------------------------------------------------------------------\n",
      "LHS: ['Lumbar pain', 'Urine pushing', 'Occurrence of nausea'] --> RHS:['Micturition pains'], support: 0.38, confidence: 1.00, lift: 1.72\n",
      "--------------------------------------------------------------------------------\n",
      "LHS: ['Micturition pains', 'Occurrence of nausea', 'Urine pushing'] --> RHS:['Lumbar pain'], support: 0.38, confidence: 1.00, lift: 1.00\n",
      "--------------------------------------------------------------------------------\n"
     ]
    }
   ],
   "source": [
    "utils.inspect(associationRules_B)"
   ]
  },
  {
   "cell_type": "code",
   "execution_count": 100,
   "id": "9973665c",
   "metadata": {
    "scrolled": true
   },
   "outputs": [
    {
     "data": {
      "text/html": [
       "<div>\n",
       "<style scoped>\n",
       "    .dataframe tbody tr th:only-of-type {\n",
       "        vertical-align: middle;\n",
       "    }\n",
       "\n",
       "    .dataframe tbody tr th {\n",
       "        vertical-align: top;\n",
       "    }\n",
       "\n",
       "    .dataframe thead th {\n",
       "        text-align: right;\n",
       "    }\n",
       "</style>\n",
       "<table border=\"1\" class=\"dataframe\">\n",
       "  <thead>\n",
       "    <tr style=\"text-align: right;\">\n",
       "      <th></th>\n",
       "      <th>LHS</th>\n",
       "      <th>RHS</th>\n",
       "      <th>Support</th>\n",
       "      <th>Confidence</th>\n",
       "      <th>Lift</th>\n",
       "    </tr>\n",
       "  </thead>\n",
       "  <tbody>\n",
       "    <tr>\n",
       "      <th>21</th>\n",
       "      <td>[Micturition pains]</td>\n",
       "      <td>[Occurrence of nausea]</td>\n",
       "      <td>0.58</td>\n",
       "      <td>1.000000</td>\n",
       "      <td>1.724138</td>\n",
       "    </tr>\n",
       "    <tr>\n",
       "      <th>22</th>\n",
       "      <td>[Occurrence of nausea]</td>\n",
       "      <td>[Micturition pains]</td>\n",
       "      <td>0.58</td>\n",
       "      <td>1.000000</td>\n",
       "      <td>1.724138</td>\n",
       "    </tr>\n",
       "    <tr>\n",
       "      <th>34</th>\n",
       "      <td>[Micturition pains]</td>\n",
       "      <td>[Lumbar pain, Occurrence of nausea]</td>\n",
       "      <td>0.58</td>\n",
       "      <td>1.000000</td>\n",
       "      <td>1.724138</td>\n",
       "    </tr>\n",
       "    <tr>\n",
       "      <th>35</th>\n",
       "      <td>[Occurrence of nausea]</td>\n",
       "      <td>[Micturition pains, Lumbar pain]</td>\n",
       "      <td>0.58</td>\n",
       "      <td>1.000000</td>\n",
       "      <td>1.724138</td>\n",
       "    </tr>\n",
       "    <tr>\n",
       "      <th>36</th>\n",
       "      <td>[Micturition pains, Lumbar pain]</td>\n",
       "      <td>[Occurrence of nausea]</td>\n",
       "      <td>0.58</td>\n",
       "      <td>1.000000</td>\n",
       "      <td>1.724138</td>\n",
       "    </tr>\n",
       "    <tr>\n",
       "      <th>37</th>\n",
       "      <td>[Lumbar pain, Occurrence of nausea]</td>\n",
       "      <td>[Micturition pains]</td>\n",
       "      <td>0.58</td>\n",
       "      <td>1.000000</td>\n",
       "      <td>1.724138</td>\n",
       "    </tr>\n",
       "    <tr>\n",
       "      <th>45</th>\n",
       "      <td>[Micturition pains]</td>\n",
       "      <td>[Occurrence of nausea, Urine pushing]</td>\n",
       "      <td>0.38</td>\n",
       "      <td>0.655172</td>\n",
       "      <td>1.724138</td>\n",
       "    </tr>\n",
       "    <tr>\n",
       "      <th>46</th>\n",
       "      <td>[Occurrence of nausea]</td>\n",
       "      <td>[Micturition pains, Urine pushing]</td>\n",
       "      <td>0.38</td>\n",
       "      <td>0.655172</td>\n",
       "      <td>1.724138</td>\n",
       "    </tr>\n",
       "    <tr>\n",
       "      <th>48</th>\n",
       "      <td>[Micturition pains, Urine pushing]</td>\n",
       "      <td>[Occurrence of nausea]</td>\n",
       "      <td>0.38</td>\n",
       "      <td>1.000000</td>\n",
       "      <td>1.724138</td>\n",
       "    </tr>\n",
       "    <tr>\n",
       "      <th>49</th>\n",
       "      <td>[Occurrence of nausea, Urine pushing]</td>\n",
       "      <td>[Micturition pains]</td>\n",
       "      <td>0.38</td>\n",
       "      <td>1.000000</td>\n",
       "      <td>1.724138</td>\n",
       "    </tr>\n",
       "  </tbody>\n",
       "</table>\n",
       "</div>"
      ],
      "text/plain": [
       "                                      LHS  \\\n",
       "21                    [Micturition pains]   \n",
       "22                 [Occurrence of nausea]   \n",
       "34                    [Micturition pains]   \n",
       "35                 [Occurrence of nausea]   \n",
       "36       [Micturition pains, Lumbar pain]   \n",
       "37    [Lumbar pain, Occurrence of nausea]   \n",
       "45                    [Micturition pains]   \n",
       "46                 [Occurrence of nausea]   \n",
       "48     [Micturition pains, Urine pushing]   \n",
       "49  [Occurrence of nausea, Urine pushing]   \n",
       "\n",
       "                                      RHS  Support  Confidence      Lift  \n",
       "21                 [Occurrence of nausea]     0.58    1.000000  1.724138  \n",
       "22                    [Micturition pains]     0.58    1.000000  1.724138  \n",
       "34    [Lumbar pain, Occurrence of nausea]     0.58    1.000000  1.724138  \n",
       "35       [Micturition pains, Lumbar pain]     0.58    1.000000  1.724138  \n",
       "36                 [Occurrence of nausea]     0.58    1.000000  1.724138  \n",
       "37                    [Micturition pains]     0.58    1.000000  1.724138  \n",
       "45  [Occurrence of nausea, Urine pushing]     0.38    0.655172  1.724138  \n",
       "46     [Micturition pains, Urine pushing]     0.38    0.655172  1.724138  \n",
       "48                 [Occurrence of nausea]     0.38    1.000000  1.724138  \n",
       "49                    [Micturition pains]     0.38    1.000000  1.724138  "
      ]
     },
     "execution_count": 100,
     "metadata": {},
     "output_type": "execute_result"
    }
   ],
   "source": [
    "rules_df2.nlargest(10, 'Lift')"
   ]
  },
  {
   "cell_type": "code",
   "execution_count": 103,
   "id": "85b1c3e4",
   "metadata": {
    "scrolled": true
   },
   "outputs": [
    {
     "data": {
      "text/html": [
       "<div>\n",
       "<style scoped>\n",
       "    .dataframe tbody tr th:only-of-type {\n",
       "        vertical-align: middle;\n",
       "    }\n",
       "\n",
       "    .dataframe tbody tr th {\n",
       "        vertical-align: top;\n",
       "    }\n",
       "\n",
       "    .dataframe thead th {\n",
       "        text-align: right;\n",
       "    }\n",
       "</style>\n",
       "<table border=\"1\" class=\"dataframe\">\n",
       "  <thead>\n",
       "    <tr style=\"text-align: right;\">\n",
       "      <th></th>\n",
       "      <th>LHS</th>\n",
       "      <th>RHS</th>\n",
       "      <th>Support</th>\n",
       "      <th>Confidence</th>\n",
       "      <th>Lift</th>\n",
       "    </tr>\n",
       "  </thead>\n",
       "  <tbody>\n",
       "    <tr>\n",
       "      <th>1</th>\n",
       "      <td>[]</td>\n",
       "      <td>[Lumbar pain]</td>\n",
       "      <td>1.0</td>\n",
       "      <td>1.0</td>\n",
       "      <td>1.0</td>\n",
       "    </tr>\n",
       "    <tr>\n",
       "      <th>4</th>\n",
       "      <td>[]</td>\n",
       "      <td>[Urine pushing]</td>\n",
       "      <td>0.8</td>\n",
       "      <td>0.8</td>\n",
       "      <td>1.0</td>\n",
       "    </tr>\n",
       "    <tr>\n",
       "      <th>17</th>\n",
       "      <td>[]</td>\n",
       "      <td>[Lumbar pain, Urine pushing]</td>\n",
       "      <td>0.8</td>\n",
       "      <td>0.8</td>\n",
       "      <td>1.0</td>\n",
       "    </tr>\n",
       "    <tr>\n",
       "      <th>18</th>\n",
       "      <td>[Lumbar pain]</td>\n",
       "      <td>[Urine pushing]</td>\n",
       "      <td>0.8</td>\n",
       "      <td>0.8</td>\n",
       "      <td>1.0</td>\n",
       "    </tr>\n",
       "    <tr>\n",
       "      <th>19</th>\n",
       "      <td>[Urine pushing]</td>\n",
       "      <td>[Lumbar pain]</td>\n",
       "      <td>0.8</td>\n",
       "      <td>1.0</td>\n",
       "      <td>1.0</td>\n",
       "    </tr>\n",
       "    <tr>\n",
       "      <th>0</th>\n",
       "      <td>[]</td>\n",
       "      <td>[Burning of urethra]</td>\n",
       "      <td>0.6</td>\n",
       "      <td>0.6</td>\n",
       "      <td>1.0</td>\n",
       "    </tr>\n",
       "    <tr>\n",
       "      <th>5</th>\n",
       "      <td>[]</td>\n",
       "      <td>[Burning of urethra, Lumbar pain]</td>\n",
       "      <td>0.6</td>\n",
       "      <td>0.6</td>\n",
       "      <td>1.0</td>\n",
       "    </tr>\n",
       "    <tr>\n",
       "      <th>6</th>\n",
       "      <td>[Burning of urethra]</td>\n",
       "      <td>[Lumbar pain]</td>\n",
       "      <td>0.6</td>\n",
       "      <td>1.0</td>\n",
       "      <td>1.0</td>\n",
       "    </tr>\n",
       "    <tr>\n",
       "      <th>7</th>\n",
       "      <td>[Lumbar pain]</td>\n",
       "      <td>[Burning of urethra]</td>\n",
       "      <td>0.6</td>\n",
       "      <td>0.6</td>\n",
       "      <td>1.0</td>\n",
       "    </tr>\n",
       "    <tr>\n",
       "      <th>8</th>\n",
       "      <td>[]</td>\n",
       "      <td>[Burning of urethra, Urine pushing]</td>\n",
       "      <td>0.6</td>\n",
       "      <td>0.6</td>\n",
       "      <td>1.0</td>\n",
       "    </tr>\n",
       "  </tbody>\n",
       "</table>\n",
       "</div>"
      ],
      "text/plain": [
       "                     LHS                                  RHS  Support  \\\n",
       "1                     []                        [Lumbar pain]      1.0   \n",
       "4                     []                      [Urine pushing]      0.8   \n",
       "17                    []         [Lumbar pain, Urine pushing]      0.8   \n",
       "18         [Lumbar pain]                      [Urine pushing]      0.8   \n",
       "19       [Urine pushing]                        [Lumbar pain]      0.8   \n",
       "0                     []                 [Burning of urethra]      0.6   \n",
       "5                     []    [Burning of urethra, Lumbar pain]      0.6   \n",
       "6   [Burning of urethra]                        [Lumbar pain]      0.6   \n",
       "7          [Lumbar pain]                 [Burning of urethra]      0.6   \n",
       "8                     []  [Burning of urethra, Urine pushing]      0.6   \n",
       "\n",
       "    Confidence  Lift  \n",
       "1          1.0   1.0  \n",
       "4          0.8   1.0  \n",
       "17         0.8   1.0  \n",
       "18         0.8   1.0  \n",
       "19         1.0   1.0  \n",
       "0          0.6   1.0  \n",
       "5          0.6   1.0  \n",
       "6          1.0   1.0  \n",
       "7          0.6   1.0  \n",
       "8          0.6   1.0  "
      ]
     },
     "execution_count": 103,
     "metadata": {},
     "output_type": "execute_result"
    }
   ],
   "source": [
    "rules_df2.nlargest(10, 'Support')"
   ]
  },
  {
   "cell_type": "code",
   "execution_count": 102,
   "id": "025dbaa2",
   "metadata": {
    "scrolled": true
   },
   "outputs": [
    {
     "data": {
      "text/html": [
       "<div>\n",
       "<style scoped>\n",
       "    .dataframe tbody tr th:only-of-type {\n",
       "        vertical-align: middle;\n",
       "    }\n",
       "\n",
       "    .dataframe tbody tr th {\n",
       "        vertical-align: top;\n",
       "    }\n",
       "\n",
       "    .dataframe thead th {\n",
       "        text-align: right;\n",
       "    }\n",
       "</style>\n",
       "<table border=\"1\" class=\"dataframe\">\n",
       "  <thead>\n",
       "    <tr style=\"text-align: right;\">\n",
       "      <th></th>\n",
       "      <th>LHS</th>\n",
       "      <th>RHS</th>\n",
       "      <th>Support</th>\n",
       "      <th>Confidence</th>\n",
       "      <th>Lift</th>\n",
       "    </tr>\n",
       "  </thead>\n",
       "  <tbody>\n",
       "    <tr>\n",
       "      <th>1</th>\n",
       "      <td>[]</td>\n",
       "      <td>[Lumbar pain]</td>\n",
       "      <td>1.00</td>\n",
       "      <td>1.0</td>\n",
       "      <td>1.000000</td>\n",
       "    </tr>\n",
       "    <tr>\n",
       "      <th>6</th>\n",
       "      <td>[Burning of urethra]</td>\n",
       "      <td>[Lumbar pain]</td>\n",
       "      <td>0.60</td>\n",
       "      <td>1.0</td>\n",
       "      <td>1.000000</td>\n",
       "    </tr>\n",
       "    <tr>\n",
       "      <th>9</th>\n",
       "      <td>[Burning of urethra]</td>\n",
       "      <td>[Urine pushing]</td>\n",
       "      <td>0.60</td>\n",
       "      <td>1.0</td>\n",
       "      <td>1.250000</td>\n",
       "    </tr>\n",
       "    <tr>\n",
       "      <th>13</th>\n",
       "      <td>[Micturition pains]</td>\n",
       "      <td>[Lumbar pain]</td>\n",
       "      <td>0.58</td>\n",
       "      <td>1.0</td>\n",
       "      <td>1.000000</td>\n",
       "    </tr>\n",
       "    <tr>\n",
       "      <th>16</th>\n",
       "      <td>[Occurrence of nausea]</td>\n",
       "      <td>[Lumbar pain]</td>\n",
       "      <td>0.58</td>\n",
       "      <td>1.0</td>\n",
       "      <td>1.000000</td>\n",
       "    </tr>\n",
       "    <tr>\n",
       "      <th>19</th>\n",
       "      <td>[Urine pushing]</td>\n",
       "      <td>[Lumbar pain]</td>\n",
       "      <td>0.80</td>\n",
       "      <td>1.0</td>\n",
       "      <td>1.000000</td>\n",
       "    </tr>\n",
       "    <tr>\n",
       "      <th>21</th>\n",
       "      <td>[Micturition pains]</td>\n",
       "      <td>[Occurrence of nausea]</td>\n",
       "      <td>0.58</td>\n",
       "      <td>1.0</td>\n",
       "      <td>1.724138</td>\n",
       "    </tr>\n",
       "    <tr>\n",
       "      <th>22</th>\n",
       "      <td>[Occurrence of nausea]</td>\n",
       "      <td>[Micturition pains]</td>\n",
       "      <td>0.58</td>\n",
       "      <td>1.0</td>\n",
       "      <td>1.724138</td>\n",
       "    </tr>\n",
       "    <tr>\n",
       "      <th>26</th>\n",
       "      <td>[Burning of urethra]</td>\n",
       "      <td>[Lumbar pain, Urine pushing]</td>\n",
       "      <td>0.60</td>\n",
       "      <td>1.0</td>\n",
       "      <td>1.250000</td>\n",
       "    </tr>\n",
       "    <tr>\n",
       "      <th>29</th>\n",
       "      <td>[Burning of urethra, Lumbar pain]</td>\n",
       "      <td>[Urine pushing]</td>\n",
       "      <td>0.60</td>\n",
       "      <td>1.0</td>\n",
       "      <td>1.250000</td>\n",
       "    </tr>\n",
       "  </tbody>\n",
       "</table>\n",
       "</div>"
      ],
      "text/plain": [
       "                                  LHS                           RHS  Support  \\\n",
       "1                                  []                 [Lumbar pain]     1.00   \n",
       "6                [Burning of urethra]                 [Lumbar pain]     0.60   \n",
       "9                [Burning of urethra]               [Urine pushing]     0.60   \n",
       "13                [Micturition pains]                 [Lumbar pain]     0.58   \n",
       "16             [Occurrence of nausea]                 [Lumbar pain]     0.58   \n",
       "19                    [Urine pushing]                 [Lumbar pain]     0.80   \n",
       "21                [Micturition pains]        [Occurrence of nausea]     0.58   \n",
       "22             [Occurrence of nausea]           [Micturition pains]     0.58   \n",
       "26               [Burning of urethra]  [Lumbar pain, Urine pushing]     0.60   \n",
       "29  [Burning of urethra, Lumbar pain]               [Urine pushing]     0.60   \n",
       "\n",
       "    Confidence      Lift  \n",
       "1          1.0  1.000000  \n",
       "6          1.0  1.000000  \n",
       "9          1.0  1.250000  \n",
       "13         1.0  1.000000  \n",
       "16         1.0  1.000000  \n",
       "19         1.0  1.000000  \n",
       "21         1.0  1.724138  \n",
       "22         1.0  1.724138  \n",
       "26         1.0  1.250000  \n",
       "29         1.0  1.250000  "
      ]
     },
     "execution_count": 102,
     "metadata": {},
     "output_type": "execute_result"
    }
   ],
   "source": [
    "rules_df2.nlargest(10, 'Confidence')"
   ]
  },
  {
   "cell_type": "code",
   "execution_count": 104,
   "id": "fdc0af8f",
   "metadata": {
    "scrolled": true
   },
   "outputs": [
    {
     "data": {
      "text/html": [
       "<div>\n",
       "<style scoped>\n",
       "    .dataframe tbody tr th:only-of-type {\n",
       "        vertical-align: middle;\n",
       "    }\n",
       "\n",
       "    .dataframe tbody tr th {\n",
       "        vertical-align: top;\n",
       "    }\n",
       "\n",
       "    .dataframe thead th {\n",
       "        text-align: right;\n",
       "    }\n",
       "</style>\n",
       "<table border=\"1\" class=\"dataframe\">\n",
       "  <thead>\n",
       "    <tr style=\"text-align: right;\">\n",
       "      <th></th>\n",
       "      <th>LHS</th>\n",
       "      <th>RHS</th>\n",
       "      <th>Support</th>\n",
       "      <th>Confidence</th>\n",
       "      <th>Lift</th>\n",
       "    </tr>\n",
       "  </thead>\n",
       "  <tbody>\n",
       "    <tr>\n",
       "      <th>18</th>\n",
       "      <td>[Lumbar pain]</td>\n",
       "      <td>[Urine pushing]</td>\n",
       "      <td>0.8</td>\n",
       "      <td>0.80</td>\n",
       "      <td>1.00</td>\n",
       "    </tr>\n",
       "    <tr>\n",
       "      <th>19</th>\n",
       "      <td>[Urine pushing]</td>\n",
       "      <td>[Lumbar pain]</td>\n",
       "      <td>0.8</td>\n",
       "      <td>1.00</td>\n",
       "      <td>1.00</td>\n",
       "    </tr>\n",
       "    <tr>\n",
       "      <th>6</th>\n",
       "      <td>[Burning of urethra]</td>\n",
       "      <td>[Lumbar pain]</td>\n",
       "      <td>0.6</td>\n",
       "      <td>1.00</td>\n",
       "      <td>1.00</td>\n",
       "    </tr>\n",
       "    <tr>\n",
       "      <th>7</th>\n",
       "      <td>[Lumbar pain]</td>\n",
       "      <td>[Burning of urethra]</td>\n",
       "      <td>0.6</td>\n",
       "      <td>0.60</td>\n",
       "      <td>1.00</td>\n",
       "    </tr>\n",
       "    <tr>\n",
       "      <th>9</th>\n",
       "      <td>[Burning of urethra]</td>\n",
       "      <td>[Urine pushing]</td>\n",
       "      <td>0.6</td>\n",
       "      <td>1.00</td>\n",
       "      <td>1.25</td>\n",
       "    </tr>\n",
       "    <tr>\n",
       "      <th>10</th>\n",
       "      <td>[Urine pushing]</td>\n",
       "      <td>[Burning of urethra]</td>\n",
       "      <td>0.6</td>\n",
       "      <td>0.75</td>\n",
       "      <td>1.25</td>\n",
       "    </tr>\n",
       "    <tr>\n",
       "      <th>26</th>\n",
       "      <td>[Burning of urethra]</td>\n",
       "      <td>[Lumbar pain, Urine pushing]</td>\n",
       "      <td>0.6</td>\n",
       "      <td>1.00</td>\n",
       "      <td>1.25</td>\n",
       "    </tr>\n",
       "    <tr>\n",
       "      <th>27</th>\n",
       "      <td>[Lumbar pain]</td>\n",
       "      <td>[Burning of urethra, Urine pushing]</td>\n",
       "      <td>0.6</td>\n",
       "      <td>0.60</td>\n",
       "      <td>1.00</td>\n",
       "    </tr>\n",
       "    <tr>\n",
       "      <th>28</th>\n",
       "      <td>[Urine pushing]</td>\n",
       "      <td>[Burning of urethra, Lumbar pain]</td>\n",
       "      <td>0.6</td>\n",
       "      <td>0.75</td>\n",
       "      <td>1.25</td>\n",
       "    </tr>\n",
       "    <tr>\n",
       "      <th>29</th>\n",
       "      <td>[Burning of urethra, Lumbar pain]</td>\n",
       "      <td>[Urine pushing]</td>\n",
       "      <td>0.6</td>\n",
       "      <td>1.00</td>\n",
       "      <td>1.25</td>\n",
       "    </tr>\n",
       "  </tbody>\n",
       "</table>\n",
       "</div>"
      ],
      "text/plain": [
       "                                  LHS                                  RHS  \\\n",
       "18                      [Lumbar pain]                      [Urine pushing]   \n",
       "19                    [Urine pushing]                        [Lumbar pain]   \n",
       "6                [Burning of urethra]                        [Lumbar pain]   \n",
       "7                       [Lumbar pain]                 [Burning of urethra]   \n",
       "9                [Burning of urethra]                      [Urine pushing]   \n",
       "10                    [Urine pushing]                 [Burning of urethra]   \n",
       "26               [Burning of urethra]         [Lumbar pain, Urine pushing]   \n",
       "27                      [Lumbar pain]  [Burning of urethra, Urine pushing]   \n",
       "28                    [Urine pushing]    [Burning of urethra, Lumbar pain]   \n",
       "29  [Burning of urethra, Lumbar pain]                      [Urine pushing]   \n",
       "\n",
       "    Support  Confidence  Lift  \n",
       "18      0.8        0.80  1.00  \n",
       "19      0.8        1.00  1.00  \n",
       "6       0.6        1.00  1.00  \n",
       "7       0.6        0.60  1.00  \n",
       "9       0.6        1.00  1.25  \n",
       "10      0.6        0.75  1.25  \n",
       "26      0.6        1.00  1.25  \n",
       "27      0.6        0.60  1.00  \n",
       "28      0.6        0.75  1.25  \n",
       "29      0.6        1.00  1.25  "
      ]
     },
     "execution_count": 104,
     "metadata": {},
     "output_type": "execute_result"
    }
   ],
   "source": [
    "rules_df2[rules_df2['LHS'].apply(lambda x: len(x) > 0)].nlargest(10,'Support')"
   ]
  },
  {
   "cell_type": "code",
   "execution_count": 105,
   "id": "2447ee4c",
   "metadata": {},
   "outputs": [
    {
     "data": {
      "text/plain": [
       "50"
      ]
     },
     "execution_count": 105,
     "metadata": {},
     "output_type": "execute_result"
    }
   ],
   "source": [
    "Rules_B = list(apriori(Nephritis_of_renal_pelvis_origin, min_support=0.2, min_confidence=0.5, max_length=3))\n",
    "associationRules_B = utils.extract(Rules_B)\n",
    "rules_df2 = pd.DataFrame(associationRules_B, columns=['LHS', 'RHS', 'Support', 'Confidence', 'Lift'])\n",
    "len(rules_df2)"
   ]
  },
  {
   "cell_type": "code",
   "execution_count": 106,
   "id": "d096b43f",
   "metadata": {},
   "outputs": [
    {
     "data": {
      "text/html": [
       "<div>\n",
       "<style scoped>\n",
       "    .dataframe tbody tr th:only-of-type {\n",
       "        vertical-align: middle;\n",
       "    }\n",
       "\n",
       "    .dataframe tbody tr th {\n",
       "        vertical-align: top;\n",
       "    }\n",
       "\n",
       "    .dataframe thead th {\n",
       "        text-align: right;\n",
       "    }\n",
       "</style>\n",
       "<table border=\"1\" class=\"dataframe\">\n",
       "  <thead>\n",
       "    <tr style=\"text-align: right;\">\n",
       "      <th></th>\n",
       "      <th>LHS</th>\n",
       "      <th>RHS</th>\n",
       "      <th>Support</th>\n",
       "      <th>Confidence</th>\n",
       "      <th>Lift</th>\n",
       "    </tr>\n",
       "  </thead>\n",
       "  <tbody>\n",
       "    <tr>\n",
       "      <th>21</th>\n",
       "      <td>[Micturition pains]</td>\n",
       "      <td>[Occurrence of nausea]</td>\n",
       "      <td>0.58</td>\n",
       "      <td>1.000000</td>\n",
       "      <td>1.724138</td>\n",
       "    </tr>\n",
       "    <tr>\n",
       "      <th>22</th>\n",
       "      <td>[Occurrence of nausea]</td>\n",
       "      <td>[Micturition pains]</td>\n",
       "      <td>0.58</td>\n",
       "      <td>1.000000</td>\n",
       "      <td>1.724138</td>\n",
       "    </tr>\n",
       "    <tr>\n",
       "      <th>34</th>\n",
       "      <td>[Micturition pains]</td>\n",
       "      <td>[Lumbar pain, Occurrence of nausea]</td>\n",
       "      <td>0.58</td>\n",
       "      <td>1.000000</td>\n",
       "      <td>1.724138</td>\n",
       "    </tr>\n",
       "    <tr>\n",
       "      <th>35</th>\n",
       "      <td>[Occurrence of nausea]</td>\n",
       "      <td>[Micturition pains, Lumbar pain]</td>\n",
       "      <td>0.58</td>\n",
       "      <td>1.000000</td>\n",
       "      <td>1.724138</td>\n",
       "    </tr>\n",
       "    <tr>\n",
       "      <th>36</th>\n",
       "      <td>[Micturition pains, Lumbar pain]</td>\n",
       "      <td>[Occurrence of nausea]</td>\n",
       "      <td>0.58</td>\n",
       "      <td>1.000000</td>\n",
       "      <td>1.724138</td>\n",
       "    </tr>\n",
       "    <tr>\n",
       "      <th>37</th>\n",
       "      <td>[Lumbar pain, Occurrence of nausea]</td>\n",
       "      <td>[Micturition pains]</td>\n",
       "      <td>0.58</td>\n",
       "      <td>1.000000</td>\n",
       "      <td>1.724138</td>\n",
       "    </tr>\n",
       "    <tr>\n",
       "      <th>45</th>\n",
       "      <td>[Micturition pains]</td>\n",
       "      <td>[Occurrence of nausea, Urine pushing]</td>\n",
       "      <td>0.38</td>\n",
       "      <td>0.655172</td>\n",
       "      <td>1.724138</td>\n",
       "    </tr>\n",
       "    <tr>\n",
       "      <th>46</th>\n",
       "      <td>[Occurrence of nausea]</td>\n",
       "      <td>[Micturition pains, Urine pushing]</td>\n",
       "      <td>0.38</td>\n",
       "      <td>0.655172</td>\n",
       "      <td>1.724138</td>\n",
       "    </tr>\n",
       "    <tr>\n",
       "      <th>48</th>\n",
       "      <td>[Micturition pains, Urine pushing]</td>\n",
       "      <td>[Occurrence of nausea]</td>\n",
       "      <td>0.38</td>\n",
       "      <td>1.000000</td>\n",
       "      <td>1.724138</td>\n",
       "    </tr>\n",
       "    <tr>\n",
       "      <th>49</th>\n",
       "      <td>[Occurrence of nausea, Urine pushing]</td>\n",
       "      <td>[Micturition pains]</td>\n",
       "      <td>0.38</td>\n",
       "      <td>1.000000</td>\n",
       "      <td>1.724138</td>\n",
       "    </tr>\n",
       "  </tbody>\n",
       "</table>\n",
       "</div>"
      ],
      "text/plain": [
       "                                      LHS  \\\n",
       "21                    [Micturition pains]   \n",
       "22                 [Occurrence of nausea]   \n",
       "34                    [Micturition pains]   \n",
       "35                 [Occurrence of nausea]   \n",
       "36       [Micturition pains, Lumbar pain]   \n",
       "37    [Lumbar pain, Occurrence of nausea]   \n",
       "45                    [Micturition pains]   \n",
       "46                 [Occurrence of nausea]   \n",
       "48     [Micturition pains, Urine pushing]   \n",
       "49  [Occurrence of nausea, Urine pushing]   \n",
       "\n",
       "                                      RHS  Support  Confidence      Lift  \n",
       "21                 [Occurrence of nausea]     0.58    1.000000  1.724138  \n",
       "22                    [Micturition pains]     0.58    1.000000  1.724138  \n",
       "34    [Lumbar pain, Occurrence of nausea]     0.58    1.000000  1.724138  \n",
       "35       [Micturition pains, Lumbar pain]     0.58    1.000000  1.724138  \n",
       "36                 [Occurrence of nausea]     0.58    1.000000  1.724138  \n",
       "37                    [Micturition pains]     0.58    1.000000  1.724138  \n",
       "45  [Occurrence of nausea, Urine pushing]     0.38    0.655172  1.724138  \n",
       "46     [Micturition pains, Urine pushing]     0.38    0.655172  1.724138  \n",
       "48                 [Occurrence of nausea]     0.38    1.000000  1.724138  \n",
       "49                    [Micturition pains]     0.38    1.000000  1.724138  "
      ]
     },
     "execution_count": 106,
     "metadata": {},
     "output_type": "execute_result"
    }
   ],
   "source": [
    "rules_df2.nlargest(10, \"Lift\")"
   ]
  },
  {
   "cell_type": "code",
   "execution_count": 107,
   "id": "524e2f1c",
   "metadata": {},
   "outputs": [
    {
     "data": {
      "text/html": [
       "<div>\n",
       "<style scoped>\n",
       "    .dataframe tbody tr th:only-of-type {\n",
       "        vertical-align: middle;\n",
       "    }\n",
       "\n",
       "    .dataframe tbody tr th {\n",
       "        vertical-align: top;\n",
       "    }\n",
       "\n",
       "    .dataframe thead th {\n",
       "        text-align: right;\n",
       "    }\n",
       "</style>\n",
       "<table border=\"1\" class=\"dataframe\">\n",
       "  <thead>\n",
       "    <tr style=\"text-align: right;\">\n",
       "      <th></th>\n",
       "      <th>LHS</th>\n",
       "      <th>RHS</th>\n",
       "      <th>Support</th>\n",
       "      <th>Confidence</th>\n",
       "      <th>Lift</th>\n",
       "    </tr>\n",
       "  </thead>\n",
       "  <tbody>\n",
       "    <tr>\n",
       "      <th>1</th>\n",
       "      <td>[]</td>\n",
       "      <td>[Lumbar pain]</td>\n",
       "      <td>1.0</td>\n",
       "      <td>1.0</td>\n",
       "      <td>1.0</td>\n",
       "    </tr>\n",
       "    <tr>\n",
       "      <th>4</th>\n",
       "      <td>[]</td>\n",
       "      <td>[Urine pushing]</td>\n",
       "      <td>0.8</td>\n",
       "      <td>0.8</td>\n",
       "      <td>1.0</td>\n",
       "    </tr>\n",
       "    <tr>\n",
       "      <th>17</th>\n",
       "      <td>[]</td>\n",
       "      <td>[Lumbar pain, Urine pushing]</td>\n",
       "      <td>0.8</td>\n",
       "      <td>0.8</td>\n",
       "      <td>1.0</td>\n",
       "    </tr>\n",
       "    <tr>\n",
       "      <th>18</th>\n",
       "      <td>[Lumbar pain]</td>\n",
       "      <td>[Urine pushing]</td>\n",
       "      <td>0.8</td>\n",
       "      <td>0.8</td>\n",
       "      <td>1.0</td>\n",
       "    </tr>\n",
       "    <tr>\n",
       "      <th>19</th>\n",
       "      <td>[Urine pushing]</td>\n",
       "      <td>[Lumbar pain]</td>\n",
       "      <td>0.8</td>\n",
       "      <td>1.0</td>\n",
       "      <td>1.0</td>\n",
       "    </tr>\n",
       "    <tr>\n",
       "      <th>0</th>\n",
       "      <td>[]</td>\n",
       "      <td>[Burning of urethra]</td>\n",
       "      <td>0.6</td>\n",
       "      <td>0.6</td>\n",
       "      <td>1.0</td>\n",
       "    </tr>\n",
       "    <tr>\n",
       "      <th>5</th>\n",
       "      <td>[]</td>\n",
       "      <td>[Burning of urethra, Lumbar pain]</td>\n",
       "      <td>0.6</td>\n",
       "      <td>0.6</td>\n",
       "      <td>1.0</td>\n",
       "    </tr>\n",
       "    <tr>\n",
       "      <th>6</th>\n",
       "      <td>[Burning of urethra]</td>\n",
       "      <td>[Lumbar pain]</td>\n",
       "      <td>0.6</td>\n",
       "      <td>1.0</td>\n",
       "      <td>1.0</td>\n",
       "    </tr>\n",
       "    <tr>\n",
       "      <th>7</th>\n",
       "      <td>[Lumbar pain]</td>\n",
       "      <td>[Burning of urethra]</td>\n",
       "      <td>0.6</td>\n",
       "      <td>0.6</td>\n",
       "      <td>1.0</td>\n",
       "    </tr>\n",
       "    <tr>\n",
       "      <th>8</th>\n",
       "      <td>[]</td>\n",
       "      <td>[Burning of urethra, Urine pushing]</td>\n",
       "      <td>0.6</td>\n",
       "      <td>0.6</td>\n",
       "      <td>1.0</td>\n",
       "    </tr>\n",
       "  </tbody>\n",
       "</table>\n",
       "</div>"
      ],
      "text/plain": [
       "                     LHS                                  RHS  Support  \\\n",
       "1                     []                        [Lumbar pain]      1.0   \n",
       "4                     []                      [Urine pushing]      0.8   \n",
       "17                    []         [Lumbar pain, Urine pushing]      0.8   \n",
       "18         [Lumbar pain]                      [Urine pushing]      0.8   \n",
       "19       [Urine pushing]                        [Lumbar pain]      0.8   \n",
       "0                     []                 [Burning of urethra]      0.6   \n",
       "5                     []    [Burning of urethra, Lumbar pain]      0.6   \n",
       "6   [Burning of urethra]                        [Lumbar pain]      0.6   \n",
       "7          [Lumbar pain]                 [Burning of urethra]      0.6   \n",
       "8                     []  [Burning of urethra, Urine pushing]      0.6   \n",
       "\n",
       "    Confidence  Lift  \n",
       "1          1.0   1.0  \n",
       "4          0.8   1.0  \n",
       "17         0.8   1.0  \n",
       "18         0.8   1.0  \n",
       "19         1.0   1.0  \n",
       "0          0.6   1.0  \n",
       "5          0.6   1.0  \n",
       "6          1.0   1.0  \n",
       "7          0.6   1.0  \n",
       "8          0.6   1.0  "
      ]
     },
     "execution_count": 107,
     "metadata": {},
     "output_type": "execute_result"
    }
   ],
   "source": [
    "rules_df2.nlargest(10, \"Support\")"
   ]
  },
  {
   "cell_type": "code",
   "execution_count": 108,
   "id": "954c6fba",
   "metadata": {
    "scrolled": true
   },
   "outputs": [
    {
     "data": {
      "text/html": [
       "<div>\n",
       "<style scoped>\n",
       "    .dataframe tbody tr th:only-of-type {\n",
       "        vertical-align: middle;\n",
       "    }\n",
       "\n",
       "    .dataframe tbody tr th {\n",
       "        vertical-align: top;\n",
       "    }\n",
       "\n",
       "    .dataframe thead th {\n",
       "        text-align: right;\n",
       "    }\n",
       "</style>\n",
       "<table border=\"1\" class=\"dataframe\">\n",
       "  <thead>\n",
       "    <tr style=\"text-align: right;\">\n",
       "      <th></th>\n",
       "      <th>LHS</th>\n",
       "      <th>RHS</th>\n",
       "      <th>Support</th>\n",
       "      <th>Confidence</th>\n",
       "      <th>Lift</th>\n",
       "    </tr>\n",
       "  </thead>\n",
       "  <tbody>\n",
       "    <tr>\n",
       "      <th>1</th>\n",
       "      <td>[]</td>\n",
       "      <td>[Lumbar pain]</td>\n",
       "      <td>1.00</td>\n",
       "      <td>1.0</td>\n",
       "      <td>1.000000</td>\n",
       "    </tr>\n",
       "    <tr>\n",
       "      <th>6</th>\n",
       "      <td>[Burning of urethra]</td>\n",
       "      <td>[Lumbar pain]</td>\n",
       "      <td>0.60</td>\n",
       "      <td>1.0</td>\n",
       "      <td>1.000000</td>\n",
       "    </tr>\n",
       "    <tr>\n",
       "      <th>9</th>\n",
       "      <td>[Burning of urethra]</td>\n",
       "      <td>[Urine pushing]</td>\n",
       "      <td>0.60</td>\n",
       "      <td>1.0</td>\n",
       "      <td>1.250000</td>\n",
       "    </tr>\n",
       "    <tr>\n",
       "      <th>13</th>\n",
       "      <td>[Micturition pains]</td>\n",
       "      <td>[Lumbar pain]</td>\n",
       "      <td>0.58</td>\n",
       "      <td>1.0</td>\n",
       "      <td>1.000000</td>\n",
       "    </tr>\n",
       "    <tr>\n",
       "      <th>16</th>\n",
       "      <td>[Occurrence of nausea]</td>\n",
       "      <td>[Lumbar pain]</td>\n",
       "      <td>0.58</td>\n",
       "      <td>1.0</td>\n",
       "      <td>1.000000</td>\n",
       "    </tr>\n",
       "    <tr>\n",
       "      <th>19</th>\n",
       "      <td>[Urine pushing]</td>\n",
       "      <td>[Lumbar pain]</td>\n",
       "      <td>0.80</td>\n",
       "      <td>1.0</td>\n",
       "      <td>1.000000</td>\n",
       "    </tr>\n",
       "    <tr>\n",
       "      <th>21</th>\n",
       "      <td>[Micturition pains]</td>\n",
       "      <td>[Occurrence of nausea]</td>\n",
       "      <td>0.58</td>\n",
       "      <td>1.0</td>\n",
       "      <td>1.724138</td>\n",
       "    </tr>\n",
       "    <tr>\n",
       "      <th>22</th>\n",
       "      <td>[Occurrence of nausea]</td>\n",
       "      <td>[Micturition pains]</td>\n",
       "      <td>0.58</td>\n",
       "      <td>1.0</td>\n",
       "      <td>1.724138</td>\n",
       "    </tr>\n",
       "    <tr>\n",
       "      <th>26</th>\n",
       "      <td>[Burning of urethra]</td>\n",
       "      <td>[Lumbar pain, Urine pushing]</td>\n",
       "      <td>0.60</td>\n",
       "      <td>1.0</td>\n",
       "      <td>1.250000</td>\n",
       "    </tr>\n",
       "    <tr>\n",
       "      <th>29</th>\n",
       "      <td>[Burning of urethra, Lumbar pain]</td>\n",
       "      <td>[Urine pushing]</td>\n",
       "      <td>0.60</td>\n",
       "      <td>1.0</td>\n",
       "      <td>1.250000</td>\n",
       "    </tr>\n",
       "  </tbody>\n",
       "</table>\n",
       "</div>"
      ],
      "text/plain": [
       "                                  LHS                           RHS  Support  \\\n",
       "1                                  []                 [Lumbar pain]     1.00   \n",
       "6                [Burning of urethra]                 [Lumbar pain]     0.60   \n",
       "9                [Burning of urethra]               [Urine pushing]     0.60   \n",
       "13                [Micturition pains]                 [Lumbar pain]     0.58   \n",
       "16             [Occurrence of nausea]                 [Lumbar pain]     0.58   \n",
       "19                    [Urine pushing]                 [Lumbar pain]     0.80   \n",
       "21                [Micturition pains]        [Occurrence of nausea]     0.58   \n",
       "22             [Occurrence of nausea]           [Micturition pains]     0.58   \n",
       "26               [Burning of urethra]  [Lumbar pain, Urine pushing]     0.60   \n",
       "29  [Burning of urethra, Lumbar pain]               [Urine pushing]     0.60   \n",
       "\n",
       "    Confidence      Lift  \n",
       "1          1.0  1.000000  \n",
       "6          1.0  1.000000  \n",
       "9          1.0  1.250000  \n",
       "13         1.0  1.000000  \n",
       "16         1.0  1.000000  \n",
       "19         1.0  1.000000  \n",
       "21         1.0  1.724138  \n",
       "22         1.0  1.724138  \n",
       "26         1.0  1.250000  \n",
       "29         1.0  1.250000  "
      ]
     },
     "execution_count": 108,
     "metadata": {},
     "output_type": "execute_result"
    }
   ],
   "source": [
    "rules_df2.nlargest(10, \"Confidence\")"
   ]
  },
  {
   "cell_type": "code",
   "execution_count": 109,
   "id": "4eca13a2",
   "metadata": {
    "scrolled": true
   },
   "outputs": [
    {
     "data": {
      "image/png": "[encoded data removed]",
      "text/plain": [
       "<Figure size 640x480 with 1 Axes>"
      ]
     },
     "metadata": {},
     "output_type": "display_data"
    }
   ],
   "source": [
    "ax = myplot2.plot.bar()\n",
    "plt.show()"
   ]
  },
  {
   "cell_type": "code",
   "execution_count": 110,
   "id": "f4fcb9f6",
   "metadata": {
    "scrolled": true
   },
   "outputs": [
    {
     "name": "stdout",
     "output_type": "stream",
     "text": [
      "The number of associated rules: 9\n",
      "LHS: ['Burning of urethra'] --> RHS:['Lumbar pain'], support: 0.60, confidence: 1.00, lift: 1.00\n",
      "--------------------------------------------------------------------------------\n",
      "LHS: ['Micturition pains'] --> RHS:['Lumbar pain'], support: 0.58, confidence: 1.00, lift: 1.00\n",
      "--------------------------------------------------------------------------------\n",
      "LHS: ['Occurrence of nausea'] --> RHS:['Lumbar pain'], support: 0.58, confidence: 1.00, lift: 1.00\n",
      "--------------------------------------------------------------------------------\n",
      "LHS: ['Urine pushing'] --> RHS:['Lumbar pain'], support: 0.80, confidence: 1.00, lift: 1.00\n",
      "--------------------------------------------------------------------------------\n",
      "LHS: ['Burning of urethra'] --> RHS:['Lumbar pain', 'Urine pushing'], support: 0.60, confidence: 1.00, lift: 1.25\n",
      "--------------------------------------------------------------------------------\n",
      "LHS: ['Burning of urethra', 'Urine pushing'] --> RHS:['Lumbar pain'], support: 0.60, confidence: 1.00, lift: 1.00\n",
      "--------------------------------------------------------------------------------\n",
      "LHS: ['Micturition pains'] --> RHS:['Lumbar pain', 'Occurrence of nausea'], support: 0.58, confidence: 1.00, lift: 1.72\n",
      "--------------------------------------------------------------------------------\n",
      "LHS: ['Occurrence of nausea'] --> RHS:['Micturition pains', 'Lumbar pain'], support: 0.58, confidence: 1.00, lift: 1.72\n",
      "--------------------------------------------------------------------------------\n",
      "LHS: ['Micturition pains', 'Occurrence of nausea'] --> RHS:['Lumbar pain'], support: 0.58, confidence: 1.00, lift: 1.00\n",
      "--------------------------------------------------------------------------------\n"
     ]
    }
   ],
   "source": [
    "Rules_B = list(apriori(Nephritis_of_renal_pelvis_origin, min_support=0.4, min_confidence=0.95))\n",
    "associationRules_B = utils.extract(Rules_B,'Lumbar pain',2)\n",
    "rules_df2 = pd.DataFrame(associationRules_B)\n",
    "utils.inspect(associationRules_B)"
   ]
  },
  {
   "cell_type": "code",
   "execution_count": 111,
   "id": "ea27dd84",
   "metadata": {
    "scrolled": true
   },
   "outputs": [
    {
     "data": {
      "application/vnd.plotly.v1+json": {
       "config": {
        "plotlyServerURL": "https://plot.ly"
       },
       "data": [
        {
         "customdata": [
          [
           [],
           [
            "Burning of urethra"
           ]
          ],
          [
           [],
           [
            "Lumbar pain"
           ]
          ],
          [
           [],
           [
            "Micturition pains"
           ]
          ],
          [
           [],
           [
            "Occurrence of nausea"
           ]
          ],
          [
           [],
           [
            "Urine pushing"
           ]
          ],
          [
           [],
           [
            "Burning of urethra",
            "Lumbar pain"
           ]
          ],
          [
           [
            "Burning of urethra"
           ],
           [
            "Lumbar pain"
           ]
          ],
          [
           [
            "Lumbar pain"
           ],
           [
            "Burning of urethra"
           ]
          ],
          [
           [],
           [
            "Burning of urethra",
            "Urine pushing"
           ]
          ],
          [
           [
            "Burning of urethra"
           ],
           [
            "Urine pushing"
           ]
          ],
          [
           [
            "Urine pushing"
           ],
           [
            "Burning of urethra"
           ]
          ],
          [
           [],
           [
            "Micturition pains",
            "Lumbar pain"
           ]
          ],
          [
           [
            "Lumbar pain"
           ],
           [
            "Micturition pains"
           ]
          ],
          [
           [
            "Micturition pains"
           ],
           [
            "Lumbar pain"
           ]
          ],
          [
           [],
           [
            "Lumbar pain",
            "Occurrence of nausea"
           ]
          ],
          [
           [
            "Lumbar pain"
           ],
           [
            "Occurrence of nausea"
           ]
          ],
          [
           [
            "Occurrence of nausea"
           ],
           [
            "Lumbar pain"
           ]
          ],
          [
           [],
           [
            "Lumbar pain",
            "Urine pushing"
           ]
          ],
          [
           [
            "Lumbar pain"
           ],
           [
            "Urine pushing"
           ]
          ],
          [
           [
            "Urine pushing"
           ],
           [
            "Lumbar pain"
           ]
          ],
          [
           [],
           [
            "Micturition pains",
            "Occurrence of nausea"
           ]
          ],
          [
           [
            "Micturition pains"
           ],
           [
            "Occurrence of nausea"
           ]
          ],
          [
           [
            "Occurrence of nausea"
           ],
           [
            "Micturition pains"
           ]
          ],
          [
           [
            "Micturition pains"
           ],
           [
            "Urine pushing"
           ]
          ],
          [
           [
            "Occurrence of nausea"
           ],
           [
            "Urine pushing"
           ]
          ],
          [
           [],
           [
            "Burning of urethra",
            "Lumbar pain",
            "Urine pushing"
           ]
          ],
          [
           [
            "Burning of urethra"
           ],
           [
            "Lumbar pain",
            "Urine pushing"
           ]
          ],
          [
           [
            "Lumbar pain"
           ],
           [
            "Burning of urethra",
            "Urine pushing"
           ]
          ],
          [
           [
            "Urine pushing"
           ],
           [
            "Burning of urethra",
            "Lumbar pain"
           ]
          ],
          [
           [
            "Burning of urethra",
            "Lumbar pain"
           ],
           [
            "Urine pushing"
           ]
          ],
          [
           [
            "Burning of urethra",
            "Urine pushing"
           ],
           [
            "Lumbar pain"
           ]
          ],
          [
           [
            "Lumbar pain",
            "Urine pushing"
           ],
           [
            "Burning of urethra"
           ]
          ],
          [
           [],
           [
            "Micturition pains",
            "Lumbar pain",
            "Occurrence of nausea"
           ]
          ],
          [
           [
            "Lumbar pain"
           ],
           [
            "Micturition pains",
            "Occurrence of nausea"
           ]
          ],
          [
           [
            "Micturition pains"
           ],
           [
            "Lumbar pain",
            "Occurrence of nausea"
           ]
          ],
          [
           [
            "Occurrence of nausea"
           ],
           [
            "Micturition pains",
            "Lumbar pain"
           ]
          ],
          [
           [
            "Micturition pains",
            "Lumbar pain"
           ],
           [
            "Occurrence of nausea"
           ]
          ],
          [
           [
            "Lumbar pain",
            "Occurrence of nausea"
           ],
           [
            "Micturition pains"
           ]
          ],
          [
           [
            "Micturition pains",
            "Occurrence of nausea"
           ],
           [
            "Lumbar pain"
           ]
          ],
          [
           [
            "Micturition pains"
           ],
           [
            "Lumbar pain",
            "Urine pushing"
           ]
          ],
          [
           [
            "Micturition pains",
            "Lumbar pain"
           ],
           [
            "Urine pushing"
           ]
          ],
          [
           [
            "Micturition pains",
            "Urine pushing"
           ],
           [
            "Lumbar pain"
           ]
          ],
          [
           [
            "Occurrence of nausea"
           ],
           [
            "Lumbar pain",
            "Urine pushing"
           ]
          ],
          [
           [
            "Lumbar pain",
            "Occurrence of nausea"
           ],
           [
            "Urine pushing"
           ]
          ],
          [
           [
            "Occurrence of nausea",
            "Urine pushing"
           ],
           [
            "Lumbar pain"
           ]
          ],
          [
           [
            "Micturition pains"
           ],
           [
            "Occurrence of nausea",
            "Urine pushing"
           ]
          ],
          [
           [
            "Occurrence of nausea"
           ],
           [
            "Micturition pains",
            "Urine pushing"
           ]
          ],
          [
           [
            "Micturition pains",
            "Occurrence of nausea"
           ],
           [
            "Urine pushing"
           ]
          ],
          [
           [
            "Micturition pains",
            "Urine pushing"
           ],
           [
            "Occurrence of nausea"
           ]
          ],
          [
           [
            "Occurrence of nausea",
            "Urine pushing"
           ],
           [
            "Micturition pains"
           ]
          ],
          [
           [
            "Micturition pains"
           ],
           [
            "Lumbar pain",
            "Urine pushing",
            "Occurrence of nausea"
           ]
          ],
          [
           [
            "Occurrence of nausea"
           ],
           [
            "Micturition pains",
            "Lumbar pain",
            "Urine pushing"
           ]
          ],
          [
           [
            "Micturition pains",
            "Lumbar pain"
           ],
           [
            "Occurrence of nausea",
            "Urine pushing"
           ]
          ],
          [
           [
            "Lumbar pain",
            "Occurrence of nausea"
           ],
           [
            "Micturition pains",
            "Urine pushing"
           ]
          ],
          [
           [
            "Micturition pains",
            "Occurrence of nausea"
           ],
           [
            "Lumbar pain",
            "Urine pushing"
           ]
          ],
          [
           [
            "Micturition pains",
            "Urine pushing"
           ],
           [
            "Lumbar pain",
            "Occurrence of nausea"
           ]
          ],
          [
           [
            "Occurrence of nausea",
            "Urine pushing"
           ],
           [
            "Micturition pains",
            "Lumbar pain"
           ]
          ],
          [
           [
            "Micturition pains",
            "Lumbar pain",
            "Occurrence of nausea"
           ],
           [
            "Urine pushing"
           ]
          ],
          [
           [
            "Micturition pains",
            "Lumbar pain",
            "Urine pushing"
           ],
           [
            "Occurrence of nausea"
           ]
          ],
          [
           [
            "Lumbar pain",
            "Urine pushing",
            "Occurrence of nausea"
           ],
           [
            "Micturition pains"
           ]
          ],
          [
           [
            "Micturition pains",
            "Occurrence of nausea",
            "Urine pushing"
           ],
           [
            "Lumbar pain"
           ]
          ]
         ],
         "hovertemplate": "Support=%{x}<br>Confidence=%{y}<br>LHS=%{customdata[0]}<br>RHS=%{customdata[1]}<br>Lift=%{marker.color}<extra></extra>",
         "legendgroup": "",
         "marker": {
          "color": [
           1,
           1,
           1,
           1,
           1,
           1,
           1,
           1,
           1,
           1.25,
           1.2499999999999998,
           1,
           1,
           1,
           1,
           1,
           1,
           1,
           1,
           1,
           1,
           1.7241379310344829,
           1.7241379310344829,
           0.8189655172413793,
           0.8189655172413793,
           1,
           1.25,
           1,
           1.2499999999999998,
           1.25,
           1,
           1.2499999999999998,
           1,
           1,
           1.7241379310344829,
           1.7241379310344829,
           1.7241379310344829,
           1.7241379310344829,
           1,
           0.8189655172413793,
           0.8189655172413793,
           1,
           0.8189655172413793,
           0.8189655172413793,
           1,
           1.7241379310344829,
           1.7241379310344829,
           0.8189655172413793,
           1.7241379310344829,
           1.7241379310344829,
           1.7241379310344829,
           1.7241379310344829,
           1.7241379310344829,
           1.7241379310344829,
           0.8189655172413793,
           1.7241379310344829,
           1.7241379310344829,
           0.8189655172413793,
           1.7241379310344829,
           1.7241379310344829,
           1
          ],
          "coloraxis": "coloraxis",
          "symbol": "circle"
         },
         "mode": "markers",
         "name": "",
         "orientation": "v",
         "showlegend": false,
         "type": "scatter",
         "x": [
          0.6,
          1,
          0.58,
          0.58,
          0.8,
          0.6,
          0.6,
          0.6,
          0.6,
          0.6,
          0.6,
          0.58,
          0.58,
          0.58,
          0.58,
          0.58,
          0.58,
          0.8,
          0.8,
          0.8,
          0.58,
          0.58,
          0.58,
          0.38,
          0.38,
          0.6,
          0.6,
          0.6,
          0.6,
          0.6,
          0.6,
          0.6,
          0.58,
          0.58,
          0.58,
          0.58,
          0.58,
          0.58,
          0.58,
          0.38,
          0.38,
          0.38,
          0.38,
          0.38,
          0.38,
          0.38,
          0.38,
          0.38,
          0.38,
          0.38,
          0.38,
          0.38,
          0.38,
          0.38,
          0.38,
          0.38,
          0.38,
          0.38,
          0.38,
          0.38,
          0.38
         ],
         "xaxis": "x",
         "y": [
          0.6,
          1,
          0.58,
          0.58,
          0.8,
          0.6,
          1,
          0.6,
          0.6,
          1,
          0.7499999999999999,
          0.58,
          0.58,
          1,
          0.58,
          0.58,
          1,
          0.8,
          0.8,
          1,
          0.58,
          1,
          1,
          0.6551724137931035,
          0.6551724137931035,
          0.6,
          1,
          0.6,
          0.7499999999999999,
          1,
          1,
          0.7499999999999999,
          0.58,
          0.58,
          1,
          1,
          1,
          1,
          1,
          0.6551724137931035,
          0.6551724137931035,
          1,
          0.6551724137931035,
          0.6551724137931035,
          1,
          0.6551724137931035,
          0.6551724137931035,
          0.6551724137931035,
          1,
          1,
          0.6551724137931035,
          0.6551724137931035,
          0.6551724137931035,
          0.6551724137931035,
          0.6551724137931035,
          1,
          1,
          0.6551724137931035,
          1,
          1,
          1
         ],
         "yaxis": "y"
        }
       ],
       "layout": {
        "coloraxis": {
         "colorbar": {
          "title": {
           "text": "Lift"
          }
         },
         "colorscale": [
          [
           0,
           "rgb(75, 41, 145)"
          ],
          [
           0.16666666666666666,
           "rgb(135, 44, 162)"
          ],
          [
           0.3333333333333333,
           "rgb(192, 54, 157)"
          ],
          [
           0.5,
           "rgb(234, 79, 136)"
          ],
          [
           0.6666666666666666,
           "rgb(250, 120, 118)"
          ],
          [
           0.8333333333333334,
           "rgb(246, 169, 122)"
          ],
          [
           1,
           "rgb(237, 217, 163)"
          ]
         ]
        },
        "legend": {
         "tracegroupgap": 0
        },
        "margin": {
         "t": 60
        },
        "template": {
         "data": {
          "bar": [
           {
            "error_x": {
             "color": "#2a3f5f"
            },
            "error_y": {
             "color": "#2a3f5f"
            },
            "marker": {
             "line": {
              "color": "#E5ECF6",
              "width": 0.5
             },
             "pattern": {
              "fillmode": "overlay",
              "size": 10,
              "solidity": 0.2
             }
            },
            "type": "bar"
           }
          ],
          "barpolar": [
           {
            "marker": {
             "line": {
              "color": "#E5ECF6",
              "width": 0.5
             },
             "pattern": {
              "fillmode": "overlay",
              "size": 10,
              "solidity": 0.2
             }
            },
            "type": "barpolar"
           }
          ],
          "carpet": [
           {
            "aaxis": {
             "endlinecolor": "#2a3f5f",
             "gridcolor": "white",
             "linecolor": "white",
             "minorgridcolor": "white",
             "startlinecolor": "#2a3f5f"
            },
            "baxis": {
             "endlinecolor": "#2a3f5f",
             "gridcolor": "white",
             "linecolor": "white",
             "minorgridcolor": "white",
             "startlinecolor": "#2a3f5f"
            },
            "type": "carpet"
           }
          ],
          "choropleth": [
           {
            "colorbar": {
             "outlinewidth": 0,
             "ticks": ""
            },
            "type": "choropleth"
           }
          ],
          "contour": [
           {
            "colorbar": {
             "outlinewidth": 0,
             "ticks": ""
            },
            "colorscale": [
             [
              0,
              "#0d0887"
             ],
             [
              0.1111111111111111,
              "#46039f"
             ],
             [
              0.2222222222222222,
              "#7201a8"
             ],
             [
              0.3333333333333333,
              "#9c179e"
             ],
             [
              0.4444444444444444,
              "#bd3786"
             ],
             [
              0.5555555555555556,
              "#d8576b"
             ],
             [
              0.6666666666666666,
              "#ed7953"
             ],
             [
              0.7777777777777778,
              "#fb9f3a"
             ],
             [
              0.8888888888888888,
              "#fdca26"
             ],
             [
              1,
              "#f0f921"
             ]
            ],
            "type": "contour"
           }
          ],
          "contourcarpet": [
           {
            "colorbar": {
             "outlinewidth": 0,
             "ticks": ""
            },
            "type": "contourcarpet"
           }
          ],
          "heatmap": [
           {
            "colorbar": {
             "outlinewidth": 0,
             "ticks": ""
            },
            "colorscale": [
             [
              0,
              "#0d0887"
             ],
             [
              0.1111111111111111,
              "#46039f"
             ],
             [
              0.2222222222222222,
              "#7201a8"
             ],
             [
              0.3333333333333333,
              "#9c179e"
             ],
             [
              0.4444444444444444,
              "#bd3786"
             ],
             [
              0.5555555555555556,
              "#d8576b"
             ],
             [
              0.6666666666666666,
              "#ed7953"
             ],
             [
              0.7777777777777778,
              "#fb9f3a"
             ],
             [
              0.8888888888888888,
              "#fdca26"
             ],
             [
              1,
              "#f0f921"
             ]
            ],
            "type": "heatmap"
           }
          ],
          "heatmapgl": [
           {
            "colorbar": {
             "outlinewidth": 0,
             "ticks": ""
            },
            "colorscale": [
             [
              0,
              "#0d0887"
             ],
             [
              0.1111111111111111,
              "#46039f"
             ],
             [
              0.2222222222222222,
              "#7201a8"
             ],
             [
              0.3333333333333333,
              "#9c179e"
             ],
             [
              0.4444444444444444,
              "#bd3786"
             ],
             [
              0.5555555555555556,
              "#d8576b"
             ],
             [
              0.6666666666666666,
              "#ed7953"
             ],
             [
              0.7777777777777778,
              "#fb9f3a"
             ],
             [
              0.8888888888888888,
              "#fdca26"
             ],
             [
              1,
              "#f0f921"
             ]
            ],
            "type": "heatmapgl"
           }
          ],
          "histogram": [
           {
            "marker": {
             "pattern": {
              "fillmode": "overlay",
              "size": 10,
              "solidity": 0.2
             }
            },
            "type": "histogram"
           }
          ],
          "histogram2d": [
           {
            "colorbar": {
             "outlinewidth": 0,
             "ticks": ""
            },
            "colorscale": [
             [
              0,
              "#0d0887"
             ],
             [
              0.1111111111111111,
              "#46039f"
             ],
             [
              0.2222222222222222,
              "#7201a8"
             ],
             [
              0.3333333333333333,
              "#9c179e"
             ],
             [
              0.4444444444444444,
              "#bd3786"
             ],
             [
              0.5555555555555556,
              "#d8576b"
             ],
             [
              0.6666666666666666,
              "#ed7953"
             ],
             [
              0.7777777777777778,
              "#fb9f3a"
             ],
             [
              0.8888888888888888,
              "#fdca26"
             ],
             [
              1,
              "#f0f921"
             ]
            ],
            "type": "histogram2d"
           }
          ],
          "histogram2dcontour": [
           {
            "colorbar": {
             "outlinewidth": 0,
             "ticks": ""
            },
            "colorscale": [
             [
              0,
              "#0d0887"
             ],
             [
              0.1111111111111111,
              "#46039f"
             ],
             [
              0.2222222222222222,
              "#7201a8"
             ],
             [
              0.3333333333333333,
              "#9c179e"
             ],
             [
              0.4444444444444444,
              "#bd3786"
             ],
             [
              0.5555555555555556,
              "#d8576b"
             ],
             [
              0.6666666666666666,
              "#ed7953"
             ],
             [
              0.7777777777777778,
              "#fb9f3a"
             ],
             [
              0.8888888888888888,
              "#fdca26"
             ],
             [
              1,
              "#f0f921"
             ]
            ],
            "type": "histogram2dcontour"
           }
          ],
          "mesh3d": [
           {
            "colorbar": {
             "outlinewidth": 0,
             "ticks": ""
            },
            "type": "mesh3d"
           }
          ],
          "parcoords": [
           {
            "line": {
             "colorbar": {
              "outlinewidth": 0,
              "ticks": ""
             }
            },
            "type": "parcoords"
           }
          ],
          "pie": [
           {
            "automargin": true,
            "type": "pie"
           }
          ],
          "scatter": [
           {
            "fillpattern": {
             "fillmode": "overlay",
             "size": 10,
             "solidity": 0.2
            },
            "type": "scatter"
           }
          ],
          "scatter3d": [
           {
            "line": {
             "colorbar": {
              "outlinewidth": 0,
              "ticks": ""
             }
            },
            "marker": {
             "colorbar": {
              "outlinewidth": 0,
              "ticks": ""
             }
            },
            "type": "scatter3d"
           }
          ],
          "scattercarpet": [
           {
            "marker": {
             "colorbar": {
              "outlinewidth": 0,
              "ticks": ""
             }
            },
            "type": "scattercarpet"
           }
          ],
          "scattergeo": [
           {
            "marker": {
             "colorbar": {
              "outlinewidth": 0,
              "ticks": ""
             }
            },
            "type": "scattergeo"
           }
          ],
          "scattergl": [
           {
            "marker": {
             "colorbar": {
              "outlinewidth": 0,
              "ticks": ""
             }
            },
            "type": "scattergl"
           }
          ],
          "scattermapbox": [
           {
            "marker": {
             "colorbar": {
              "outlinewidth": 0,
              "ticks": ""
             }
            },
            "type": "scattermapbox"
           }
          ],
          "scatterpolar": [
           {
            "marker": {
             "colorbar": {
              "outlinewidth": 0,
              "ticks": ""
             }
            },
            "type": "scatterpolar"
           }
          ],
          "scatterpolargl": [
           {
            "marker": {
             "colorbar": {
              "outlinewidth": 0,
              "ticks": ""
             }
            },
            "type": "scatterpolargl"
           }
          ],
          "scatterternary": [
           {
            "marker": {
             "colorbar": {
              "outlinewidth": 0,
              "ticks": ""
             }
            },
            "type": "scatterternary"
           }
          ],
          "surface": [
           {
            "colorbar": {
             "outlinewidth": 0,
             "ticks": ""
            },
            "colorscale": [
             [
              0,
              "#0d0887"
             ],
             [
              0.1111111111111111,
              "#46039f"
             ],
             [
              0.2222222222222222,
              "#7201a8"
             ],
             [
              0.3333333333333333,
              "#9c179e"
             ],
             [
              0.4444444444444444,
              "#bd3786"
             ],
             [
              0.5555555555555556,
              "#d8576b"
             ],
             [
              0.6666666666666666,
              "#ed7953"
             ],
             [
              0.7777777777777778,
              "#fb9f3a"
             ],
             [
              0.8888888888888888,
              "#fdca26"
             ],
             [
              1,
              "#f0f921"
             ]
            ],
            "type": "surface"
           }
          ],
          "table": [
           {
            "cells": {
             "fill": {
              "color": "#EBF0F8"
             },
             "line": {
              "color": "white"
             }
            },
            "header": {
             "fill": {
              "color": "#C8D4E3"
             },
             "line": {
              "color": "white"
             }
            },
            "type": "table"
           }
          ]
         },
         "layout": {
          "annotationdefaults": {
           "arrowcolor": "#2a3f5f",
           "arrowhead": 0,
           "arrowwidth": 1
          },
          "autotypenumbers": "strict",
          "coloraxis": {
           "colorbar": {
            "outlinewidth": 0,
            "ticks": ""
           }
          },
          "colorscale": {
           "diverging": [
            [
             0,
             "#8e0152"
            ],
            [
             0.1,
             "#c51b7d"
            ],
            [
             0.2,
             "#de77ae"
            ],
            [
             0.3,
             "#f1b6da"
            ],
            [
             0.4,
             "#fde0ef"
            ],
            [
             0.5,
             "#f7f7f7"
            ],
            [
             0.6,
             "#e6f5d0"
            ],
            [
             0.7,
             "#b8e186"
            ],
            [
             0.8,
             "#7fbc41"
            ],
            [
             0.9,
             "#4d9221"
            ],
            [
             1,
             "#276419"
            ]
           ],
           "sequential": [
            [
             0,
             "#0d0887"
            ],
            [
             0.1111111111111111,
             "#46039f"
            ],
            [
             0.2222222222222222,
             "#7201a8"
            ],
            [
             0.3333333333333333,
             "#9c179e"
            ],
            [
             0.4444444444444444,
             "#bd3786"
            ],
            [
             0.5555555555555556,
             "#d8576b"
            ],
            [
             0.6666666666666666,
             "#ed7953"
            ],
            [
             0.7777777777777778,
             "#fb9f3a"
            ],
            [
             0.8888888888888888,
             "#fdca26"
            ],
            [
             1,
             "#f0f921"
            ]
           ],
           "sequentialminus": [
            [
             0,
             "#0d0887"
            ],
            [
             0.1111111111111111,
             "#46039f"
            ],
            [
             0.2222222222222222,
             "#7201a8"
            ],
            [
             0.3333333333333333,
             "#9c179e"
            ],
            [
             0.4444444444444444,
             "#bd3786"
            ],
            [
             0.5555555555555556,
             "#d8576b"
            ],
            [
             0.6666666666666666,
             "#ed7953"
            ],
            [
             0.7777777777777778,
             "#fb9f3a"
            ],
            [
             0.8888888888888888,
             "#fdca26"
            ],
            [
             1,
             "#f0f921"
            ]
           ]
          },
          "colorway": [
           "#636efa",
           "#EF553B",
           "#00cc96",
           "#ab63fa",
           "#FFA15A",
           "#19d3f3",
           "#FF6692",
           "#B6E880",
           "#FF97FF",
           "#FECB52"
          ],
          "font": {
           "color": "#2a3f5f"
          },
          "geo": {
           "bgcolor": "white",
           "lakecolor": "white",
           "landcolor": "#E5ECF6",
           "showlakes": true,
           "showland": true,
           "subunitcolor": "white"
          },
          "hoverlabel": {
           "align": "left"
          },
          "hovermode": "closest",
          "mapbox": {
           "style": "light"
          },
          "paper_bgcolor": "white",
          "plot_bgcolor": "#E5ECF6",
          "polar": {
           "angularaxis": {
            "gridcolor": "white",
            "linecolor": "white",
            "ticks": ""
           },
           "bgcolor": "#E5ECF6",
           "radialaxis": {
            "gridcolor": "white",
            "linecolor": "white",
            "ticks": ""
           }
          },
          "scene": {
           "xaxis": {
            "backgroundcolor": "#E5ECF6",
            "gridcolor": "white",
            "gridwidth": 2,
            "linecolor": "white",
            "showbackground": true,
            "ticks": "",
            "zerolinecolor": "white"
           },
           "yaxis": {
            "backgroundcolor": "#E5ECF6",
            "gridcolor": "white",
            "gridwidth": 2,
            "linecolor": "white",
            "showbackground": true,
            "ticks": "",
            "zerolinecolor": "white"
           },
           "zaxis": {
            "backgroundcolor": "#E5ECF6",
            "gridcolor": "white",
            "gridwidth": 2,
            "linecolor": "white",
            "showbackground": true,
            "ticks": "",
            "zerolinecolor": "white"
           }
          },
          "shapedefaults": {
           "line": {
            "color": "#2a3f5f"
           }
          },
          "ternary": {
           "aaxis": {
            "gridcolor": "white",
            "linecolor": "white",
            "ticks": ""
           },
           "baxis": {
            "gridcolor": "white",
            "linecolor": "white",
            "ticks": ""
           },
           "bgcolor": "#E5ECF6",
           "caxis": {
            "gridcolor": "white",
            "linecolor": "white",
            "ticks": ""
           }
          },
          "title": {
           "x": 0.05
          },
          "xaxis": {
           "automargin": true,
           "gridcolor": "white",
           "linecolor": "white",
           "ticks": "",
           "title": {
            "standoff": 15
           },
           "zerolinecolor": "white",
           "zerolinewidth": 2
          },
          "yaxis": {
           "automargin": true,
           "gridcolor": "white",
           "linecolor": "white",
           "ticks": "",
           "title": {
            "standoff": 15
           },
           "zerolinecolor": "white",
           "zerolinewidth": 2
          }
         }
        },
        "xaxis": {
         "anchor": "y",
         "domain": [
          0,
          1
         ],
         "title": {
          "text": "Support"
         }
        },
        "yaxis": {
         "anchor": "x",
         "domain": [
          0,
          1
         ],
         "title": {
          "text": "Confidence"
         }
        }
       }
      },
      "text/html": [
       "<div>                            <div id=\"7afd33f5-18d9-4474-a2ec-89ca6e6feaf8\" class=\"plotly-graph-div\" style=\"height:525px; width:100%;\"></div>            <script type=\"text/javascript\">                require([\"plotly\"], function(Plotly) {                    window.PLOTLYENV=window.PLOTLYENV || {};                                    if (document.getElementById(\"7afd33f5-18d9-4474-a2ec-89ca6e6feaf8\")) {                    Plotly.newPlot(                        \"7afd33f5-18d9-4474-a2ec-89ca6e6feaf8\",                        [{\"customdata\":[[[],[\"Burning of urethra\"]],[[],[\"Lumbar pain\"]],[[],[\"Micturition pains\"]],[[],[\"Occurrence of nausea\"]],[[],[\"Urine pushing\"]],[[],[\"Burning of urethra\",\"Lumbar pain\"]],[[\"Burning of urethra\"],[\"Lumbar pain\"]],[[\"Lumbar pain\"],[\"Burning of urethra\"]],[[],[\"Burning of urethra\",\"Urine pushing\"]],[[\"Burning of urethra\"],[\"Urine pushing\"]],[[\"Urine pushing\"],[\"Burning of urethra\"]],[[],[\"Micturition pains\",\"Lumbar pain\"]],[[\"Lumbar pain\"],[\"Micturition pains\"]],[[\"Micturition pains\"],[\"Lumbar pain\"]],[[],[\"Lumbar pain\",\"Occurrence of nausea\"]],[[\"Lumbar pain\"],[\"Occurrence of nausea\"]],[[\"Occurrence of nausea\"],[\"Lumbar pain\"]],[[],[\"Lumbar pain\",\"Urine pushing\"]],[[\"Lumbar pain\"],[\"Urine pushing\"]],[[\"Urine pushing\"],[\"Lumbar pain\"]],[[],[\"Micturition pains\",\"Occurrence of nausea\"]],[[\"Micturition pains\"],[\"Occurrence of nausea\"]],[[\"Occurrence of nausea\"],[\"Micturition pains\"]],[[\"Micturition pains\"],[\"Urine pushing\"]],[[\"Occurrence of nausea\"],[\"Urine pushing\"]],[[],[\"Burning of urethra\",\"Lumbar pain\",\"Urine pushing\"]],[[\"Burning of urethra\"],[\"Lumbar pain\",\"Urine pushing\"]],[[\"Lumbar pain\"],[\"Burning of urethra\",\"Urine pushing\"]],[[\"Urine pushing\"],[\"Burning of urethra\",\"Lumbar pain\"]],[[\"Burning of urethra\",\"Lumbar pain\"],[\"Urine pushing\"]],[[\"Burning of urethra\",\"Urine pushing\"],[\"Lumbar pain\"]],[[\"Lumbar pain\",\"Urine pushing\"],[\"Burning of urethra\"]],[[],[\"Micturition pains\",\"Lumbar pain\",\"Occurrence of nausea\"]],[[\"Lumbar pain\"],[\"Micturition pains\",\"Occurrence of nausea\"]],[[\"Micturition pains\"],[\"Lumbar pain\",\"Occurrence of nausea\"]],[[\"Occurrence of nausea\"],[\"Micturition pains\",\"Lumbar pain\"]],[[\"Micturition pains\",\"Lumbar pain\"],[\"Occurrence of nausea\"]],[[\"Lumbar pain\",\"Occurrence of nausea\"],[\"Micturition pains\"]],[[\"Micturition pains\",\"Occurrence of nausea\"],[\"Lumbar pain\"]],[[\"Micturition pains\"],[\"Lumbar pain\",\"Urine pushing\"]],[[\"Micturition pains\",\"Lumbar pain\"],[\"Urine pushing\"]],[[\"Micturition pains\",\"Urine pushing\"],[\"Lumbar pain\"]],[[\"Occurrence of nausea\"],[\"Lumbar pain\",\"Urine pushing\"]],[[\"Lumbar pain\",\"Occurrence of nausea\"],[\"Urine pushing\"]],[[\"Occurrence of nausea\",\"Urine pushing\"],[\"Lumbar pain\"]],[[\"Micturition pains\"],[\"Occurrence of nausea\",\"Urine pushing\"]],[[\"Occurrence of nausea\"],[\"Micturition pains\",\"Urine pushing\"]],[[\"Micturition pains\",\"Occurrence of nausea\"],[\"Urine pushing\"]],[[\"Micturition pains\",\"Urine pushing\"],[\"Occurrence of nausea\"]],[[\"Occurrence of nausea\",\"Urine pushing\"],[\"Micturition pains\"]],[[\"Micturition pains\"],[\"Lumbar pain\",\"Urine pushing\",\"Occurrence of nausea\"]],[[\"Occurrence of nausea\"],[\"Micturition pains\",\"Lumbar pain\",\"Urine pushing\"]],[[\"Micturition pains\",\"Lumbar pain\"],[\"Occurrence of nausea\",\"Urine pushing\"]],[[\"Lumbar pain\",\"Occurrence of nausea\"],[\"Micturition pains\",\"Urine pushing\"]],[[\"Micturition pains\",\"Occurrence of nausea\"],[\"Lumbar pain\",\"Urine pushing\"]],[[\"Micturition pains\",\"Urine pushing\"],[\"Lumbar pain\",\"Occurrence of nausea\"]],[[\"Occurrence of nausea\",\"Urine pushing\"],[\"Micturition pains\",\"Lumbar pain\"]],[[\"Micturition pains\",\"Lumbar pain\",\"Occurrence of nausea\"],[\"Urine pushing\"]],[[\"Micturition pains\",\"Lumbar pain\",\"Urine pushing\"],[\"Occurrence of nausea\"]],[[\"Lumbar pain\",\"Urine pushing\",\"Occurrence of nausea\"],[\"Micturition pains\"]],[[\"Micturition pains\",\"Occurrence of nausea\",\"Urine pushing\"],[\"Lumbar pain\"]]],\"hovertemplate\":\"Support=%{x}<br>Confidence=%{y}<br>LHS=%{customdata[0]}<br>RHS=%{customdata[1]}<br>Lift=%{marker.color}<extra></extra>\",\"legendgroup\":\"\",\"marker\":{\"color\":[1.0,1.0,1.0,1.0,1.0,1.0,1.0,1.0,1.0,1.25,1.2499999999999998,1.0,1.0,1.0,1.0,1.0,1.0,1.0,1.0,1.0,1.0,1.7241379310344829,1.7241379310344829,0.8189655172413793,0.8189655172413793,1.0,1.25,1.0,1.2499999999999998,1.25,1.0,1.2499999999999998,1.0,1.0,1.7241379310344829,1.7241379310344829,1.7241379310344829,1.7241379310344829,1.0,0.8189655172413793,0.8189655172413793,1.0,0.8189655172413793,0.8189655172413793,1.0,1.7241379310344829,1.7241379310344829,0.8189655172413793,1.7241379310344829,1.7241379310344829,1.7241379310344829,1.7241379310344829,1.7241379310344829,1.7241379310344829,0.8189655172413793,1.7241379310344829,1.7241379310344829,0.8189655172413793,1.7241379310344829,1.7241379310344829,1.0],\"coloraxis\":\"coloraxis\",\"symbol\":\"circle\"},\"mode\":\"markers\",\"name\":\"\",\"orientation\":\"v\",\"showlegend\":false,\"x\":[0.6,1.0,0.58,0.58,0.8,0.6,0.6,0.6,0.6,0.6,0.6,0.58,0.58,0.58,0.58,0.58,0.58,0.8,0.8,0.8,0.58,0.58,0.58,0.38,0.38,0.6,0.6,0.6,0.6,0.6,0.6,0.6,0.58,0.58,0.58,0.58,0.58,0.58,0.58,0.38,0.38,0.38,0.38,0.38,0.38,0.38,0.38,0.38,0.38,0.38,0.38,0.38,0.38,0.38,0.38,0.38,0.38,0.38,0.38,0.38,0.38],\"xaxis\":\"x\",\"y\":[0.6,1.0,0.58,0.58,0.8,0.6,1.0,0.6,0.6,1.0,0.7499999999999999,0.58,0.58,1.0,0.58,0.58,1.0,0.8,0.8,1.0,0.58,1.0,1.0,0.6551724137931035,0.6551724137931035,0.6,1.0,0.6,0.7499999999999999,1.0,1.0,0.7499999999999999,0.58,0.58,1.0,1.0,1.0,1.0,1.0,0.6551724137931035,0.6551724137931035,1.0,0.6551724137931035,0.6551724137931035,1.0,0.6551724137931035,0.6551724137931035,0.6551724137931035,1.0,1.0,0.6551724137931035,0.6551724137931035,0.6551724137931035,0.6551724137931035,0.6551724137931035,1.0,1.0,0.6551724137931035,1.0,1.0,1.0],\"yaxis\":\"y\",\"type\":\"scatter\"}],                        {\"template\":{\"data\":{\"histogram2dcontour\":[{\"type\":\"histogram2dcontour\",\"colorbar\":{\"outlinewidth\":0,\"ticks\":\"\"},\"colorscale\":[[0.0,\"#0d0887\"],[0.1111111111111111,\"#46039f\"],[0.2222222222222222,\"#7201a8\"],[0.3333333333333333,\"#9c179e\"],[0.4444444444444444,\"#bd3786\"],[0.5555555555555556,\"#d8576b\"],[0.6666666666666666,\"#ed7953\"],[0.7777777777777778,\"#fb9f3a\"],[0.8888888888888888,\"#fdca26\"],[1.0,\"#f0f921\"]]}],\"choropleth\":[{\"type\":\"choropleth\",\"colorbar\":{\"outlinewidth\":0,\"ticks\":\"\"}}],\"histogram2d\":[{\"type\":\"histogram2d\",\"colorbar\":{\"outlinewidth\":0,\"ticks\":\"\"},\"colorscale\":[[0.0,\"#0d0887\"],[0.1111111111111111,\"#46039f\"],[0.2222222222222222,\"#7201a8\"],[0.3333333333333333,\"#9c179e\"],[0.4444444444444444,\"#bd3786\"],[0.5555555555555556,\"#d8576b\"],[0.6666666666666666,\"#ed7953\"],[0.7777777777777778,\"#fb9f3a\"],[0.8888888888888888,\"#fdca26\"],[1.0,\"#f0f921\"]]}],\"heatmap\":[{\"type\":\"heatmap\",\"colorbar\":{\"outlinewidth\":0,\"ticks\":\"\"},\"colorscale\":[[0.0,\"#0d0887\"],[0.1111111111111111,\"#46039f\"],[0.2222222222222222,\"#7201a8\"],[0.3333333333333333,\"#9c179e\"],[0.4444444444444444,\"#bd3786\"],[0.5555555555555556,\"#d8576b\"],[0.6666666666666666,\"#ed7953\"],[0.7777777777777778,\"#fb9f3a\"],[0.8888888888888888,\"#fdca26\"],[1.0,\"#f0f921\"]]}],\"heatmapgl\":[{\"type\":\"heatmapgl\",\"colorbar\":{\"outlinewidth\":0,\"ticks\":\"\"},\"colorscale\":[[0.0,\"#0d0887\"],[0.1111111111111111,\"#46039f\"],[0.2222222222222222,\"#7201a8\"],[0.3333333333333333,\"#9c179e\"],[0.4444444444444444,\"#bd3786\"],[0.5555555555555556,\"#d8576b\"],[0.6666666666666666,\"#ed7953\"],[0.7777777777777778,\"#fb9f3a\"],[0.8888888888888888,\"#fdca26\"],[1.0,\"#f0f921\"]]}],\"contourcarpet\":[{\"type\":\"contourcarpet\",\"colorbar\":{\"outlinewidth\":0,\"ticks\":\"\"}}],\"contour\":[{\"type\":\"contour\",\"colorbar\":{\"outlinewidth\":0,\"ticks\":\"\"},\"colorscale\":[[0.0,\"#0d0887\"],[0.1111111111111111,\"#46039f\"],[0.2222222222222222,\"#7201a8\"],[0.3333333333333333,\"#9c179e\"],[0.4444444444444444,\"#bd3786\"],[0.5555555555555556,\"#d8576b\"],[0.6666666666666666,\"#ed7953\"],[0.7777777777777778,\"#fb9f3a\"],[0.8888888888888888,\"#fdca26\"],[1.0,\"#f0f921\"]]}],\"surface\":[{\"type\":\"surface\",\"colorbar\":{\"outlinewidth\":0,\"ticks\":\"\"},\"colorscale\":[[0.0,\"#0d0887\"],[0.1111111111111111,\"#46039f\"],[0.2222222222222222,\"#7201a8\"],[0.3333333333333333,\"#9c179e\"],[0.4444444444444444,\"#bd3786\"],[0.5555555555555556,\"#d8576b\"],[0.6666666666666666,\"#ed7953\"],[0.7777777777777778,\"#fb9f3a\"],[0.8888888888888888,\"#fdca26\"],[1.0,\"#f0f921\"]]}],\"mesh3d\":[{\"type\":\"mesh3d\",\"colorbar\":{\"outlinewidth\":0,\"ticks\":\"\"}}],\"scatter\":[{\"fillpattern\":{\"fillmode\":\"overlay\",\"size\":10,\"solidity\":0.2},\"type\":\"scatter\"}],\"parcoords\":[{\"type\":\"parcoords\",\"line\":{\"colorbar\":{\"outlinewidth\":0,\"ticks\":\"\"}}}],\"scatterpolargl\":[{\"type\":\"scatterpolargl\",\"marker\":{\"colorbar\":{\"outlinewidth\":0,\"ticks\":\"\"}}}],\"bar\":[{\"error_x\":{\"color\":\"#2a3f5f\"},\"error_y\":{\"color\":\"#2a3f5f\"},\"marker\":{\"line\":{\"color\":\"#E5ECF6\",\"width\":0.5},\"pattern\":{\"fillmode\":\"overlay\",\"size\":10,\"solidity\":0.2}},\"type\":\"bar\"}],\"scattergeo\":[{\"type\":\"scattergeo\",\"marker\":{\"colorbar\":{\"outlinewidth\":0,\"ticks\":\"\"}}}],\"scatterpolar\":[{\"type\":\"scatterpolar\",\"marker\":{\"colorbar\":{\"outlinewidth\":0,\"ticks\":\"\"}}}],\"histogram\":[{\"marker\":{\"pattern\":{\"fillmode\":\"overlay\",\"size\":10,\"solidity\":0.2}},\"type\":\"histogram\"}],\"scattergl\":[{\"type\":\"scattergl\",\"marker\":{\"colorbar\":{\"outlinewidth\":0,\"ticks\":\"\"}}}],\"scatter3d\":[{\"type\":\"scatter3d\",\"line\":{\"colorbar\":{\"outlinewidth\":0,\"ticks\":\"\"}},\"marker\":{\"colorbar\":{\"outlinewidth\":0,\"ticks\":\"\"}}}],\"scattermapbox\":[{\"type\":\"scattermapbox\",\"marker\":{\"colorbar\":{\"outlinewidth\":0,\"ticks\":\"\"}}}],\"scatterternary\":[{\"type\":\"scatterternary\",\"marker\":{\"colorbar\":{\"outlinewidth\":0,\"ticks\":\"\"}}}],\"scattercarpet\":[{\"type\":\"scattercarpet\",\"marker\":{\"colorbar\":{\"outlinewidth\":0,\"ticks\":\"\"}}}],\"carpet\":[{\"aaxis\":{\"endlinecolor\":\"#2a3f5f\",\"gridcolor\":\"white\",\"linecolor\":\"white\",\"minorgridcolor\":\"white\",\"startlinecolor\":\"#2a3f5f\"},\"baxis\":{\"endlinecolor\":\"#2a3f5f\",\"gridcolor\":\"white\",\"linecolor\":\"white\",\"minorgridcolor\":\"white\",\"startlinecolor\":\"#2a3f5f\"},\"type\":\"carpet\"}],\"table\":[{\"cells\":{\"fill\":{\"color\":\"#EBF0F8\"},\"line\":{\"color\":\"white\"}},\"header\":{\"fill\":{\"color\":\"#C8D4E3\"},\"line\":{\"color\":\"white\"}},\"type\":\"table\"}],\"barpolar\":[{\"marker\":{\"line\":{\"color\":\"#E5ECF6\",\"width\":0.5},\"pattern\":{\"fillmode\":\"overlay\",\"size\":10,\"solidity\":0.2}},\"type\":\"barpolar\"}],\"pie\":[{\"automargin\":true,\"type\":\"pie\"}]},\"layout\":{\"autotypenumbers\":\"strict\",\"colorway\":[\"#636efa\",\"#EF553B\",\"#00cc96\",\"#ab63fa\",\"#FFA15A\",\"#19d3f3\",\"#FF6692\",\"#B6E880\",\"#FF97FF\",\"#FECB52\"],\"font\":{\"color\":\"#2a3f5f\"},\"hovermode\":\"closest\",\"hoverlabel\":{\"align\":\"left\"},\"paper_bgcolor\":\"white\",\"plot_bgcolor\":\"#E5ECF6\",\"polar\":{\"bgcolor\":\"#E5ECF6\",\"angularaxis\":{\"gridcolor\":\"white\",\"linecolor\":\"white\",\"ticks\":\"\"},\"radialaxis\":{\"gridcolor\":\"white\",\"linecolor\":\"white\",\"ticks\":\"\"}},\"ternary\":{\"bgcolor\":\"#E5ECF6\",\"aaxis\":{\"gridcolor\":\"white\",\"linecolor\":\"white\",\"ticks\":\"\"},\"baxis\":{\"gridcolor\":\"white\",\"linecolor\":\"white\",\"ticks\":\"\"},\"caxis\":{\"gridcolor\":\"white\",\"linecolor\":\"white\",\"ticks\":\"\"}},\"coloraxis\":{\"colorbar\":{\"outlinewidth\":0,\"ticks\":\"\"}},\"colorscale\":{\"sequential\":[[0.0,\"#0d0887\"],[0.1111111111111111,\"#46039f\"],[0.2222222222222222,\"#7201a8\"],[0.3333333333333333,\"#9c179e\"],[0.4444444444444444,\"#bd3786\"],[0.5555555555555556,\"#d8576b\"],[0.6666666666666666,\"#ed7953\"],[0.7777777777777778,\"#fb9f3a\"],[0.8888888888888888,\"#fdca26\"],[1.0,\"#f0f921\"]],\"sequentialminus\":[[0.0,\"#0d0887\"],[0.1111111111111111,\"#46039f\"],[0.2222222222222222,\"#7201a8\"],[0.3333333333333333,\"#9c179e\"],[0.4444444444444444,\"#bd3786\"],[0.5555555555555556,\"#d8576b\"],[0.6666666666666666,\"#ed7953\"],[0.7777777777777778,\"#fb9f3a\"],[0.8888888888888888,\"#fdca26\"],[1.0,\"#f0f921\"]],\"diverging\":[[0,\"#8e0152\"],[0.1,\"#c51b7d\"],[0.2,\"#de77ae\"],[0.3,\"#f1b6da\"],[0.4,\"#fde0ef\"],[0.5,\"#f7f7f7\"],[0.6,\"#e6f5d0\"],[0.7,\"#b8e186\"],[0.8,\"#7fbc41\"],[0.9,\"#4d9221\"],[1,\"#276419\"]]},\"xaxis\":{\"gridcolor\":\"white\",\"linecolor\":\"white\",\"ticks\":\"\",\"title\":{\"standoff\":15},\"zerolinecolor\":\"white\",\"automargin\":true,\"zerolinewidth\":2},\"yaxis\":{\"gridcolor\":\"white\",\"linecolor\":\"white\",\"ticks\":\"\",\"title\":{\"standoff\":15},\"zerolinecolor\":\"white\",\"automargin\":true,\"zerolinewidth\":2},\"scene\":{\"xaxis\":{\"backgroundcolor\":\"#E5ECF6\",\"gridcolor\":\"white\",\"linecolor\":\"white\",\"showbackground\":true,\"ticks\":\"\",\"zerolinecolor\":\"white\",\"gridwidth\":2},\"yaxis\":{\"backgroundcolor\":\"#E5ECF6\",\"gridcolor\":\"white\",\"linecolor\":\"white\",\"showbackground\":true,\"ticks\":\"\",\"zerolinecolor\":\"white\",\"gridwidth\":2},\"zaxis\":{\"backgroundcolor\":\"#E5ECF6\",\"gridcolor\":\"white\",\"linecolor\":\"white\",\"showbackground\":true,\"ticks\":\"\",\"zerolinecolor\":\"white\",\"gridwidth\":2}},\"shapedefaults\":{\"line\":{\"color\":\"#2a3f5f\"}},\"annotationdefaults\":{\"arrowcolor\":\"#2a3f5f\",\"arrowhead\":0,\"arrowwidth\":1},\"geo\":{\"bgcolor\":\"white\",\"landcolor\":\"#E5ECF6\",\"subunitcolor\":\"white\",\"showland\":true,\"showlakes\":true,\"lakecolor\":\"white\"},\"title\":{\"x\":0.05},\"mapbox\":{\"style\":\"light\"}}},\"xaxis\":{\"anchor\":\"y\",\"domain\":[0.0,1.0],\"title\":{\"text\":\"Support\"}},\"yaxis\":{\"anchor\":\"x\",\"domain\":[0.0,1.0],\"title\":{\"text\":\"Confidence\"}},\"coloraxis\":{\"colorbar\":{\"title\":{\"text\":\"Lift\"}},\"colorscale\":[[0.0,\"rgb(75, 41, 145)\"],[0.16666666666666666,\"rgb(135, 44, 162)\"],[0.3333333333333333,\"rgb(192, 54, 157)\"],[0.5,\"rgb(234, 79, 136)\"],[0.6666666666666666,\"rgb(250, 120, 118)\"],[0.8333333333333334,\"rgb(246, 169, 122)\"],[1.0,\"rgb(237, 217, 163)\"]]},\"legend\":{\"tracegroupgap\":0},\"margin\":{\"t\":60}},                        {\"responsive\": true}                    ).then(function(){\n",
       "                            \n",
       "var gd = document.getElementById('7afd33f5-18d9-4474-a2ec-89ca6e6feaf8');\n",
       "var x = new MutationObserver(function (mutations, observer) {{\n",
       "        var display = window.getComputedStyle(gd).display;\n",
       "        if (!display || display === 'none') {{\n",
       "            console.log([gd, 'removed!']);\n",
       "            Plotly.purge(gd);\n",
       "            observer.disconnect();\n",
       "        }}\n",
       "}});\n",
       "\n",
       "// Listen for the removal of the full notebook cells\n",
       "var notebookContainer = gd.closest('#notebook-container');\n",
       "if (notebookContainer) {{\n",
       "    x.observe(notebookContainer, {childList: true});\n",
       "}}\n",
       "\n",
       "// Listen for the clearing of the current output cell\n",
       "var outputEl = gd.closest('.output');\n",
       "if (outputEl) {{\n",
       "    x.observe(outputEl, {childList: true});\n",
       "}}\n",
       "\n",
       "                        })                };                });            </script>        </div>"
      ]
     },
     "metadata": {},
     "output_type": "display_data"
    }
   ],
   "source": [
    "Rules_B = list(apriori(Nephritis_of_renal_pelvis_origin, min_support=0.2, min_confidence=0.5))\n",
    "associationRules_B = utils.extract(Rules_B)\n",
    "rules_df2 = pd.DataFrame(associationRules_B, columns=['LHS', 'RHS', 'Support', 'Confidence', 'Lift'])\n",
    "\n",
    "fig = px.scatter(rules_df2, x='Support', y='Confidence', color='Lift',\n",
    "                 hover_data=['LHS', 'RHS'], color_continuous_scale='agsunset')\n",
    "fig.show()"
   ]
  },
  {
   "cell_type": "code",
   "execution_count": 112,
   "id": "7d2b5b2d",
   "metadata": {
    "scrolled": true
   },
   "outputs": [
    {
     "data": {
      "text/html": [
       "<div>\n",
       "<style scoped>\n",
       "    .dataframe tbody tr th:only-of-type {\n",
       "        vertical-align: middle;\n",
       "    }\n",
       "\n",
       "    .dataframe tbody tr th {\n",
       "        vertical-align: top;\n",
       "    }\n",
       "\n",
       "    .dataframe thead th {\n",
       "        text-align: right;\n",
       "    }\n",
       "</style>\n",
       "<table border=\"1\" class=\"dataframe\">\n",
       "  <thead>\n",
       "    <tr style=\"text-align: right;\">\n",
       "      <th></th>\n",
       "      <th>LHS</th>\n",
       "      <th>RHS</th>\n",
       "      <th>Support</th>\n",
       "      <th>Confidence</th>\n",
       "      <th>Lift</th>\n",
       "    </tr>\n",
       "  </thead>\n",
       "  <tbody>\n",
       "    <tr>\n",
       "      <th>22</th>\n",
       "      <td>[Occurrence of nausea]</td>\n",
       "      <td>[Micturition pains]</td>\n",
       "      <td>0.58</td>\n",
       "      <td>1.000000</td>\n",
       "      <td>1.724138</td>\n",
       "    </tr>\n",
       "    <tr>\n",
       "      <th>35</th>\n",
       "      <td>[Occurrence of nausea]</td>\n",
       "      <td>[Micturition pains, Lumbar pain]</td>\n",
       "      <td>0.58</td>\n",
       "      <td>1.000000</td>\n",
       "      <td>1.724138</td>\n",
       "    </tr>\n",
       "    <tr>\n",
       "      <th>37</th>\n",
       "      <td>[Lumbar pain, Occurrence of nausea]</td>\n",
       "      <td>[Micturition pains]</td>\n",
       "      <td>0.58</td>\n",
       "      <td>1.000000</td>\n",
       "      <td>1.724138</td>\n",
       "    </tr>\n",
       "    <tr>\n",
       "      <th>46</th>\n",
       "      <td>[Occurrence of nausea]</td>\n",
       "      <td>[Micturition pains, Urine pushing]</td>\n",
       "      <td>0.38</td>\n",
       "      <td>0.655172</td>\n",
       "      <td>1.724138</td>\n",
       "    </tr>\n",
       "    <tr>\n",
       "      <th>49</th>\n",
       "      <td>[Occurrence of nausea, Urine pushing]</td>\n",
       "      <td>[Micturition pains]</td>\n",
       "      <td>0.38</td>\n",
       "      <td>1.000000</td>\n",
       "      <td>1.724138</td>\n",
       "    </tr>\n",
       "  </tbody>\n",
       "</table>\n",
       "</div>"
      ],
      "text/plain": [
       "                                      LHS                                 RHS  \\\n",
       "22                 [Occurrence of nausea]                 [Micturition pains]   \n",
       "35                 [Occurrence of nausea]    [Micturition pains, Lumbar pain]   \n",
       "37    [Lumbar pain, Occurrence of nausea]                 [Micturition pains]   \n",
       "46                 [Occurrence of nausea]  [Micturition pains, Urine pushing]   \n",
       "49  [Occurrence of nausea, Urine pushing]                 [Micturition pains]   \n",
       "\n",
       "    Support  Confidence      Lift  \n",
       "22     0.58    1.000000  1.724138  \n",
       "35     0.58    1.000000  1.724138  \n",
       "37     0.58    1.000000  1.724138  \n",
       "46     0.38    0.655172  1.724138  \n",
       "49     0.38    1.000000  1.724138  "
      ]
     },
     "execution_count": 112,
     "metadata": {},
     "output_type": "execute_result"
    }
   ],
   "source": [
    "Rules_B = list(apriori(Nephritis_of_renal_pelvis_origin, min_support=0.2, min_confidence=0.5, max_length=3))\n",
    "associationRules_B = utils.extract(Rules_B)\n",
    "rules_df2 = pd.DataFrame(associationRules_B, columns=['LHS', 'RHS', 'Support', 'Confidence', 'Lift'])\n",
    "\n",
    "Micturition_pains_rules_B = rules_df2[rules_df2['RHS'].apply(lambda x: 'Micturition pains' in x)].sort_values(by=['Lift'], ascending=False)\n",
    "Micturition_pains_rules_B.head()"
   ]
  },
  {
   "cell_type": "code",
   "execution_count": 113,
   "id": "16b0d10a",
   "metadata": {},
   "outputs": [
    {
     "data": {
      "application/vnd.plotly.v1+json": {
       "config": {
        "plotlyServerURL": "https://plot.ly"
       },
       "data": [
        {
         "customdata": [
          [
           [
            "Occurrence of nausea"
           ],
           [
            "Micturition pains"
           ]
          ],
          [
           [
            "Occurrence of nausea"
           ],
           [
            "Micturition pains",
            "Lumbar pain"
           ]
          ],
          [
           [
            "Lumbar pain",
            "Occurrence of nausea"
           ],
           [
            "Micturition pains"
           ]
          ],
          [
           [
            "Occurrence of nausea"
           ],
           [
            "Micturition pains",
            "Urine pushing"
           ]
          ],
          [
           [
            "Occurrence of nausea",
            "Urine pushing"
           ],
           [
            "Micturition pains"
           ]
          ],
          [
           [],
           [
            "Micturition pains"
           ]
          ],
          [
           [],
           [
            "Micturition pains",
            "Lumbar pain"
           ]
          ],
          [
           [
            "Lumbar pain"
           ],
           [
            "Micturition pains"
           ]
          ],
          [
           [],
           [
            "Micturition pains",
            "Occurrence of nausea"
           ]
          ],
          [
           [],
           [
            "Micturition pains",
            "Lumbar pain",
            "Occurrence of nausea"
           ]
          ],
          [
           [
            "Lumbar pain"
           ],
           [
            "Micturition pains",
            "Occurrence of nausea"
           ]
          ]
         ],
         "hovertemplate": "Support=%{x}<br>Confidence=%{y}<br>LHS=%{customdata[0]}<br>RHS=%{customdata[1]}<br>Lift=%{marker.color}<extra></extra>",
         "legendgroup": "",
         "marker": {
          "color": [
           1.7241379310344829,
           1.7241379310344829,
           1.7241379310344829,
           1.7241379310344829,
           1.7241379310344829,
           1,
           1,
           1,
           1,
           1,
           1
          ],
          "coloraxis": "coloraxis",
          "symbol": "circle"
         },
         "mode": "markers",
         "name": "",
         "orientation": "v",
         "showlegend": false,
         "type": "scatter",
         "x": [
          0.58,
          0.58,
          0.58,
          0.38,
          0.38,
          0.58,
          0.58,
          0.58,
          0.58,
          0.58,
          0.58
         ],
         "xaxis": "x",
         "y": [
          1,
          1,
          1,
          0.6551724137931035,
          1,
          0.58,
          0.58,
          0.58,
          0.58,
          0.58,
          0.58
         ],
         "yaxis": "y"
        }
       ],
       "layout": {
        "coloraxis": {
         "colorbar": {
          "title": {
           "text": "Lift"
          }
         },
         "colorscale": [
          [
           0,
           "rgb(75, 41, 145)"
          ],
          [
           0.16666666666666666,
           "rgb(135, 44, 162)"
          ],
          [
           0.3333333333333333,
           "rgb(192, 54, 157)"
          ],
          [
           0.5,
           "rgb(234, 79, 136)"
          ],
          [
           0.6666666666666666,
           "rgb(250, 120, 118)"
          ],
          [
           0.8333333333333334,
           "rgb(246, 169, 122)"
          ],
          [
           1,
           "rgb(237, 217, 163)"
          ]
         ]
        },
        "legend": {
         "tracegroupgap": 0
        },
        "margin": {
         "t": 60
        },
        "template": {
         "data": {
          "bar": [
           {
            "error_x": {
             "color": "#2a3f5f"
            },
            "error_y": {
             "color": "#2a3f5f"
            },
            "marker": {
             "line": {
              "color": "#E5ECF6",
              "width": 0.5
             },
             "pattern": {
              "fillmode": "overlay",
              "size": 10,
              "solidity": 0.2
             }
            },
            "type": "bar"
           }
          ],
          "barpolar": [
           {
            "marker": {
             "line": {
              "color": "#E5ECF6",
              "width": 0.5
             },
             "pattern": {
              "fillmode": "overlay",
              "size": 10,
              "solidity": 0.2
             }
            },
            "type": "barpolar"
           }
          ],
          "carpet": [
           {
            "aaxis": {
             "endlinecolor": "#2a3f5f",
             "gridcolor": "white",
             "linecolor": "white",
             "minorgridcolor": "white",
             "startlinecolor": "#2a3f5f"
            },
            "baxis": {
             "endlinecolor": "#2a3f5f",
             "gridcolor": "white",
             "linecolor": "white",
             "minorgridcolor": "white",
             "startlinecolor": "#2a3f5f"
            },
            "type": "carpet"
           }
          ],
          "choropleth": [
           {
            "colorbar": {
             "outlinewidth": 0,
             "ticks": ""
            },
            "type": "choropleth"
           }
          ],
          "contour": [
           {
            "colorbar": {
             "outlinewidth": 0,
             "ticks": ""
            },
            "colorscale": [
             [
              0,
              "#0d0887"
             ],
             [
              0.1111111111111111,
              "#46039f"
             ],
             [
              0.2222222222222222,
              "#7201a8"
             ],
             [
              0.3333333333333333,
              "#9c179e"
             ],
             [
              0.4444444444444444,
              "#bd3786"
             ],
             [
              0.5555555555555556,
              "#d8576b"
             ],
             [
              0.6666666666666666,
              "#ed7953"
             ],
             [
              0.7777777777777778,
              "#fb9f3a"
             ],
             [
              0.8888888888888888,
              "#fdca26"
             ],
             [
              1,
              "#f0f921"
             ]
            ],
            "type": "contour"
           }
          ],
          "contourcarpet": [
           {
            "colorbar": {
             "outlinewidth": 0,
             "ticks": ""
            },
            "type": "contourcarpet"
           }
          ],
          "heatmap": [
           {
            "colorbar": {
             "outlinewidth": 0,
             "ticks": ""
            },
            "colorscale": [
             [
              0,
              "#0d0887"
             ],
             [
              0.1111111111111111,
              "#46039f"
             ],
             [
              0.2222222222222222,
              "#7201a8"
             ],
             [
              0.3333333333333333,
              "#9c179e"
             ],
             [
              0.4444444444444444,
              "#bd3786"
             ],
             [
              0.5555555555555556,
              "#d8576b"
             ],
             [
              0.6666666666666666,
              "#ed7953"
             ],
             [
              0.7777777777777778,
              "#fb9f3a"
             ],
             [
              0.8888888888888888,
              "#fdca26"
             ],
             [
              1,
              "#f0f921"
             ]
            ],
            "type": "heatmap"
           }
          ],
          "heatmapgl": [
           {
            "colorbar": {
             "outlinewidth": 0,
             "ticks": ""
            },
            "colorscale": [
             [
              0,
              "#0d0887"
             ],
             [
              0.1111111111111111,
              "#46039f"
             ],
             [
              0.2222222222222222,
              "#7201a8"
             ],
             [
              0.3333333333333333,
              "#9c179e"
             ],
             [
              0.4444444444444444,
              "#bd3786"
             ],
             [
              0.5555555555555556,
              "#d8576b"
             ],
             [
              0.6666666666666666,
              "#ed7953"
             ],
             [
              0.7777777777777778,
              "#fb9f3a"
             ],
             [
              0.8888888888888888,
              "#fdca26"
             ],
             [
              1,
              "#f0f921"
             ]
            ],
            "type": "heatmapgl"
           }
          ],
          "histogram": [
           {
            "marker": {
             "pattern": {
              "fillmode": "overlay",
              "size": 10,
              "solidity": 0.2
             }
            },
            "type": "histogram"
           }
          ],
          "histogram2d": [
           {
            "colorbar": {
             "outlinewidth": 0,
             "ticks": ""
            },
            "colorscale": [
             [
              0,
              "#0d0887"
             ],
             [
              0.1111111111111111,
              "#46039f"
             ],
             [
              0.2222222222222222,
              "#7201a8"
             ],
             [
              0.3333333333333333,
              "#9c179e"
             ],
             [
              0.4444444444444444,
              "#bd3786"
             ],
             [
              0.5555555555555556,
              "#d8576b"
             ],
             [
              0.6666666666666666,
              "#ed7953"
             ],
             [
              0.7777777777777778,
              "#fb9f3a"
             ],
             [
              0.8888888888888888,
              "#fdca26"
             ],
             [
              1,
              "#f0f921"
             ]
            ],
            "type": "histogram2d"
           }
          ],
          "histogram2dcontour": [
           {
            "colorbar": {
             "outlinewidth": 0,
             "ticks": ""
            },
            "colorscale": [
             [
              0,
              "#0d0887"
             ],
             [
              0.1111111111111111,
              "#46039f"
             ],
             [
              0.2222222222222222,
              "#7201a8"
             ],
             [
              0.3333333333333333,
              "#9c179e"
             ],
             [
              0.4444444444444444,
              "#bd3786"
             ],
             [
              0.5555555555555556,
              "#d8576b"
             ],
             [
              0.6666666666666666,
              "#ed7953"
             ],
             [
              0.7777777777777778,
              "#fb9f3a"
             ],
             [
              0.8888888888888888,
              "#fdca26"
             ],
             [
              1,
              "#f0f921"
             ]
            ],
            "type": "histogram2dcontour"
           }
          ],
          "mesh3d": [
           {
            "colorbar": {
             "outlinewidth": 0,
             "ticks": ""
            },
            "type": "mesh3d"
           }
          ],
          "parcoords": [
           {
            "line": {
             "colorbar": {
              "outlinewidth": 0,
              "ticks": ""
             }
            },
            "type": "parcoords"
           }
          ],
          "pie": [
           {
            "automargin": true,
            "type": "pie"
           }
          ],
          "scatter": [
           {
            "fillpattern": {
             "fillmode": "overlay",
             "size": 10,
             "solidity": 0.2
            },
            "type": "scatter"
           }
          ],
          "scatter3d": [
           {
            "line": {
             "colorbar": {
              "outlinewidth": 0,
              "ticks": ""
             }
            },
            "marker": {
             "colorbar": {
              "outlinewidth": 0,
              "ticks": ""
             }
            },
            "type": "scatter3d"
           }
          ],
          "scattercarpet": [
           {
            "marker": {
             "colorbar": {
              "outlinewidth": 0,
              "ticks": ""
             }
            },
            "type": "scattercarpet"
           }
          ],
          "scattergeo": [
           {
            "marker": {
             "colorbar": {
              "outlinewidth": 0,
              "ticks": ""
             }
            },
            "type": "scattergeo"
           }
          ],
          "scattergl": [
           {
            "marker": {
             "colorbar": {
              "outlinewidth": 0,
              "ticks": ""
             }
            },
            "type": "scattergl"
           }
          ],
          "scattermapbox": [
           {
            "marker": {
             "colorbar": {
              "outlinewidth": 0,
              "ticks": ""
             }
            },
            "type": "scattermapbox"
           }
          ],
          "scatterpolar": [
           {
            "marker": {
             "colorbar": {
              "outlinewidth": 0,
              "ticks": ""
             }
            },
            "type": "scatterpolar"
           }
          ],
          "scatterpolargl": [
           {
            "marker": {
             "colorbar": {
              "outlinewidth": 0,
              "ticks": ""
             }
            },
            "type": "scatterpolargl"
           }
          ],
          "scatterternary": [
           {
            "marker": {
             "colorbar": {
              "outlinewidth": 0,
              "ticks": ""
             }
            },
            "type": "scatterternary"
           }
          ],
          "surface": [
           {
            "colorbar": {
             "outlinewidth": 0,
             "ticks": ""
            },
            "colorscale": [
             [
              0,
              "#0d0887"
             ],
             [
              0.1111111111111111,
              "#46039f"
             ],
             [
              0.2222222222222222,
              "#7201a8"
             ],
             [
              0.3333333333333333,
              "#9c179e"
             ],
             [
              0.4444444444444444,
              "#bd3786"
             ],
             [
              0.5555555555555556,
              "#d8576b"
             ],
             [
              0.6666666666666666,
              "#ed7953"
             ],
             [
              0.7777777777777778,
              "#fb9f3a"
             ],
             [
              0.8888888888888888,
              "#fdca26"
             ],
             [
              1,
              "#f0f921"
             ]
            ],
            "type": "surface"
           }
          ],
          "table": [
           {
            "cells": {
             "fill": {
              "color": "#EBF0F8"
             },
             "line": {
              "color": "white"
             }
            },
            "header": {
             "fill": {
              "color": "#C8D4E3"
             },
             "line": {
              "color": "white"
             }
            },
            "type": "table"
           }
          ]
         },
         "layout": {
          "annotationdefaults": {
           "arrowcolor": "#2a3f5f",
           "arrowhead": 0,
           "arrowwidth": 1
          },
          "autotypenumbers": "strict",
          "coloraxis": {
           "colorbar": {
            "outlinewidth": 0,
            "ticks": ""
           }
          },
          "colorscale": {
           "diverging": [
            [
             0,
             "#8e0152"
            ],
            [
             0.1,
             "#c51b7d"
            ],
            [
             0.2,
             "#de77ae"
            ],
            [
             0.3,
             "#f1b6da"
            ],
            [
             0.4,
             "#fde0ef"
            ],
            [
             0.5,
             "#f7f7f7"
            ],
            [
             0.6,
             "#e6f5d0"
            ],
            [
             0.7,
             "#b8e186"
            ],
            [
             0.8,
             "#7fbc41"
            ],
            [
             0.9,
             "#4d9221"
            ],
            [
             1,
             "#276419"
            ]
           ],
           "sequential": [
            [
             0,
             "#0d0887"
            ],
            [
             0.1111111111111111,
             "#46039f"
            ],
            [
             0.2222222222222222,
             "#7201a8"
            ],
            [
             0.3333333333333333,
             "#9c179e"
            ],
            [
             0.4444444444444444,
             "#bd3786"
            ],
            [
             0.5555555555555556,
             "#d8576b"
            ],
            [
             0.6666666666666666,
             "#ed7953"
            ],
            [
             0.7777777777777778,
             "#fb9f3a"
            ],
            [
             0.8888888888888888,
             "#fdca26"
            ],
            [
             1,
             "#f0f921"
            ]
           ],
           "sequentialminus": [
            [
             0,
             "#0d0887"
            ],
            [
             0.1111111111111111,
             "#46039f"
            ],
            [
             0.2222222222222222,
             "#7201a8"
            ],
            [
             0.3333333333333333,
             "#9c179e"
            ],
            [
             0.4444444444444444,
             "#bd3786"
            ],
            [
             0.5555555555555556,
             "#d8576b"
            ],
            [
             0.6666666666666666,
             "#ed7953"
            ],
            [
             0.7777777777777778,
             "#fb9f3a"
            ],
            [
             0.8888888888888888,
             "#fdca26"
            ],
            [
             1,
             "#f0f921"
            ]
           ]
          },
          "colorway": [
           "#636efa",
           "#EF553B",
           "#00cc96",
           "#ab63fa",
           "#FFA15A",
           "#19d3f3",
           "#FF6692",
           "#B6E880",
           "#FF97FF",
           "#FECB52"
          ],
          "font": {
           "color": "#2a3f5f"
          },
          "geo": {
           "bgcolor": "white",
           "lakecolor": "white",
           "landcolor": "#E5ECF6",
           "showlakes": true,
           "showland": true,
           "subunitcolor": "white"
          },
          "hoverlabel": {
           "align": "left"
          },
          "hovermode": "closest",
          "mapbox": {
           "style": "light"
          },
          "paper_bgcolor": "white",
          "plot_bgcolor": "#E5ECF6",
          "polar": {
           "angularaxis": {
            "gridcolor": "white",
            "linecolor": "white",
            "ticks": ""
           },
           "bgcolor": "#E5ECF6",
           "radialaxis": {
            "gridcolor": "white",
            "linecolor": "white",
            "ticks": ""
           }
          },
          "scene": {
           "xaxis": {
            "backgroundcolor": "#E5ECF6",
            "gridcolor": "white",
            "gridwidth": 2,
            "linecolor": "white",
            "showbackground": true,
            "ticks": "",
            "zerolinecolor": "white"
           },
           "yaxis": {
            "backgroundcolor": "#E5ECF6",
            "gridcolor": "white",
            "gridwidth": 2,
            "linecolor": "white",
            "showbackground": true,
            "ticks": "",
            "zerolinecolor": "white"
           },
           "zaxis": {
            "backgroundcolor": "#E5ECF6",
            "gridcolor": "white",
            "gridwidth": 2,
            "linecolor": "white",
            "showbackground": true,
            "ticks": "",
            "zerolinecolor": "white"
           }
          },
          "shapedefaults": {
           "line": {
            "color": "#2a3f5f"
           }
          },
          "ternary": {
           "aaxis": {
            "gridcolor": "white",
            "linecolor": "white",
            "ticks": ""
           },
           "baxis": {
            "gridcolor": "white",
            "linecolor": "white",
            "ticks": ""
           },
           "bgcolor": "#E5ECF6",
           "caxis": {
            "gridcolor": "white",
            "linecolor": "white",
            "ticks": ""
           }
          },
          "title": {
           "x": 0.05
          },
          "xaxis": {
           "automargin": true,
           "gridcolor": "white",
           "linecolor": "white",
           "ticks": "",
           "title": {
            "standoff": 15
           },
           "zerolinecolor": "white",
           "zerolinewidth": 2
          },
          "yaxis": {
           "automargin": true,
           "gridcolor": "white",
           "linecolor": "white",
           "ticks": "",
           "title": {
            "standoff": 15
           },
           "zerolinecolor": "white",
           "zerolinewidth": 2
          }
         }
        },
        "xaxis": {
         "anchor": "y",
         "domain": [
          0,
          1
         ],
         "title": {
          "text": "Support"
         }
        },
        "yaxis": {
         "anchor": "x",
         "domain": [
          0,
          1
         ],
         "title": {
          "text": "Confidence"
         }
        }
       }
      },
      "text/html": [
       "<div>                            <div id=\"3c6f0aba-99d4-42de-b22a-73203210a968\" class=\"plotly-graph-div\" style=\"height:525px; width:100%;\"></div>            <script type=\"text/javascript\">                require([\"plotly\"], function(Plotly) {                    window.PLOTLYENV=window.PLOTLYENV || {};                                    if (document.getElementById(\"3c6f0aba-99d4-42de-b22a-73203210a968\")) {                    Plotly.newPlot(                        \"3c6f0aba-99d4-42de-b22a-73203210a968\",                        [{\"customdata\":[[[\"Occurrence of nausea\"],[\"Micturition pains\"]],[[\"Occurrence of nausea\"],[\"Micturition pains\",\"Lumbar pain\"]],[[\"Lumbar pain\",\"Occurrence of nausea\"],[\"Micturition pains\"]],[[\"Occurrence of nausea\"],[\"Micturition pains\",\"Urine pushing\"]],[[\"Occurrence of nausea\",\"Urine pushing\"],[\"Micturition pains\"]],[[],[\"Micturition pains\"]],[[],[\"Micturition pains\",\"Lumbar pain\"]],[[\"Lumbar pain\"],[\"Micturition pains\"]],[[],[\"Micturition pains\",\"Occurrence of nausea\"]],[[],[\"Micturition pains\",\"Lumbar pain\",\"Occurrence of nausea\"]],[[\"Lumbar pain\"],[\"Micturition pains\",\"Occurrence of nausea\"]]],\"hovertemplate\":\"Support=%{x}<br>Confidence=%{y}<br>LHS=%{customdata[0]}<br>RHS=%{customdata[1]}<br>Lift=%{marker.color}<extra></extra>\",\"legendgroup\":\"\",\"marker\":{\"color\":[1.7241379310344829,1.7241379310344829,1.7241379310344829,1.7241379310344829,1.7241379310344829,1.0,1.0,1.0,1.0,1.0,1.0],\"coloraxis\":\"coloraxis\",\"symbol\":\"circle\"},\"mode\":\"markers\",\"name\":\"\",\"orientation\":\"v\",\"showlegend\":false,\"x\":[0.58,0.58,0.58,0.38,0.38,0.58,0.58,0.58,0.58,0.58,0.58],\"xaxis\":\"x\",\"y\":[1.0,1.0,1.0,0.6551724137931035,1.0,0.58,0.58,0.58,0.58,0.58,0.58],\"yaxis\":\"y\",\"type\":\"scatter\"}],                        {\"template\":{\"data\":{\"histogram2dcontour\":[{\"type\":\"histogram2dcontour\",\"colorbar\":{\"outlinewidth\":0,\"ticks\":\"\"},\"colorscale\":[[0.0,\"#0d0887\"],[0.1111111111111111,\"#46039f\"],[0.2222222222222222,\"#7201a8\"],[0.3333333333333333,\"#9c179e\"],[0.4444444444444444,\"#bd3786\"],[0.5555555555555556,\"#d8576b\"],[0.6666666666666666,\"#ed7953\"],[0.7777777777777778,\"#fb9f3a\"],[0.8888888888888888,\"#fdca26\"],[1.0,\"#f0f921\"]]}],\"choropleth\":[{\"type\":\"choropleth\",\"colorbar\":{\"outlinewidth\":0,\"ticks\":\"\"}}],\"histogram2d\":[{\"type\":\"histogram2d\",\"colorbar\":{\"outlinewidth\":0,\"ticks\":\"\"},\"colorscale\":[[0.0,\"#0d0887\"],[0.1111111111111111,\"#46039f\"],[0.2222222222222222,\"#7201a8\"],[0.3333333333333333,\"#9c179e\"],[0.4444444444444444,\"#bd3786\"],[0.5555555555555556,\"#d8576b\"],[0.6666666666666666,\"#ed7953\"],[0.7777777777777778,\"#fb9f3a\"],[0.8888888888888888,\"#fdca26\"],[1.0,\"#f0f921\"]]}],\"heatmap\":[{\"type\":\"heatmap\",\"colorbar\":{\"outlinewidth\":0,\"ticks\":\"\"},\"colorscale\":[[0.0,\"#0d0887\"],[0.1111111111111111,\"#46039f\"],[0.2222222222222222,\"#7201a8\"],[0.3333333333333333,\"#9c179e\"],[0.4444444444444444,\"#bd3786\"],[0.5555555555555556,\"#d8576b\"],[0.6666666666666666,\"#ed7953\"],[0.7777777777777778,\"#fb9f3a\"],[0.8888888888888888,\"#fdca26\"],[1.0,\"#f0f921\"]]}],\"heatmapgl\":[{\"type\":\"heatmapgl\",\"colorbar\":{\"outlinewidth\":0,\"ticks\":\"\"},\"colorscale\":[[0.0,\"#0d0887\"],[0.1111111111111111,\"#46039f\"],[0.2222222222222222,\"#7201a8\"],[0.3333333333333333,\"#9c179e\"],[0.4444444444444444,\"#bd3786\"],[0.5555555555555556,\"#d8576b\"],[0.6666666666666666,\"#ed7953\"],[0.7777777777777778,\"#fb9f3a\"],[0.8888888888888888,\"#fdca26\"],[1.0,\"#f0f921\"]]}],\"contourcarpet\":[{\"type\":\"contourcarpet\",\"colorbar\":{\"outlinewidth\":0,\"ticks\":\"\"}}],\"contour\":[{\"type\":\"contour\",\"colorbar\":{\"outlinewidth\":0,\"ticks\":\"\"},\"colorscale\":[[0.0,\"#0d0887\"],[0.1111111111111111,\"#46039f\"],[0.2222222222222222,\"#7201a8\"],[0.3333333333333333,\"#9c179e\"],[0.4444444444444444,\"#bd3786\"],[0.5555555555555556,\"#d8576b\"],[0.6666666666666666,\"#ed7953\"],[0.7777777777777778,\"#fb9f3a\"],[0.8888888888888888,\"#fdca26\"],[1.0,\"#f0f921\"]]}],\"surface\":[{\"type\":\"surface\",\"colorbar\":{\"outlinewidth\":0,\"ticks\":\"\"},\"colorscale\":[[0.0,\"#0d0887\"],[0.1111111111111111,\"#46039f\"],[0.2222222222222222,\"#7201a8\"],[0.3333333333333333,\"#9c179e\"],[0.4444444444444444,\"#bd3786\"],[0.5555555555555556,\"#d8576b\"],[0.6666666666666666,\"#ed7953\"],[0.7777777777777778,\"#fb9f3a\"],[0.8888888888888888,\"#fdca26\"],[1.0,\"#f0f921\"]]}],\"mesh3d\":[{\"type\":\"mesh3d\",\"colorbar\":{\"outlinewidth\":0,\"ticks\":\"\"}}],\"scatter\":[{\"fillpattern\":{\"fillmode\":\"overlay\",\"size\":10,\"solidity\":0.2},\"type\":\"scatter\"}],\"parcoords\":[{\"type\":\"parcoords\",\"line\":{\"colorbar\":{\"outlinewidth\":0,\"ticks\":\"\"}}}],\"scatterpolargl\":[{\"type\":\"scatterpolargl\",\"marker\":{\"colorbar\":{\"outlinewidth\":0,\"ticks\":\"\"}}}],\"bar\":[{\"error_x\":{\"color\":\"#2a3f5f\"},\"error_y\":{\"color\":\"#2a3f5f\"},\"marker\":{\"line\":{\"color\":\"#E5ECF6\",\"width\":0.5},\"pattern\":{\"fillmode\":\"overlay\",\"size\":10,\"solidity\":0.2}},\"type\":\"bar\"}],\"scattergeo\":[{\"type\":\"scattergeo\",\"marker\":{\"colorbar\":{\"outlinewidth\":0,\"ticks\":\"\"}}}],\"scatterpolar\":[{\"type\":\"scatterpolar\",\"marker\":{\"colorbar\":{\"outlinewidth\":0,\"ticks\":\"\"}}}],\"histogram\":[{\"marker\":{\"pattern\":{\"fillmode\":\"overlay\",\"size\":10,\"solidity\":0.2}},\"type\":\"histogram\"}],\"scattergl\":[{\"type\":\"scattergl\",\"marker\":{\"colorbar\":{\"outlinewidth\":0,\"ticks\":\"\"}}}],\"scatter3d\":[{\"type\":\"scatter3d\",\"line\":{\"colorbar\":{\"outlinewidth\":0,\"ticks\":\"\"}},\"marker\":{\"colorbar\":{\"outlinewidth\":0,\"ticks\":\"\"}}}],\"scattermapbox\":[{\"type\":\"scattermapbox\",\"marker\":{\"colorbar\":{\"outlinewidth\":0,\"ticks\":\"\"}}}],\"scatterternary\":[{\"type\":\"scatterternary\",\"marker\":{\"colorbar\":{\"outlinewidth\":0,\"ticks\":\"\"}}}],\"scattercarpet\":[{\"type\":\"scattercarpet\",\"marker\":{\"colorbar\":{\"outlinewidth\":0,\"ticks\":\"\"}}}],\"carpet\":[{\"aaxis\":{\"endlinecolor\":\"#2a3f5f\",\"gridcolor\":\"white\",\"linecolor\":\"white\",\"minorgridcolor\":\"white\",\"startlinecolor\":\"#2a3f5f\"},\"baxis\":{\"endlinecolor\":\"#2a3f5f\",\"gridcolor\":\"white\",\"linecolor\":\"white\",\"minorgridcolor\":\"white\",\"startlinecolor\":\"#2a3f5f\"},\"type\":\"carpet\"}],\"table\":[{\"cells\":{\"fill\":{\"color\":\"#EBF0F8\"},\"line\":{\"color\":\"white\"}},\"header\":{\"fill\":{\"color\":\"#C8D4E3\"},\"line\":{\"color\":\"white\"}},\"type\":\"table\"}],\"barpolar\":[{\"marker\":{\"line\":{\"color\":\"#E5ECF6\",\"width\":0.5},\"pattern\":{\"fillmode\":\"overlay\",\"size\":10,\"solidity\":0.2}},\"type\":\"barpolar\"}],\"pie\":[{\"automargin\":true,\"type\":\"pie\"}]},\"layout\":{\"autotypenumbers\":\"strict\",\"colorway\":[\"#636efa\",\"#EF553B\",\"#00cc96\",\"#ab63fa\",\"#FFA15A\",\"#19d3f3\",\"#FF6692\",\"#B6E880\",\"#FF97FF\",\"#FECB52\"],\"font\":{\"color\":\"#2a3f5f\"},\"hovermode\":\"closest\",\"hoverlabel\":{\"align\":\"left\"},\"paper_bgcolor\":\"white\",\"plot_bgcolor\":\"#E5ECF6\",\"polar\":{\"bgcolor\":\"#E5ECF6\",\"angularaxis\":{\"gridcolor\":\"white\",\"linecolor\":\"white\",\"ticks\":\"\"},\"radialaxis\":{\"gridcolor\":\"white\",\"linecolor\":\"white\",\"ticks\":\"\"}},\"ternary\":{\"bgcolor\":\"#E5ECF6\",\"aaxis\":{\"gridcolor\":\"white\",\"linecolor\":\"white\",\"ticks\":\"\"},\"baxis\":{\"gridcolor\":\"white\",\"linecolor\":\"white\",\"ticks\":\"\"},\"caxis\":{\"gridcolor\":\"white\",\"linecolor\":\"white\",\"ticks\":\"\"}},\"coloraxis\":{\"colorbar\":{\"outlinewidth\":0,\"ticks\":\"\"}},\"colorscale\":{\"sequential\":[[0.0,\"#0d0887\"],[0.1111111111111111,\"#46039f\"],[0.2222222222222222,\"#7201a8\"],[0.3333333333333333,\"#9c179e\"],[0.4444444444444444,\"#bd3786\"],[0.5555555555555556,\"#d8576b\"],[0.6666666666666666,\"#ed7953\"],[0.7777777777777778,\"#fb9f3a\"],[0.8888888888888888,\"#fdca26\"],[1.0,\"#f0f921\"]],\"sequentialminus\":[[0.0,\"#0d0887\"],[0.1111111111111111,\"#46039f\"],[0.2222222222222222,\"#7201a8\"],[0.3333333333333333,\"#9c179e\"],[0.4444444444444444,\"#bd3786\"],[0.5555555555555556,\"#d8576b\"],[0.6666666666666666,\"#ed7953\"],[0.7777777777777778,\"#fb9f3a\"],[0.8888888888888888,\"#fdca26\"],[1.0,\"#f0f921\"]],\"diverging\":[[0,\"#8e0152\"],[0.1,\"#c51b7d\"],[0.2,\"#de77ae\"],[0.3,\"#f1b6da\"],[0.4,\"#fde0ef\"],[0.5,\"#f7f7f7\"],[0.6,\"#e6f5d0\"],[0.7,\"#b8e186\"],[0.8,\"#7fbc41\"],[0.9,\"#4d9221\"],[1,\"#276419\"]]},\"xaxis\":{\"gridcolor\":\"white\",\"linecolor\":\"white\",\"ticks\":\"\",\"title\":{\"standoff\":15},\"zerolinecolor\":\"white\",\"automargin\":true,\"zerolinewidth\":2},\"yaxis\":{\"gridcolor\":\"white\",\"linecolor\":\"white\",\"ticks\":\"\",\"title\":{\"standoff\":15},\"zerolinecolor\":\"white\",\"automargin\":true,\"zerolinewidth\":2},\"scene\":{\"xaxis\":{\"backgroundcolor\":\"#E5ECF6\",\"gridcolor\":\"white\",\"linecolor\":\"white\",\"showbackground\":true,\"ticks\":\"\",\"zerolinecolor\":\"white\",\"gridwidth\":2},\"yaxis\":{\"backgroundcolor\":\"#E5ECF6\",\"gridcolor\":\"white\",\"linecolor\":\"white\",\"showbackground\":true,\"ticks\":\"\",\"zerolinecolor\":\"white\",\"gridwidth\":2},\"zaxis\":{\"backgroundcolor\":\"#E5ECF6\",\"gridcolor\":\"white\",\"linecolor\":\"white\",\"showbackground\":true,\"ticks\":\"\",\"zerolinecolor\":\"white\",\"gridwidth\":2}},\"shapedefaults\":{\"line\":{\"color\":\"#2a3f5f\"}},\"annotationdefaults\":{\"arrowcolor\":\"#2a3f5f\",\"arrowhead\":0,\"arrowwidth\":1},\"geo\":{\"bgcolor\":\"white\",\"landcolor\":\"#E5ECF6\",\"subunitcolor\":\"white\",\"showland\":true,\"showlakes\":true,\"lakecolor\":\"white\"},\"title\":{\"x\":0.05},\"mapbox\":{\"style\":\"light\"}}},\"xaxis\":{\"anchor\":\"y\",\"domain\":[0.0,1.0],\"title\":{\"text\":\"Support\"}},\"yaxis\":{\"anchor\":\"x\",\"domain\":[0.0,1.0],\"title\":{\"text\":\"Confidence\"}},\"coloraxis\":{\"colorbar\":{\"title\":{\"text\":\"Lift\"}},\"colorscale\":[[0.0,\"rgb(75, 41, 145)\"],[0.16666666666666666,\"rgb(135, 44, 162)\"],[0.3333333333333333,\"rgb(192, 54, 157)\"],[0.5,\"rgb(234, 79, 136)\"],[0.6666666666666666,\"rgb(250, 120, 118)\"],[0.8333333333333334,\"rgb(246, 169, 122)\"],[1.0,\"rgb(237, 217, 163)\"]]},\"legend\":{\"tracegroupgap\":0},\"margin\":{\"t\":60}},                        {\"responsive\": true}                    ).then(function(){\n",
       "                            \n",
       "var gd = document.getElementById('3c6f0aba-99d4-42de-b22a-73203210a968');\n",
       "var x = new MutationObserver(function (mutations, observer) {{\n",
       "        var display = window.getComputedStyle(gd).display;\n",
       "        if (!display || display === 'none') {{\n",
       "            console.log([gd, 'removed!']);\n",
       "            Plotly.purge(gd);\n",
       "            observer.disconnect();\n",
       "        }}\n",
       "}});\n",
       "\n",
       "// Listen for the removal of the full notebook cells\n",
       "var notebookContainer = gd.closest('#notebook-container');\n",
       "if (notebookContainer) {{\n",
       "    x.observe(notebookContainer, {childList: true});\n",
       "}}\n",
       "\n",
       "// Listen for the clearing of the current output cell\n",
       "var outputEl = gd.closest('.output');\n",
       "if (outputEl) {{\n",
       "    x.observe(outputEl, {childList: true});\n",
       "}}\n",
       "\n",
       "                        })                };                });            </script>        </div>"
      ]
     },
     "metadata": {},
     "output_type": "display_data"
    }
   ],
   "source": [
    "fig = px.scatter(Micturition_pains_rules_B, x='Support', y='Confidence', color='Lift',\n",
    "                 hover_data=['LHS', 'RHS'], color_continuous_scale='agsunset')\n",
    "fig.show()"
   ]
  }
 ],
 "metadata": {
  "kernelspec": {
   "display_name": "Python 3 (ipykernel)",
   "language": "python",
   "name": "python3"
  },
  "language_info": {
   "codemirror_mode": {
    "name": "ipython",
    "version": 3
   },
   "file_extension": ".py",
   "mimetype": "text/x-python",
   "name": "python",
   "nbconvert_exporter": "python",
   "pygments_lexer": "ipython3",
   "version": "3.10.6"
  }
 },
 "nbformat": 4,
 "nbformat_minor": 5
}
